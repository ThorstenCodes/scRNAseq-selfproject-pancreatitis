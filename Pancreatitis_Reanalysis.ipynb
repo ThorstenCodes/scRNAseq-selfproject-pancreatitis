{
 "cells": [
  {
   "cell_type": "markdown",
   "id": "04c5269e-5806-433e-80fd-6adfdcf67973",
   "metadata": {},
   "source": [
    "# Pancreatitis scRNA-seq Data - Reananalysis"
   ]
  },
  {
   "cell_type": "code",
   "execution_count": 2,
   "id": "f29ca7c4-ecbc-490b-9ed9-e9b75b047851",
   "metadata": {
    "execution": {
     "iopub.execute_input": "2025-07-24T21:38:20.613899Z",
     "iopub.status.busy": "2025-07-24T21:38:20.610070Z",
     "iopub.status.idle": "2025-07-24T21:38:26.689261Z",
     "shell.execute_reply": "2025-07-24T21:38:26.688914Z",
     "shell.execute_reply.started": "2025-07-24T21:38:20.613791Z"
    }
   },
   "outputs": [],
   "source": [
    "import scanpy as sc\n",
    "import scvi"
   ]
  },
  {
   "cell_type": "code",
   "execution_count": 10,
   "id": "6adfef90-4e7d-43b0-99ef-65470d69815b",
   "metadata": {
    "execution": {
     "iopub.execute_input": "2025-07-24T21:46:11.878437Z",
     "iopub.status.busy": "2025-07-24T21:46:11.876217Z",
     "iopub.status.idle": "2025-07-24T21:47:14.699643Z",
     "shell.execute_reply": "2025-07-24T21:47:14.698833Z",
     "shell.execute_reply.started": "2025-07-24T21:46:11.878322Z"
    }
   },
   "outputs": [],
   "source": [
    "adata = sc.read_text('rawdata/GSE181276_genes.counts_for_GEO_uploading.txt').T"
   ]
  },
  {
   "cell_type": "code",
   "execution_count": 34,
   "id": "1bf69669-92a1-44ff-87e2-9165b225163b",
   "metadata": {
    "execution": {
     "iopub.execute_input": "2025-07-25T22:49:56.348408Z",
     "iopub.status.busy": "2025-07-25T22:49:56.347605Z",
     "iopub.status.idle": "2025-07-25T22:49:56.370002Z",
     "shell.execute_reply": "2025-07-25T22:49:56.368672Z",
     "shell.execute_reply.started": "2025-07-25T22:49:56.348346Z"
    }
   },
   "outputs": [
    {
     "data": {
      "text/html": [
       "<div>\n",
       "<style scoped>\n",
       "    .dataframe tbody tr th:only-of-type {\n",
       "        vertical-align: middle;\n",
       "    }\n",
       "\n",
       "    .dataframe tbody tr th {\n",
       "        vertical-align: top;\n",
       "    }\n",
       "\n",
       "    .dataframe thead th {\n",
       "        text-align: right;\n",
       "    }\n",
       "</style>\n",
       "<table border=\"1\" class=\"dataframe\">\n",
       "  <thead>\n",
       "    <tr style=\"text-align: right;\">\n",
       "      <th></th>\n",
       "      <th>n_cells</th>\n",
       "      <th>highly_variable</th>\n",
       "      <th>highly_variable_rank</th>\n",
       "      <th>means</th>\n",
       "      <th>variances</th>\n",
       "      <th>variances_norm</th>\n",
       "    </tr>\n",
       "  </thead>\n",
       "  <tbody>\n",
       "    <tr>\n",
       "      <th>Sox17</th>\n",
       "      <td>995</td>\n",
       "      <td>True</td>\n",
       "      <td>952.0</td>\n",
       "      <td>0.070158</td>\n",
       "      <td>0.338813</td>\n",
       "      <td>0.778727</td>\n",
       "    </tr>\n",
       "    <tr>\n",
       "      <th>St18</th>\n",
       "      <td>471</td>\n",
       "      <td>True</td>\n",
       "      <td>1379.0</td>\n",
       "      <td>0.034263</td>\n",
       "      <td>0.126855</td>\n",
       "      <td>0.576267</td>\n",
       "    </tr>\n",
       "    <tr>\n",
       "      <th>Sbspon</th>\n",
       "      <td>1810</td>\n",
       "      <td>True</td>\n",
       "      <td>817.0</td>\n",
       "      <td>0.138208</td>\n",
       "      <td>0.707650</td>\n",
       "      <td>0.892606</td>\n",
       "    </tr>\n",
       "    <tr>\n",
       "      <th>Rdh10</th>\n",
       "      <td>9712</td>\n",
       "      <td>True</td>\n",
       "      <td>1294.0</td>\n",
       "      <td>0.988005</td>\n",
       "      <td>6.635307</td>\n",
       "      <td>0.605559</td>\n",
       "    </tr>\n",
       "    <tr>\n",
       "      <th>Gdap1</th>\n",
       "      <td>449</td>\n",
       "      <td>True</td>\n",
       "      <td>1776.0</td>\n",
       "      <td>0.027256</td>\n",
       "      <td>0.081145</td>\n",
       "      <td>0.464792</td>\n",
       "    </tr>\n",
       "    <tr>\n",
       "      <th>...</th>\n",
       "      <td>...</td>\n",
       "      <td>...</td>\n",
       "      <td>...</td>\n",
       "      <td>...</td>\n",
       "      <td>...</td>\n",
       "      <td>...</td>\n",
       "    </tr>\n",
       "    <tr>\n",
       "      <th>Adra2a</th>\n",
       "      <td>646</td>\n",
       "      <td>True</td>\n",
       "      <td>855.0</td>\n",
       "      <td>0.042962</td>\n",
       "      <td>0.234823</td>\n",
       "      <td>0.859430</td>\n",
       "    </tr>\n",
       "    <tr>\n",
       "      <th>Habp2</th>\n",
       "      <td>1600</td>\n",
       "      <td>True</td>\n",
       "      <td>1820.0</td>\n",
       "      <td>0.081322</td>\n",
       "      <td>0.224414</td>\n",
       "      <td>0.454574</td>\n",
       "    </tr>\n",
       "    <tr>\n",
       "      <th>Pnlip</th>\n",
       "      <td>25481</td>\n",
       "      <td>True</td>\n",
       "      <td>742.0</td>\n",
       "      <td>104.450907</td>\n",
       "      <td>234857.664343</td>\n",
       "      <td>0.966904</td>\n",
       "    </tr>\n",
       "    <tr>\n",
       "      <th>Pnliprp1</th>\n",
       "      <td>23241</td>\n",
       "      <td>True</td>\n",
       "      <td>720.0</td>\n",
       "      <td>45.855883</td>\n",
       "      <td>37249.587246</td>\n",
       "      <td>1.003806</td>\n",
       "    </tr>\n",
       "    <tr>\n",
       "      <th>Pnliprp2</th>\n",
       "      <td>15290</td>\n",
       "      <td>True</td>\n",
       "      <td>644.0</td>\n",
       "      <td>9.480033</td>\n",
       "      <td>1141.665761</td>\n",
       "      <td>1.100333</td>\n",
       "    </tr>\n",
       "  </tbody>\n",
       "</table>\n",
       "<p>2000 rows × 6 columns</p>\n",
       "</div>"
      ],
      "text/plain": [
       "          n_cells  highly_variable  highly_variable_rank       means  \\\n",
       "Sox17         995             True                 952.0    0.070158   \n",
       "St18          471             True                1379.0    0.034263   \n",
       "Sbspon       1810             True                 817.0    0.138208   \n",
       "Rdh10        9712             True                1294.0    0.988005   \n",
       "Gdap1         449             True                1776.0    0.027256   \n",
       "...           ...              ...                   ...         ...   \n",
       "Adra2a        646             True                 855.0    0.042962   \n",
       "Habp2        1600             True                1820.0    0.081322   \n",
       "Pnlip       25481             True                 742.0  104.450907   \n",
       "Pnliprp1    23241             True                 720.0   45.855883   \n",
       "Pnliprp2    15290             True                 644.0    9.480033   \n",
       "\n",
       "              variances  variances_norm  \n",
       "Sox17          0.338813        0.778727  \n",
       "St18           0.126855        0.576267  \n",
       "Sbspon         0.707650        0.892606  \n",
       "Rdh10          6.635307        0.605559  \n",
       "Gdap1          0.081145        0.464792  \n",
       "...                 ...             ...  \n",
       "Adra2a         0.234823        0.859430  \n",
       "Habp2          0.224414        0.454574  \n",
       "Pnlip     234857.664343        0.966904  \n",
       "Pnliprp1   37249.587246        1.003806  \n",
       "Pnliprp2    1141.665761        1.100333  \n",
       "\n",
       "[2000 rows x 6 columns]"
      ]
     },
     "execution_count": 34,
     "metadata": {},
     "output_type": "execute_result"
    }
   ],
   "source": [
    "adata"
   ]
  },
  {
   "cell_type": "code",
   "execution_count": 16,
   "id": "ac2201af-ba94-462b-a651-00ac9bd5119d",
   "metadata": {
    "execution": {
     "iopub.execute_input": "2025-07-25T21:57:46.113694Z",
     "iopub.status.busy": "2025-07-25T21:57:46.113020Z",
     "iopub.status.idle": "2025-07-25T21:57:46.124767Z",
     "shell.execute_reply": "2025-07-25T21:57:46.123535Z",
     "shell.execute_reply.started": "2025-07-25T21:57:46.113659Z"
    }
   },
   "outputs": [
    {
     "data": {
      "text/plain": [
       "(33681, 31053)"
      ]
     },
     "execution_count": 16,
     "metadata": {},
     "output_type": "execute_result"
    }
   ],
   "source": [
    "adata.X.shape"
   ]
  },
  {
   "cell_type": "code",
   "execution_count": 18,
   "id": "aec87f72-d1d9-4e3c-8150-c09541b9a815",
   "metadata": {
    "execution": {
     "iopub.execute_input": "2025-07-25T21:58:55.068926Z",
     "iopub.status.busy": "2025-07-25T21:58:55.066522Z",
     "iopub.status.idle": "2025-07-25T21:58:55.080070Z",
     "shell.execute_reply": "2025-07-25T21:58:55.079153Z",
     "shell.execute_reply.started": "2025-07-25T21:58:55.068779Z"
    }
   },
   "outputs": [],
   "source": [
    "Total_gene_number = adata.shape[1]"
   ]
  },
  {
   "cell_type": "code",
   "execution_count": 19,
   "id": "e594ed4f-19ab-42b6-a919-e61960149c08",
   "metadata": {
    "execution": {
     "iopub.execute_input": "2025-07-25T21:59:50.913302Z",
     "iopub.status.busy": "2025-07-25T21:59:50.912847Z",
     "iopub.status.idle": "2025-07-25T21:59:57.562700Z",
     "shell.execute_reply": "2025-07-25T21:59:57.561928Z",
     "shell.execute_reply.started": "2025-07-25T21:59:50.913270Z"
    }
   },
   "outputs": [],
   "source": [
    "# Filter to remove genes occuring in less than 10 cells\n",
    "sc.pp.filter_genes(adata, min_cells=10)"
   ]
  },
  {
   "cell_type": "code",
   "execution_count": 21,
   "id": "7f45f34f-a41a-4dac-9ba2-6b8692c1c02c",
   "metadata": {
    "execution": {
     "iopub.execute_input": "2025-07-25T22:02:00.646525Z",
     "iopub.status.busy": "2025-07-25T22:02:00.645752Z",
     "iopub.status.idle": "2025-07-25T22:02:00.653119Z",
     "shell.execute_reply": "2025-07-25T22:02:00.651657Z",
     "shell.execute_reply.started": "2025-07-25T22:02:00.646486Z"
    }
   },
   "outputs": [],
   "source": [
    "Gene_Number_after_filtering = adata.shape[1]"
   ]
  },
  {
   "cell_type": "code",
   "execution_count": 24,
   "id": "626fd948-b398-4934-832b-f4c317149467",
   "metadata": {
    "execution": {
     "iopub.execute_input": "2025-07-25T22:03:34.910206Z",
     "iopub.status.busy": "2025-07-25T22:03:34.909516Z",
     "iopub.status.idle": "2025-07-25T22:03:34.916017Z",
     "shell.execute_reply": "2025-07-25T22:03:34.915307Z",
     "shell.execute_reply.started": "2025-07-25T22:03:34.910171Z"
    }
   },
   "outputs": [
    {
     "data": {
      "text/plain": [
       "43.56"
      ]
     },
     "execution_count": 24,
     "metadata": {},
     "output_type": "execute_result"
    }
   ],
   "source": [
    "Loss_of_genes = round((Total_gene_number-Gene_Number_after_filtering)/Total_gene_number*100,2)\n",
    "Loss_of_genes"
   ]
  },
  {
   "cell_type": "code",
   "execution_count": 28,
   "id": "f106a196-d4c9-4d8d-8d6d-3d4435f5125e",
   "metadata": {
    "execution": {
     "iopub.execute_input": "2025-07-25T22:07:55.427602Z",
     "iopub.status.busy": "2025-07-25T22:07:55.426795Z",
     "iopub.status.idle": "2025-07-25T22:07:56.561467Z",
     "shell.execute_reply": "2025-07-25T22:07:56.561142Z",
     "shell.execute_reply.started": "2025-07-25T22:07:55.427570Z"
    }
   },
   "outputs": [],
   "source": [
    "sc.pp.highly_variable_genes(adata, n_top_genes = 2000, subset = True, flavor='seurat_v3')"
   ]
  },
  {
   "cell_type": "code",
   "execution_count": 29,
   "id": "989a2e2c-4117-4d7d-9c23-3a14032b6476",
   "metadata": {
    "execution": {
     "iopub.execute_input": "2025-07-25T22:08:00.769640Z",
     "iopub.status.busy": "2025-07-25T22:08:00.769171Z",
     "iopub.status.idle": "2025-07-25T22:08:00.780093Z",
     "shell.execute_reply": "2025-07-25T22:08:00.779393Z",
     "shell.execute_reply.started": "2025-07-25T22:08:00.769609Z"
    }
   },
   "outputs": [
    {
     "data": {
      "text/plain": [
       "AnnData object with n_obs × n_vars = 33681 × 2000\n",
       "    var: 'n_cells', 'highly_variable', 'highly_variable_rank', 'means', 'variances', 'variances_norm'\n",
       "    uns: 'hvg'"
      ]
     },
     "execution_count": 29,
     "metadata": {},
     "output_type": "execute_result"
    }
   ],
   "source": [
    "adata"
   ]
  },
  {
   "cell_type": "code",
   "execution_count": 30,
   "id": "5d8ebef2-b6b4-4102-8d11-47e369243f8e",
   "metadata": {
    "execution": {
     "iopub.execute_input": "2025-07-25T22:08:43.633983Z",
     "iopub.status.busy": "2025-07-25T22:08:43.633228Z",
     "iopub.status.idle": "2025-07-25T22:24:13.320974Z",
     "shell.execute_reply": "2025-07-25T22:24:13.320548Z",
     "shell.execute_reply.started": "2025-07-25T22:08:43.633920Z"
    }
   },
   "outputs": [
    {
     "name": "stderr",
     "output_type": "stream",
     "text": [
      "/Users/thorsten/.pyenv/versions/3.10.6/envs/SingleCell/lib/python3.10/site-packages/scvi/train/_trainrunner.py:69: UserWarning: `accelerator` has been automatically set to `cpu` although 'mps' exists. If you wish to run on mps backend, use explicitly accelerator=='mps' in train function.In future releases it will become default for mps supported machines.\n",
      "  accelerator, lightning_devices, device = parse_device_args(\n",
      "GPU available: True (mps), used: False\n",
      "TPU available: False, using: 0 TPU cores\n",
      "HPU available: False, using: 0 HPUs\n",
      "/Users/thorsten/.pyenv/versions/3.10.6/envs/SingleCell/lib/python3.10/site-packages/lightning/pytorch/trainer/setup.py:177: GPU available but not used. You can set it by doing `Trainer(accelerator='gpu')`.\n",
      "/Users/thorsten/.pyenv/versions/3.10.6/envs/SingleCell/lib/python3.10/site-packages/lightning/pytorch/trainer/connectors/data_connector.py:425: The 'train_dataloader' does not have many workers which may be a bottleneck. Consider increasing the value of the `num_workers` argument` to `num_workers=7` in the `DataLoader` to improve performance.\n"
     ]
    },
    {
     "data": {
      "application/vnd.jupyter.widget-view+json": {
       "model_id": "c3d7257ae2934c8dba2aa5430126093b",
       "version_major": 2,
       "version_minor": 0
      },
      "text/plain": [
       "Training:   0%|          | 0/238 [00:00<?, ?it/s]"
      ]
     },
     "metadata": {},
     "output_type": "display_data"
    },
    {
     "name": "stderr",
     "output_type": "stream",
     "text": [
      "`Trainer.fit` stopped: `max_epochs=238` reached.\n"
     ]
    }
   ],
   "source": [
    "# Train the SCVI Model\n",
    "scvi.model.SCVI.setup_anndata(adata)\n",
    "vae = scvi.model.SCVI(adata)\n",
    "vae.train()"
   ]
  },
  {
   "cell_type": "code",
   "execution_count": 31,
   "id": "576f8ea9-97b0-4709-a015-cc4fba20266b",
   "metadata": {
    "execution": {
     "iopub.execute_input": "2025-07-25T22:29:42.247086Z",
     "iopub.status.busy": "2025-07-25T22:29:42.245124Z",
     "iopub.status.idle": "2025-07-25T22:34:09.298496Z",
     "shell.execute_reply": "2025-07-25T22:34:09.298045Z",
     "shell.execute_reply.started": "2025-07-25T22:29:42.246997Z"
    }
   },
   "outputs": [
    {
     "name": "stdout",
     "output_type": "stream",
     "text": [
      "\u001b[34mINFO    \u001b[0m Creating doublets, preparing SOLO model.                                                                  \n"
     ]
    },
    {
     "name": "stderr",
     "output_type": "stream",
     "text": [
      "/Users/thorsten/.pyenv/versions/3.10.6/envs/SingleCell/lib/python3.10/site-packages/scvi/train/_trainrunner.py:69: UserWarning: `accelerator` has been automatically set to `cpu` although 'mps' exists. If you wish to run on mps backend, use explicitly accelerator=='mps' in train function.In future releases it will become default for mps supported machines.\n",
      "  accelerator, lightning_devices, device = parse_device_args(\n",
      "GPU available: True (mps), used: False\n",
      "TPU available: False, using: 0 TPU cores\n",
      "HPU available: False, using: 0 HPUs\n",
      "/Users/thorsten/.pyenv/versions/3.10.6/envs/SingleCell/lib/python3.10/site-packages/lightning/pytorch/trainer/setup.py:177: GPU available but not used. You can set it by doing `Trainer(accelerator='gpu')`.\n",
      "/Users/thorsten/.pyenv/versions/3.10.6/envs/SingleCell/lib/python3.10/site-packages/lightning/pytorch/trainer/connectors/data_connector.py:425: The 'train_dataloader' does not have many workers which may be a bottleneck. Consider increasing the value of the `num_workers` argument` to `num_workers=7` in the `DataLoader` to improve performance.\n",
      "/Users/thorsten/.pyenv/versions/3.10.6/envs/SingleCell/lib/python3.10/site-packages/lightning/pytorch/trainer/connectors/data_connector.py:425: The 'val_dataloader' does not have many workers which may be a bottleneck. Consider increasing the value of the `num_workers` argument` to `num_workers=7` in the `DataLoader` to improve performance.\n"
     ]
    },
    {
     "data": {
      "application/vnd.jupyter.widget-view+json": {
       "model_id": "69c6095397d6484282d82617ff309224",
       "version_major": 2,
       "version_minor": 0
      },
      "text/plain": [
       "Training:   0%|          | 0/400 [00:00<?, ?it/s]"
      ]
     },
     "metadata": {},
     "output_type": "display_data"
    },
    {
     "name": "stdout",
     "output_type": "stream",
     "text": [
      "Monitored metric validation_loss did not improve in the last 30 records. Best score: 0.209. Signaling Trainer to stop.\n"
     ]
    }
   ],
   "source": [
    "# Train the doublet class model (it has an stop inside if loss is not changing anymore)\n",
    "solo = scvi.external.SOLO.from_scvi_model(vae)\n",
    "solo.train()"
   ]
  },
  {
   "cell_type": "code",
   "execution_count": 32,
   "id": "0d608e45-2fb4-4354-84ed-df0383b82476",
   "metadata": {
    "execution": {
     "iopub.execute_input": "2025-07-25T22:48:42.173536Z",
     "iopub.status.busy": "2025-07-25T22:48:42.171339Z",
     "iopub.status.idle": "2025-07-25T22:48:42.647704Z",
     "shell.execute_reply": "2025-07-25T22:48:42.647360Z",
     "shell.execute_reply.started": "2025-07-25T22:48:42.173430Z"
    }
   },
   "outputs": [
    {
     "name": "stderr",
     "output_type": "stream",
     "text": [
      "/Users/thorsten/.pyenv/versions/3.10.6/envs/SingleCell/lib/python3.10/site-packages/torch/utils/_contextlib.py:116: UserWarning: Prior to scvi-tools 1.1.3, `SOLO.predict` with `soft=True` (the default option) returned logits instead of probabilities. This behavior has since been corrected to return probabiltiies. The previous behavior can be replicated by passing in `return_logits=True`.\n",
      "  return func(*args, **kwargs)\n",
      "/Users/thorsten/.pyenv/versions/3.10.6/envs/SingleCell/lib/python3.10/site-packages/torch/utils/_contextlib.py:116: UserWarning: Prior to scvi-tools 1.1.3, `SOLO.predict` with `soft=True` (the default option) returned logits instead of probabilities. This behavior has since been corrected to return probabiltiies. The previous behavior can be replicated by passing in `return_logits=True`.\n",
      "  return func(*args, **kwargs)\n"
     ]
    },
    {
     "data": {
      "text/html": [
       "<div>\n",
       "<style scoped>\n",
       "    .dataframe tbody tr th:only-of-type {\n",
       "        vertical-align: middle;\n",
       "    }\n",
       "\n",
       "    .dataframe tbody tr th {\n",
       "        vertical-align: top;\n",
       "    }\n",
       "\n",
       "    .dataframe thead th {\n",
       "        text-align: right;\n",
       "    }\n",
       "</style>\n",
       "<table border=\"1\" class=\"dataframe\">\n",
       "  <thead>\n",
       "    <tr style=\"text-align: right;\">\n",
       "      <th></th>\n",
       "      <th>doublet</th>\n",
       "      <th>singlet</th>\n",
       "      <th>prediction</th>\n",
       "    </tr>\n",
       "  </thead>\n",
       "  <tbody>\n",
       "    <tr>\n",
       "      <th>WT_AAACCCAAGCATCTTG</th>\n",
       "      <td>0.006114</td>\n",
       "      <td>0.993886</td>\n",
       "      <td>singlet</td>\n",
       "    </tr>\n",
       "    <tr>\n",
       "      <th>WT_AAACCCAAGGGTTGCA</th>\n",
       "      <td>0.120150</td>\n",
       "      <td>0.879850</td>\n",
       "      <td>singlet</td>\n",
       "    </tr>\n",
       "    <tr>\n",
       "      <th>WT_AAACCCAGTCCGAAAG</th>\n",
       "      <td>0.188696</td>\n",
       "      <td>0.811304</td>\n",
       "      <td>singlet</td>\n",
       "    </tr>\n",
       "    <tr>\n",
       "      <th>WT_AAACCCAGTCCGTTTC</th>\n",
       "      <td>0.097345</td>\n",
       "      <td>0.902655</td>\n",
       "      <td>singlet</td>\n",
       "    </tr>\n",
       "    <tr>\n",
       "      <th>WT_AAACCCAGTGTGGTCC</th>\n",
       "      <td>0.003006</td>\n",
       "      <td>0.996994</td>\n",
       "      <td>singlet</td>\n",
       "    </tr>\n",
       "    <tr>\n",
       "      <th>...</th>\n",
       "      <td>...</td>\n",
       "      <td>...</td>\n",
       "      <td>...</td>\n",
       "    </tr>\n",
       "    <tr>\n",
       "      <th>D7_analysis_TTTGTTGGTGAGCAGT</th>\n",
       "      <td>0.027798</td>\n",
       "      <td>0.972202</td>\n",
       "      <td>singlet</td>\n",
       "    </tr>\n",
       "    <tr>\n",
       "      <th>D7_analysis_TTTGTTGGTGCCTGAC</th>\n",
       "      <td>0.266351</td>\n",
       "      <td>0.733649</td>\n",
       "      <td>singlet</td>\n",
       "    </tr>\n",
       "    <tr>\n",
       "      <th>D7_analysis_TTTGTTGGTTGAGAGC</th>\n",
       "      <td>0.101135</td>\n",
       "      <td>0.898865</td>\n",
       "      <td>singlet</td>\n",
       "    </tr>\n",
       "    <tr>\n",
       "      <th>D7_analysis_TTTGTTGTCCTTATAC</th>\n",
       "      <td>0.057880</td>\n",
       "      <td>0.942120</td>\n",
       "      <td>singlet</td>\n",
       "    </tr>\n",
       "    <tr>\n",
       "      <th>D7_analysis_TTTGTTGTCGGCTGGT</th>\n",
       "      <td>0.000882</td>\n",
       "      <td>0.999118</td>\n",
       "      <td>singlet</td>\n",
       "    </tr>\n",
       "  </tbody>\n",
       "</table>\n",
       "<p>33681 rows × 3 columns</p>\n",
       "</div>"
      ],
      "text/plain": [
       "                               doublet   singlet prediction\n",
       "WT_AAACCCAAGCATCTTG           0.006114  0.993886    singlet\n",
       "WT_AAACCCAAGGGTTGCA           0.120150  0.879850    singlet\n",
       "WT_AAACCCAGTCCGAAAG           0.188696  0.811304    singlet\n",
       "WT_AAACCCAGTCCGTTTC           0.097345  0.902655    singlet\n",
       "WT_AAACCCAGTGTGGTCC           0.003006  0.996994    singlet\n",
       "...                                ...       ...        ...\n",
       "D7_analysis_TTTGTTGGTGAGCAGT  0.027798  0.972202    singlet\n",
       "D7_analysis_TTTGTTGGTGCCTGAC  0.266351  0.733649    singlet\n",
       "D7_analysis_TTTGTTGGTTGAGAGC  0.101135  0.898865    singlet\n",
       "D7_analysis_TTTGTTGTCCTTATAC  0.057880  0.942120    singlet\n",
       "D7_analysis_TTTGTTGTCGGCTGGT  0.000882  0.999118    singlet\n",
       "\n",
       "[33681 rows x 3 columns]"
      ]
     },
     "execution_count": 32,
     "metadata": {},
     "output_type": "execute_result"
    }
   ],
   "source": [
    "# Use predict to annotate the cell barcodes with the trained identifier and annotate it as a string in \"doublet\" or \"singlet\"\n",
    "df = solo.predict()\n",
    "df['prediction'] = solo.predict(soft=False)\n",
    "df"
   ]
  },
  {
   "cell_type": "code",
   "execution_count": 52,
   "id": "9cedf5d7-654b-4d06-ba9f-2f8da478d102",
   "metadata": {
    "execution": {
     "iopub.execute_input": "2025-07-25T23:12:58.765002Z",
     "iopub.status.busy": "2025-07-25T23:12:58.762791Z",
     "iopub.status.idle": "2025-07-25T23:12:58.803372Z",
     "shell.execute_reply": "2025-07-25T23:12:58.802573Z",
     "shell.execute_reply.started": "2025-07-25T23:12:58.764896Z"
    }
   },
   "outputs": [
    {
     "name": "stdout",
     "output_type": "stream",
     "text": [
      "Doublets: 3811 / 33681 (11.31%)\n"
     ]
    }
   ],
   "source": [
    "# Count how many cells are predicted as singlet or doublet\n",
    "counts = df.groupby('prediction').count()\n",
    "\n",
    "# Total number of cells\n",
    "total = counts.sum().values[0]  # or len(df)\n",
    "\n",
    "# Number of predicted doublets\n",
    "num_doublets = df.groupby('prediction').count().loc['doublet','doublet']\n",
    "\n",
    "# Percentage of doublets\n",
    "percent_doublets = (num_doublets / total) * 100\n",
    "\n",
    "print(f\"Doublets: {num_doublets} / {total} ({percent_doublets:.2f}%)\")"
   ]
  },
  {
   "cell_type": "code",
   "execution_count": 36,
   "id": "a2f29fe7-892d-49f7-a7fa-c6f4bebda820",
   "metadata": {
    "execution": {
     "iopub.execute_input": "2025-07-25T22:52:03.543623Z",
     "iopub.status.busy": "2025-07-25T22:52:03.541406Z",
     "iopub.status.idle": "2025-07-25T22:52:03.570955Z",
     "shell.execute_reply": "2025-07-25T22:52:03.570212Z",
     "shell.execute_reply.started": "2025-07-25T22:52:03.543533Z"
    }
   },
   "outputs": [
    {
     "data": {
      "text/html": [
       "<div>\n",
       "<style scoped>\n",
       "    .dataframe tbody tr th:only-of-type {\n",
       "        vertical-align: middle;\n",
       "    }\n",
       "\n",
       "    .dataframe tbody tr th {\n",
       "        vertical-align: top;\n",
       "    }\n",
       "\n",
       "    .dataframe thead th {\n",
       "        text-align: right;\n",
       "    }\n",
       "</style>\n",
       "<table border=\"1\" class=\"dataframe\">\n",
       "  <thead>\n",
       "    <tr style=\"text-align: right;\">\n",
       "      <th></th>\n",
       "      <th>doublet</th>\n",
       "      <th>singlet</th>\n",
       "      <th>prediction</th>\n",
       "      <th>dif</th>\n",
       "    </tr>\n",
       "  </thead>\n",
       "  <tbody>\n",
       "    <tr>\n",
       "      <th>WT_AAACCCAAGCATCTTG</th>\n",
       "      <td>0.006114</td>\n",
       "      <td>0.993886</td>\n",
       "      <td>singlet</td>\n",
       "      <td>-0.987771</td>\n",
       "    </tr>\n",
       "    <tr>\n",
       "      <th>WT_AAACCCAAGGGTTGCA</th>\n",
       "      <td>0.120150</td>\n",
       "      <td>0.879850</td>\n",
       "      <td>singlet</td>\n",
       "      <td>-0.759700</td>\n",
       "    </tr>\n",
       "    <tr>\n",
       "      <th>WT_AAACCCAGTCCGAAAG</th>\n",
       "      <td>0.188696</td>\n",
       "      <td>0.811304</td>\n",
       "      <td>singlet</td>\n",
       "      <td>-0.622608</td>\n",
       "    </tr>\n",
       "    <tr>\n",
       "      <th>WT_AAACCCAGTCCGTTTC</th>\n",
       "      <td>0.097345</td>\n",
       "      <td>0.902655</td>\n",
       "      <td>singlet</td>\n",
       "      <td>-0.805311</td>\n",
       "    </tr>\n",
       "    <tr>\n",
       "      <th>WT_AAACCCAGTGTGGTCC</th>\n",
       "      <td>0.003006</td>\n",
       "      <td>0.996994</td>\n",
       "      <td>singlet</td>\n",
       "      <td>-0.993988</td>\n",
       "    </tr>\n",
       "    <tr>\n",
       "      <th>...</th>\n",
       "      <td>...</td>\n",
       "      <td>...</td>\n",
       "      <td>...</td>\n",
       "      <td>...</td>\n",
       "    </tr>\n",
       "    <tr>\n",
       "      <th>D7_analysis_TTTGTTGGTGAGCAGT</th>\n",
       "      <td>0.027798</td>\n",
       "      <td>0.972202</td>\n",
       "      <td>singlet</td>\n",
       "      <td>-0.944404</td>\n",
       "    </tr>\n",
       "    <tr>\n",
       "      <th>D7_analysis_TTTGTTGGTGCCTGAC</th>\n",
       "      <td>0.266351</td>\n",
       "      <td>0.733649</td>\n",
       "      <td>singlet</td>\n",
       "      <td>-0.467298</td>\n",
       "    </tr>\n",
       "    <tr>\n",
       "      <th>D7_analysis_TTTGTTGGTTGAGAGC</th>\n",
       "      <td>0.101135</td>\n",
       "      <td>0.898865</td>\n",
       "      <td>singlet</td>\n",
       "      <td>-0.797729</td>\n",
       "    </tr>\n",
       "    <tr>\n",
       "      <th>D7_analysis_TTTGTTGTCCTTATAC</th>\n",
       "      <td>0.057880</td>\n",
       "      <td>0.942120</td>\n",
       "      <td>singlet</td>\n",
       "      <td>-0.884240</td>\n",
       "    </tr>\n",
       "    <tr>\n",
       "      <th>D7_analysis_TTTGTTGTCGGCTGGT</th>\n",
       "      <td>0.000882</td>\n",
       "      <td>0.999118</td>\n",
       "      <td>singlet</td>\n",
       "      <td>-0.998236</td>\n",
       "    </tr>\n",
       "  </tbody>\n",
       "</table>\n",
       "<p>33681 rows × 4 columns</p>\n",
       "</div>"
      ],
      "text/plain": [
       "                               doublet   singlet prediction       dif\n",
       "WT_AAACCCAAGCATCTTG           0.006114  0.993886    singlet -0.987771\n",
       "WT_AAACCCAAGGGTTGCA           0.120150  0.879850    singlet -0.759700\n",
       "WT_AAACCCAGTCCGAAAG           0.188696  0.811304    singlet -0.622608\n",
       "WT_AAACCCAGTCCGTTTC           0.097345  0.902655    singlet -0.805311\n",
       "WT_AAACCCAGTGTGGTCC           0.003006  0.996994    singlet -0.993988\n",
       "...                                ...       ...        ...       ...\n",
       "D7_analysis_TTTGTTGGTGAGCAGT  0.027798  0.972202    singlet -0.944404\n",
       "D7_analysis_TTTGTTGGTGCCTGAC  0.266351  0.733649    singlet -0.467298\n",
       "D7_analysis_TTTGTTGGTTGAGAGC  0.101135  0.898865    singlet -0.797729\n",
       "D7_analysis_TTTGTTGTCCTTATAC  0.057880  0.942120    singlet -0.884240\n",
       "D7_analysis_TTTGTTGTCGGCTGGT  0.000882  0.999118    singlet -0.998236\n",
       "\n",
       "[33681 rows x 4 columns]"
      ]
     },
     "execution_count": 36,
     "metadata": {},
     "output_type": "execute_result"
    }
   ],
   "source": [
    "#Calculating the difference of doublet and singlet score to identify cells that have high scores in both (close to 0)\n",
    "df['dif'] = df.doublet - df.singlet\n",
    "df"
   ]
  },
  {
   "cell_type": "code",
   "execution_count": null,
   "id": "f1358af7-6496-4db3-8f9e-842dd209d26b",
   "metadata": {},
   "outputs": [],
   "source": []
  },
  {
   "cell_type": "code",
   "execution_count": null,
   "id": "3e04b430-3f9d-4d74-a89e-be9001d97d12",
   "metadata": {},
   "outputs": [],
   "source": []
  },
  {
   "cell_type": "code",
   "execution_count": null,
   "id": "8da01a26-74f2-4a41-b786-97b33c0f3cda",
   "metadata": {},
   "outputs": [],
   "source": [
    "# Count how many cells are predicted as singlet or doublet\n",
    "counts = df.groupby('prediction').count()\n",
    "\n",
    "# Total number of cells\n",
    "total = counts.sum().values[0]  # or len(df)\n",
    "\n",
    "# Number of predicted doublets\n",
    "num_doublets = counts.loc['doublet'].values[0]\n",
    "\n",
    "# Percentage of doublets\n",
    "percent_doublets = (num_doublets / total) * 100\n",
    "\n",
    "print(f\"Doublets: {num_doublets} / {total} ({percent_doublets:.2f}%)\")"
   ]
  },
  {
   "cell_type": "code",
   "execution_count": null,
   "id": "013992e3-0bae-46ed-9e29-2dab78c617d3",
   "metadata": {},
   "outputs": [],
   "source": []
  }
 ],
 "metadata": {
  "kernelspec": {
   "display_name": "Python 3 (ipykernel)",
   "language": "python",
   "name": "python3"
  },
  "language_info": {
   "codemirror_mode": {
    "name": "ipython",
    "version": 3
   },
   "file_extension": ".py",
   "mimetype": "text/x-python",
   "name": "python",
   "nbconvert_exporter": "python",
   "pygments_lexer": "ipython3",
   "version": "3.10.6"
  }
 },
 "nbformat": 4,
 "nbformat_minor": 5
}

{
 "cells": [
  {
   "cell_type": "markdown",
   "id": "04c5269e-5806-433e-80fd-6adfdcf67973",
   "metadata": {},
   "source": [
    "# Pancreatitis scRNA-seq Data - Reananalysis"
   ]
  },
  {
   "cell_type": "markdown",
   "id": "dabbf252-5c3e-4cc2-bfea-1686d2d5d5b4",
   "metadata": {},
   "source": [
    "The data analysed in this notebook is from Poggetto E; Ho I et al Science 2025 (PMID:34529467). Data can be found on GEO under accession number GSM5494073. ScRNA-seq data are stored in the series GSE181276. The link below can be found by going to https://www.ncbi.nlm.nih.gov/geo/query/acc.cgi?acc=GSE181276 and with right click copy the \"http\" hyperlink in the Download column. \n",
    "\n",
    "The flags are required to download this file otherwise it downloads only a HTML page: <br>\n",
    "-L --> redirects it to the actual file (*_genes.counts_*.txt.gz), without it would only download a HTML page. <br>\n",
    "-O --> tells curl that it saves the file using the URL filename (without it would be in printed in the terminal) <br>\n",
    "-J --> tells curl to use the name instead of the final url segment"
   ]
  },
  {
   "cell_type": "code",
   "execution_count": 1,
   "id": "274a7b51-f240-43e2-99a8-829a914600e1",
   "metadata": {
    "execution": {
     "iopub.execute_input": "2025-07-27T16:19:33.011593Z",
     "iopub.status.busy": "2025-07-27T16:19:33.009837Z",
     "iopub.status.idle": "2025-07-27T16:19:39.014206Z",
     "shell.execute_reply": "2025-07-27T16:19:39.013492Z",
     "shell.execute_reply.started": "2025-07-27T16:19:33.011493Z"
    }
   },
   "outputs": [
    {
     "name": "stdout",
     "output_type": "stream",
     "text": [
      "  % Total    % Received % Xferd  Average Speed   Time    Time     Time  Current\n",
      "                                 Dload  Upload   Total   Spent    Left  Speed\n",
      "100  105M  100  105M    0     0  23.7M      0  0:00:04  0:00:04 --:--:-- 25.0M\n"
     ]
    }
   ],
   "source": [
    "#Create new direcotry for rawdata\n",
    "!mkdir -p rawdata\n",
    "# Download data using curl\n",
    "!cd rawdata && curl -L -O -J \"https://www.ncbi.nlm.nih.gov/geo/download/?acc=GSE181276&format=file&file=GSE181276_genes.counts_for_GEO_uploading.txt.gz\"\n",
    "# Unzip the gene_counts file in the rawdata folder\n",
    "!cd rawdata && gunzip \"GSE181276_genes.counts_for_GEO_uploading.txt.gz\""
   ]
  },
  {
   "cell_type": "code",
   "execution_count": 2,
   "id": "f29ca7c4-ecbc-490b-9ed9-e9b75b047851",
   "metadata": {
    "execution": {
     "iopub.execute_input": "2025-07-27T16:19:44.896268Z",
     "iopub.status.busy": "2025-07-27T16:19:44.894176Z",
     "iopub.status.idle": "2025-07-27T16:19:50.317099Z",
     "shell.execute_reply": "2025-07-27T16:19:50.316804Z",
     "shell.execute_reply.started": "2025-07-27T16:19:44.896156Z"
    }
   },
   "outputs": [],
   "source": [
    "#Import of software packages\n",
    "import scanpy as sc\n",
    "import scvi"
   ]
  },
  {
   "cell_type": "code",
   "execution_count": 15,
   "id": "6adfef90-4e7d-43b0-99ef-65470d69815b",
   "metadata": {
    "execution": {
     "iopub.execute_input": "2025-07-27T16:33:28.796832Z",
     "iopub.status.busy": "2025-07-27T16:33:28.795912Z",
     "iopub.status.idle": "2025-07-27T16:34:33.455892Z",
     "shell.execute_reply": "2025-07-27T16:34:33.454957Z",
     "shell.execute_reply.started": "2025-07-27T16:33:28.796768Z"
    }
   },
   "outputs": [],
   "source": [
    "# Read file but transpose it as Anndata and Scanpy require cells (barcodes) as rows and gene names in columns (but file has gene names as rows)\n",
    "adata = sc.read_text('rawdata/GSE181276_genes.counts_for_GEO_uploading.txt').T"
   ]
  },
  {
   "cell_type": "code",
   "execution_count": 16,
   "id": "1bf69669-92a1-44ff-87e2-9165b225163b",
   "metadata": {
    "execution": {
     "iopub.execute_input": "2025-07-27T16:34:33.457267Z",
     "iopub.status.busy": "2025-07-27T16:34:33.457129Z",
     "iopub.status.idle": "2025-07-27T16:34:33.468183Z",
     "shell.execute_reply": "2025-07-27T16:34:33.467129Z",
     "shell.execute_reply.started": "2025-07-27T16:34:33.457250Z"
    }
   },
   "outputs": [
    {
     "data": {
      "text/html": [
       "<div>\n",
       "<style scoped>\n",
       "    .dataframe tbody tr th:only-of-type {\n",
       "        vertical-align: middle;\n",
       "    }\n",
       "\n",
       "    .dataframe tbody tr th {\n",
       "        vertical-align: top;\n",
       "    }\n",
       "\n",
       "    .dataframe thead th {\n",
       "        text-align: right;\n",
       "    }\n",
       "</style>\n",
       "<table border=\"1\" class=\"dataframe\">\n",
       "  <thead>\n",
       "    <tr style=\"text-align: right;\">\n",
       "      <th></th>\n",
       "    </tr>\n",
       "  </thead>\n",
       "  <tbody>\n",
       "    <tr>\n",
       "      <th>WT_AAACCCAAGCATCTTG</th>\n",
       "    </tr>\n",
       "    <tr>\n",
       "      <th>WT_AAACCCAAGGGTTGCA</th>\n",
       "    </tr>\n",
       "    <tr>\n",
       "      <th>WT_AAACCCAGTCCGAAAG</th>\n",
       "    </tr>\n",
       "    <tr>\n",
       "      <th>WT_AAACCCAGTCCGTTTC</th>\n",
       "    </tr>\n",
       "    <tr>\n",
       "      <th>WT_AAACCCAGTGTGGTCC</th>\n",
       "    </tr>\n",
       "    <tr>\n",
       "      <th>...</th>\n",
       "    </tr>\n",
       "    <tr>\n",
       "      <th>D7_analysis_TTTGTTGGTGAGCAGT</th>\n",
       "    </tr>\n",
       "    <tr>\n",
       "      <th>D7_analysis_TTTGTTGGTGCCTGAC</th>\n",
       "    </tr>\n",
       "    <tr>\n",
       "      <th>D7_analysis_TTTGTTGGTTGAGAGC</th>\n",
       "    </tr>\n",
       "    <tr>\n",
       "      <th>D7_analysis_TTTGTTGTCCTTATAC</th>\n",
       "    </tr>\n",
       "    <tr>\n",
       "      <th>D7_analysis_TTTGTTGTCGGCTGGT</th>\n",
       "    </tr>\n",
       "  </tbody>\n",
       "</table>\n",
       "<p>33681 rows × 0 columns</p>\n",
       "</div>"
      ],
      "text/plain": [
       "Empty DataFrame\n",
       "Columns: []\n",
       "Index: [WT_AAACCCAAGCATCTTG, WT_AAACCCAAGGGTTGCA, WT_AAACCCAGTCCGAAAG, WT_AAACCCAGTCCGTTTC, WT_AAACCCAGTGTGGTCC, WT_AAACCCATCCGCACTT, WT_AAACCCATCTCCTGCA, WT_AAACGAAAGGCTGAAC, WT_AAACGAAAGGTGAGAA, WT_AAACGAAAGTGGTCAG, WT_AAACGAAGTAGGTACG, WT_AAACGAATCTGGCCGA, WT_AAACGCTAGTAGCTCT, WT_AAACGCTCACGCGCAT, WT_AAACGCTGTACGAGCA, WT_AAACGCTGTCAGTCCG, WT_AAACGCTTCCGTCACT, WT_AAACGCTTCGAGCCTG, WT_AAAGAACAGAGTCACG, WT_AAAGAACAGTCAATCC, WT_AAAGAACAGTTCACTG, WT_AAAGAACCAATAAGGT, WT_AAAGAACCAGATCCTA, WT_AAAGAACGTGAGTGAC, WT_AAAGAACTCGAAATCC, WT_AAAGGATAGTTACGGG, WT_AAAGGATCAAATCGGG, WT_AAAGGATCAACCCTAA, WT_AAAGGATCAATAGTGA, WT_AAAGGATCAGTCAGTT, WT_AAAGGATTCATGGCCG, WT_AAAGGGCCAACCAGAG, WT_AAAGGGCCACTAGGCC, WT_AAAGGGCGTGGCCTCA, WT_AAAGGGCTCAAATGAG, WT_AAAGGGCTCGCCGTGA, WT_AAAGGTAAGACATATG, WT_AAAGGTAAGTGGATAT, WT_AAAGGTACATTCTCCG, WT_AAAGGTAGTAAGAACT, WT_AAAGGTAGTCGCATGC, WT_AAAGGTAGTTCAATCG, WT_AAAGGTATCAGAACCT, WT_AAAGGTATCATAGCAC, WT_AAAGGTATCTCATTGT, WT_AAAGGTATCTGTCCCA, WT_AAAGTCCAGGCACTCC, WT_AAAGTCCAGGCTGAAC, WT_AAAGTCCAGGGCCCTT, WT_AAAGTCCAGGTTTACC, WT_AAAGTCCAGTCGAATA, WT_AAAGTCCCAGGTGACA, WT_AAAGTCCCAGGTGTTT, WT_AAAGTCCCATCTATCT, WT_AAAGTCCTCACAGTGT, WT_AAAGTCCTCATGGATC, WT_AAAGTGAAGACGGAAA, WT_AAAGTGAAGCGTATAA, WT_AAAGTGACAAGCCTGC, WT_AAAGTGACAAGGACAC, WT_AAAGTGAGTCCCTAAA, WT_AAAGTGATCAAGGAGC, WT_AAAGTGATCGTTGCCT, WT_AAATGGAAGACTCCGC, WT_AAATGGAAGCCTCCAG, WT_AAATGGACAATTCTTC, WT_AAATGGACATTAGGCT, WT_AAATGGAGTTCTTAGG, WT_AACAAAGAGAGTGAAG, WT_AACAAAGAGGGATCGT, WT_AACAAAGAGTATTGCC, WT_AACAAAGCATCGTTCC, WT_AACAAAGGTGCCCACA, WT_AACAAAGGTTGGTACT, WT_AACAAAGTCAAAGGAT, WT_AACAAAGTCGGAACTT, WT_AACAACCAGAGAGCCT, WT_AACAACCAGTGCTACT, WT_AACAACCCACTGTCCT, WT_AACAACCTCAGCCCAG, WT_AACAACCTCGATACGT, WT_AACAACCTCTCGTGGG, WT_AACAAGATCTGGGCAC, WT_AACAAGATCTTCGATT, WT_AACACACCAGACCCGT, WT_AACACACCAGTTGTTG, WT_AACACACGTGCACGCT, WT_AACACACTCACCCTTG, WT_AACACACTCTTCACAT, WT_AACAGGGAGACGATAT, WT_AACAGGGAGCTCGCAC, WT_AACAGGGAGTCCCGAC, WT_AACAGGGCACTTCATT, WT_AACAGGGCAGCTCCTT, WT_AACAGGGCAGTCTCTC, WT_AACAGGGGTACTGGGA, WT_AACCAACAGACTTAAG, WT_AACCAACTCACTTATC, WT_AACCAACTCAGCCCAG, WT_AACCAACTCCCTCATG, ...]\n",
       "\n",
       "[33681 rows x 0 columns]"
      ]
     },
     "execution_count": 16,
     "metadata": {},
     "output_type": "execute_result"
    }
   ],
   "source": [
    "# adata.obs contains cell barcodes\n",
    "adata.obs"
   ]
  },
  {
   "cell_type": "code",
   "execution_count": 17,
   "id": "d693bef4-2955-424a-adf0-ee89e49ff5a9",
   "metadata": {
    "execution": {
     "iopub.execute_input": "2025-07-27T16:34:33.469387Z",
     "iopub.status.busy": "2025-07-27T16:34:33.469232Z",
     "iopub.status.idle": "2025-07-27T16:34:33.473622Z",
     "shell.execute_reply": "2025-07-27T16:34:33.473298Z",
     "shell.execute_reply.started": "2025-07-27T16:34:33.469374Z"
    }
   },
   "outputs": [
    {
     "data": {
      "text/html": [
       "<div>\n",
       "<style scoped>\n",
       "    .dataframe tbody tr th:only-of-type {\n",
       "        vertical-align: middle;\n",
       "    }\n",
       "\n",
       "    .dataframe tbody tr th {\n",
       "        vertical-align: top;\n",
       "    }\n",
       "\n",
       "    .dataframe thead th {\n",
       "        text-align: right;\n",
       "    }\n",
       "</style>\n",
       "<table border=\"1\" class=\"dataframe\">\n",
       "  <thead>\n",
       "    <tr style=\"text-align: right;\">\n",
       "      <th></th>\n",
       "    </tr>\n",
       "  </thead>\n",
       "  <tbody>\n",
       "    <tr>\n",
       "      <th>Xkr4</th>\n",
       "    </tr>\n",
       "    <tr>\n",
       "      <th>Gm1992</th>\n",
       "    </tr>\n",
       "    <tr>\n",
       "      <th>Gm37381</th>\n",
       "    </tr>\n",
       "    <tr>\n",
       "      <th>Rp1</th>\n",
       "    </tr>\n",
       "    <tr>\n",
       "      <th>Sox17</th>\n",
       "    </tr>\n",
       "    <tr>\n",
       "      <th>...</th>\n",
       "    </tr>\n",
       "    <tr>\n",
       "      <th>AC168977.1</th>\n",
       "    </tr>\n",
       "    <tr>\n",
       "      <th>AC149090.1</th>\n",
       "    </tr>\n",
       "    <tr>\n",
       "      <th>CAAA01118383.1</th>\n",
       "    </tr>\n",
       "    <tr>\n",
       "      <th>Vmn2r122</th>\n",
       "    </tr>\n",
       "    <tr>\n",
       "      <th>CAAA01147332.1</th>\n",
       "    </tr>\n",
       "  </tbody>\n",
       "</table>\n",
       "<p>31053 rows × 0 columns</p>\n",
       "</div>"
      ],
      "text/plain": [
       "Empty DataFrame\n",
       "Columns: []\n",
       "Index: [Xkr4, Gm1992, Gm37381, Rp1, Sox17, Gm37323, Mrpl15, Lypla1, Gm37988, Tcea1, Rgs20, Gm16041, Atp6v1h, Oprk1, Npbwr1, Rb1cc1, 4732440D04Rik, Alkal1, St18, Pcmtd1, Gm26901, Gm30414, Sntg1, Rrs1, Adhfe1, 3110035E14Rik, Gm29520, Mybl1, Vcpip1, 1700034P13Rik, Sgk3, Mcmdc2, Snhg6, Tcf24, Ppp1r42, Gm15818, Cops5, Cspp1, Arfgef1, Cpa6, Prex2, A830018L16Rik, Gm17644, Gm29663, Sulf1, Slco5a1, Gm29283, Prdm14, Ncoa2, Gm29570, Tram1, Lactb2, Xkr9, Eya1, Gm9947, Msc, Trpa1, Kcnb2, Terf1, Sbspon, 4930444P10Rik, Rpl7, Rdh10, Gm28095, Stau2, Gm7568, Ube2w, Eloc, D030040B21Rik, Tmem70, Ly96, Gm28376, Jph1, Gm28783, Gdap1, Gm28784, Pi15, Gm28154, Gm16070, Crispld1, Gm28153, Crisp4, Defb18, Defb41, Gm15825, Tfap2d, Tfap2b, Gm28340, Pkhd1, 4930486I03Rik, Gm28653, Il17a, Il17f, Mcm3, Gm28065, 6720483E21Rik, Paqr8, Efhc1, Tram2, Gm28287, ...]\n",
       "\n",
       "[31053 rows x 0 columns]"
      ]
     },
     "execution_count": 17,
     "metadata": {},
     "output_type": "execute_result"
    }
   ],
   "source": [
    "#adata.var contains Gene Names\n",
    "adata.var"
   ]
  },
  {
   "cell_type": "code",
   "execution_count": 18,
   "id": "ac2201af-ba94-462b-a651-00ac9bd5119d",
   "metadata": {
    "execution": {
     "iopub.execute_input": "2025-07-27T16:34:33.475178Z",
     "iopub.status.busy": "2025-07-27T16:34:33.474950Z",
     "iopub.status.idle": "2025-07-27T16:34:33.477946Z",
     "shell.execute_reply": "2025-07-27T16:34:33.477609Z",
     "shell.execute_reply.started": "2025-07-27T16:34:33.475166Z"
    }
   },
   "outputs": [
    {
     "data": {
      "text/plain": [
       "(33681, 31053)"
      ]
     },
     "execution_count": 18,
     "metadata": {},
     "output_type": "execute_result"
    }
   ],
   "source": [
    "# Shows size of count matrix (n_cells, n_genes)\n",
    "adata.shape"
   ]
  },
  {
   "cell_type": "code",
   "execution_count": 19,
   "id": "aec87f72-d1d9-4e3c-8150-c09541b9a815",
   "metadata": {
    "execution": {
     "iopub.execute_input": "2025-07-27T16:34:33.478551Z",
     "iopub.status.busy": "2025-07-27T16:34:33.478362Z",
     "iopub.status.idle": "2025-07-27T16:34:33.480757Z",
     "shell.execute_reply": "2025-07-27T16:34:33.480243Z",
     "shell.execute_reply.started": "2025-07-27T16:34:33.478537Z"
    }
   },
   "outputs": [],
   "source": [
    "Total_gene_number = adata.shape[1]"
   ]
  },
  {
   "cell_type": "code",
   "execution_count": 20,
   "id": "e594ed4f-19ab-42b6-a919-e61960149c08",
   "metadata": {
    "execution": {
     "iopub.execute_input": "2025-07-27T16:34:33.481515Z",
     "iopub.status.busy": "2025-07-27T16:34:33.481317Z",
     "iopub.status.idle": "2025-07-27T16:34:39.570456Z",
     "shell.execute_reply": "2025-07-27T16:34:39.569694Z",
     "shell.execute_reply.started": "2025-07-27T16:34:33.481502Z"
    }
   },
   "outputs": [],
   "source": [
    "# Filter to remove genes occuring in less than 10 cells\n",
    "sc.pp.filter_genes(adata, min_cells=10)"
   ]
  },
  {
   "cell_type": "code",
   "execution_count": 21,
   "id": "7f45f34f-a41a-4dac-9ba2-6b8692c1c02c",
   "metadata": {
    "execution": {
     "iopub.execute_input": "2025-07-27T16:34:39.571705Z",
     "iopub.status.busy": "2025-07-27T16:34:39.571546Z",
     "iopub.status.idle": "2025-07-27T16:34:39.576057Z",
     "shell.execute_reply": "2025-07-27T16:34:39.575473Z",
     "shell.execute_reply.started": "2025-07-27T16:34:39.571690Z"
    }
   },
   "outputs": [],
   "source": [
    "Gene_Number_after_filtering = adata.shape[1]"
   ]
  },
  {
   "cell_type": "code",
   "execution_count": 22,
   "id": "626fd948-b398-4934-832b-f4c317149467",
   "metadata": {
    "execution": {
     "iopub.execute_input": "2025-07-27T16:34:39.576860Z",
     "iopub.status.busy": "2025-07-27T16:34:39.576662Z",
     "iopub.status.idle": "2025-07-27T16:34:39.580400Z",
     "shell.execute_reply": "2025-07-27T16:34:39.580083Z",
     "shell.execute_reply.started": "2025-07-27T16:34:39.576848Z"
    }
   },
   "outputs": [
    {
     "data": {
      "text/plain": [
       "43.56"
      ]
     },
     "execution_count": 22,
     "metadata": {},
     "output_type": "execute_result"
    }
   ],
   "source": [
    "Loss_of_genes = round((Total_gene_number-Gene_Number_after_filtering)/Total_gene_number*100,2)\n",
    "Loss_of_genes"
   ]
  },
  {
   "cell_type": "code",
   "execution_count": 23,
   "id": "f106a196-d4c9-4d8d-8d6d-3d4435f5125e",
   "metadata": {
    "execution": {
     "iopub.execute_input": "2025-07-27T16:34:39.581139Z",
     "iopub.status.busy": "2025-07-27T16:34:39.580931Z",
     "iopub.status.idle": "2025-07-27T16:35:07.781766Z",
     "shell.execute_reply": "2025-07-27T16:35:07.780546Z",
     "shell.execute_reply.started": "2025-07-27T16:34:39.581126Z"
    }
   },
   "outputs": [],
   "source": [
    "# Subsetting the highly variable genes to train the ScVI model\n",
    "sc.pp.highly_variable_genes(adata, n_top_genes = 2000, subset = True, flavor='seurat_v3')"
   ]
  },
  {
   "cell_type": "code",
   "execution_count": 24,
   "id": "989a2e2c-4117-4d7d-9c23-3a14032b6476",
   "metadata": {
    "execution": {
     "iopub.execute_input": "2025-07-27T16:35:07.785842Z",
     "iopub.status.busy": "2025-07-27T16:35:07.785622Z",
     "iopub.status.idle": "2025-07-27T16:35:07.791151Z",
     "shell.execute_reply": "2025-07-27T16:35:07.790824Z",
     "shell.execute_reply.started": "2025-07-27T16:35:07.785825Z"
    }
   },
   "outputs": [
    {
     "data": {
      "text/plain": [
       "AnnData object with n_obs × n_vars = 33681 × 2000\n",
       "    var: 'n_cells', 'highly_variable', 'highly_variable_rank', 'means', 'variances', 'variances_norm'\n",
       "    uns: 'hvg'"
      ]
     },
     "execution_count": 24,
     "metadata": {},
     "output_type": "execute_result"
    }
   ],
   "source": [
    "# adata shape after subsetting\n",
    "adata"
   ]
  },
  {
   "cell_type": "code",
   "execution_count": null,
   "id": "5d8ebef2-b6b4-4102-8d11-47e369243f8e",
   "metadata": {
    "execution": {
     "iopub.execute_input": "2025-07-27T16:35:16.852728Z",
     "iopub.status.busy": "2025-07-27T16:35:16.852282Z"
    }
   },
   "outputs": [
    {
     "name": "stderr",
     "output_type": "stream",
     "text": [
      "/Users/thorsten/.pyenv/versions/3.10.6/envs/SingleCell/lib/python3.10/site-packages/scvi/train/_trainrunner.py:69: UserWarning: `accelerator` has been automatically set to `cpu` although 'mps' exists. If you wish to run on mps backend, use explicitly accelerator=='mps' in train function.In future releases it will become default for mps supported machines.\n",
      "  accelerator, lightning_devices, device = parse_device_args(\n",
      "GPU available: True (mps), used: False\n",
      "TPU available: False, using: 0 TPU cores\n",
      "HPU available: False, using: 0 HPUs\n",
      "/Users/thorsten/.pyenv/versions/3.10.6/envs/SingleCell/lib/python3.10/site-packages/lightning/pytorch/trainer/setup.py:177: GPU available but not used. You can set it by doing `Trainer(accelerator='gpu')`.\n",
      "/Users/thorsten/.pyenv/versions/3.10.6/envs/SingleCell/lib/python3.10/site-packages/lightning/pytorch/trainer/connectors/data_connector.py:425: The 'train_dataloader' does not have many workers which may be a bottleneck. Consider increasing the value of the `num_workers` argument` to `num_workers=7` in the `DataLoader` to improve performance.\n"
     ]
    },
    {
     "data": {
      "application/vnd.jupyter.widget-view+json": {
       "model_id": "cac635a76c834c4994c099723862f0a2",
       "version_major": 2,
       "version_minor": 0
      },
      "text/plain": [
       "Training:   0%|          | 0/238 [00:00<?, ?it/s]"
      ]
     },
     "metadata": {},
     "output_type": "display_data"
    }
   ],
   "source": [
    "# Train the SCVI Model (required for doublet removal model SOLO)\n",
    "scvi.model.SCVI.setup_anndata(adata)\n",
    "vae = scvi.model.SCVI(adata)\n",
    "vae.train()"
   ]
  },
  {
   "cell_type": "code",
   "execution_count": 31,
   "id": "576f8ea9-97b0-4709-a015-cc4fba20266b",
   "metadata": {
    "execution": {
     "iopub.execute_input": "2025-07-25T22:29:42.247086Z",
     "iopub.status.busy": "2025-07-25T22:29:42.245124Z",
     "iopub.status.idle": "2025-07-25T22:34:09.298496Z",
     "shell.execute_reply": "2025-07-25T22:34:09.298045Z",
     "shell.execute_reply.started": "2025-07-25T22:29:42.246997Z"
    }
   },
   "outputs": [
    {
     "name": "stdout",
     "output_type": "stream",
     "text": [
      "\u001b[34mINFO    \u001b[0m Creating doublets, preparing SOLO model.                                                                  \n"
     ]
    },
    {
     "name": "stderr",
     "output_type": "stream",
     "text": [
      "/Users/thorsten/.pyenv/versions/3.10.6/envs/SingleCell/lib/python3.10/site-packages/scvi/train/_trainrunner.py:69: UserWarning: `accelerator` has been automatically set to `cpu` although 'mps' exists. If you wish to run on mps backend, use explicitly accelerator=='mps' in train function.In future releases it will become default for mps supported machines.\n",
      "  accelerator, lightning_devices, device = parse_device_args(\n",
      "GPU available: True (mps), used: False\n",
      "TPU available: False, using: 0 TPU cores\n",
      "HPU available: False, using: 0 HPUs\n",
      "/Users/thorsten/.pyenv/versions/3.10.6/envs/SingleCell/lib/python3.10/site-packages/lightning/pytorch/trainer/setup.py:177: GPU available but not used. You can set it by doing `Trainer(accelerator='gpu')`.\n",
      "/Users/thorsten/.pyenv/versions/3.10.6/envs/SingleCell/lib/python3.10/site-packages/lightning/pytorch/trainer/connectors/data_connector.py:425: The 'train_dataloader' does not have many workers which may be a bottleneck. Consider increasing the value of the `num_workers` argument` to `num_workers=7` in the `DataLoader` to improve performance.\n",
      "/Users/thorsten/.pyenv/versions/3.10.6/envs/SingleCell/lib/python3.10/site-packages/lightning/pytorch/trainer/connectors/data_connector.py:425: The 'val_dataloader' does not have many workers which may be a bottleneck. Consider increasing the value of the `num_workers` argument` to `num_workers=7` in the `DataLoader` to improve performance.\n"
     ]
    },
    {
     "data": {
      "application/vnd.jupyter.widget-view+json": {
       "model_id": "69c6095397d6484282d82617ff309224",
       "version_major": 2,
       "version_minor": 0
      },
      "text/plain": [
       "Training:   0%|          | 0/400 [00:00<?, ?it/s]"
      ]
     },
     "metadata": {},
     "output_type": "display_data"
    },
    {
     "name": "stdout",
     "output_type": "stream",
     "text": [
      "Monitored metric validation_loss did not improve in the last 30 records. Best score: 0.209. Signaling Trainer to stop.\n"
     ]
    }
   ],
   "source": [
    "# Train the doublet class model (it has an stop inside if loss is not changing anymore)\n",
    "solo = scvi.external.SOLO.from_scvi_model(vae)\n",
    "solo.train()"
   ]
  },
  {
   "cell_type": "code",
   "execution_count": 32,
   "id": "0d608e45-2fb4-4354-84ed-df0383b82476",
   "metadata": {
    "execution": {
     "iopub.execute_input": "2025-07-25T22:48:42.173536Z",
     "iopub.status.busy": "2025-07-25T22:48:42.171339Z",
     "iopub.status.idle": "2025-07-25T22:48:42.647704Z",
     "shell.execute_reply": "2025-07-25T22:48:42.647360Z",
     "shell.execute_reply.started": "2025-07-25T22:48:42.173430Z"
    }
   },
   "outputs": [
    {
     "name": "stderr",
     "output_type": "stream",
     "text": [
      "/Users/thorsten/.pyenv/versions/3.10.6/envs/SingleCell/lib/python3.10/site-packages/torch/utils/_contextlib.py:116: UserWarning: Prior to scvi-tools 1.1.3, `SOLO.predict` with `soft=True` (the default option) returned logits instead of probabilities. This behavior has since been corrected to return probabiltiies. The previous behavior can be replicated by passing in `return_logits=True`.\n",
      "  return func(*args, **kwargs)\n",
      "/Users/thorsten/.pyenv/versions/3.10.6/envs/SingleCell/lib/python3.10/site-packages/torch/utils/_contextlib.py:116: UserWarning: Prior to scvi-tools 1.1.3, `SOLO.predict` with `soft=True` (the default option) returned logits instead of probabilities. This behavior has since been corrected to return probabiltiies. The previous behavior can be replicated by passing in `return_logits=True`.\n",
      "  return func(*args, **kwargs)\n"
     ]
    },
    {
     "data": {
      "text/html": [
       "<div>\n",
       "<style scoped>\n",
       "    .dataframe tbody tr th:only-of-type {\n",
       "        vertical-align: middle;\n",
       "    }\n",
       "\n",
       "    .dataframe tbody tr th {\n",
       "        vertical-align: top;\n",
       "    }\n",
       "\n",
       "    .dataframe thead th {\n",
       "        text-align: right;\n",
       "    }\n",
       "</style>\n",
       "<table border=\"1\" class=\"dataframe\">\n",
       "  <thead>\n",
       "    <tr style=\"text-align: right;\">\n",
       "      <th></th>\n",
       "      <th>doublet</th>\n",
       "      <th>singlet</th>\n",
       "      <th>prediction</th>\n",
       "    </tr>\n",
       "  </thead>\n",
       "  <tbody>\n",
       "    <tr>\n",
       "      <th>WT_AAACCCAAGCATCTTG</th>\n",
       "      <td>0.006114</td>\n",
       "      <td>0.993886</td>\n",
       "      <td>singlet</td>\n",
       "    </tr>\n",
       "    <tr>\n",
       "      <th>WT_AAACCCAAGGGTTGCA</th>\n",
       "      <td>0.120150</td>\n",
       "      <td>0.879850</td>\n",
       "      <td>singlet</td>\n",
       "    </tr>\n",
       "    <tr>\n",
       "      <th>WT_AAACCCAGTCCGAAAG</th>\n",
       "      <td>0.188696</td>\n",
       "      <td>0.811304</td>\n",
       "      <td>singlet</td>\n",
       "    </tr>\n",
       "    <tr>\n",
       "      <th>WT_AAACCCAGTCCGTTTC</th>\n",
       "      <td>0.097345</td>\n",
       "      <td>0.902655</td>\n",
       "      <td>singlet</td>\n",
       "    </tr>\n",
       "    <tr>\n",
       "      <th>WT_AAACCCAGTGTGGTCC</th>\n",
       "      <td>0.003006</td>\n",
       "      <td>0.996994</td>\n",
       "      <td>singlet</td>\n",
       "    </tr>\n",
       "    <tr>\n",
       "      <th>...</th>\n",
       "      <td>...</td>\n",
       "      <td>...</td>\n",
       "      <td>...</td>\n",
       "    </tr>\n",
       "    <tr>\n",
       "      <th>D7_analysis_TTTGTTGGTGAGCAGT</th>\n",
       "      <td>0.027798</td>\n",
       "      <td>0.972202</td>\n",
       "      <td>singlet</td>\n",
       "    </tr>\n",
       "    <tr>\n",
       "      <th>D7_analysis_TTTGTTGGTGCCTGAC</th>\n",
       "      <td>0.266351</td>\n",
       "      <td>0.733649</td>\n",
       "      <td>singlet</td>\n",
       "    </tr>\n",
       "    <tr>\n",
       "      <th>D7_analysis_TTTGTTGGTTGAGAGC</th>\n",
       "      <td>0.101135</td>\n",
       "      <td>0.898865</td>\n",
       "      <td>singlet</td>\n",
       "    </tr>\n",
       "    <tr>\n",
       "      <th>D7_analysis_TTTGTTGTCCTTATAC</th>\n",
       "      <td>0.057880</td>\n",
       "      <td>0.942120</td>\n",
       "      <td>singlet</td>\n",
       "    </tr>\n",
       "    <tr>\n",
       "      <th>D7_analysis_TTTGTTGTCGGCTGGT</th>\n",
       "      <td>0.000882</td>\n",
       "      <td>0.999118</td>\n",
       "      <td>singlet</td>\n",
       "    </tr>\n",
       "  </tbody>\n",
       "</table>\n",
       "<p>33681 rows × 3 columns</p>\n",
       "</div>"
      ],
      "text/plain": [
       "                               doublet   singlet prediction\n",
       "WT_AAACCCAAGCATCTTG           0.006114  0.993886    singlet\n",
       "WT_AAACCCAAGGGTTGCA           0.120150  0.879850    singlet\n",
       "WT_AAACCCAGTCCGAAAG           0.188696  0.811304    singlet\n",
       "WT_AAACCCAGTCCGTTTC           0.097345  0.902655    singlet\n",
       "WT_AAACCCAGTGTGGTCC           0.003006  0.996994    singlet\n",
       "...                                ...       ...        ...\n",
       "D7_analysis_TTTGTTGGTGAGCAGT  0.027798  0.972202    singlet\n",
       "D7_analysis_TTTGTTGGTGCCTGAC  0.266351  0.733649    singlet\n",
       "D7_analysis_TTTGTTGGTTGAGAGC  0.101135  0.898865    singlet\n",
       "D7_analysis_TTTGTTGTCCTTATAC  0.057880  0.942120    singlet\n",
       "D7_analysis_TTTGTTGTCGGCTGGT  0.000882  0.999118    singlet\n",
       "\n",
       "[33681 rows x 3 columns]"
      ]
     },
     "execution_count": 32,
     "metadata": {},
     "output_type": "execute_result"
    }
   ],
   "source": [
    "# Use predict to annotate the cell barcodes with the trained identifier and annotate it as a string in \"doublet\" or \"singlet\"\n",
    "df = solo.predict()\n",
    "df['prediction'] = solo.predict(soft=False)\n",
    "df"
   ]
  },
  {
   "cell_type": "code",
   "execution_count": 52,
   "id": "9cedf5d7-654b-4d06-ba9f-2f8da478d102",
   "metadata": {
    "execution": {
     "iopub.execute_input": "2025-07-25T23:12:58.765002Z",
     "iopub.status.busy": "2025-07-25T23:12:58.762791Z",
     "iopub.status.idle": "2025-07-25T23:12:58.803372Z",
     "shell.execute_reply": "2025-07-25T23:12:58.802573Z",
     "shell.execute_reply.started": "2025-07-25T23:12:58.764896Z"
    }
   },
   "outputs": [
    {
     "name": "stdout",
     "output_type": "stream",
     "text": [
      "Doublets: 3811 / 33681 (11.31%)\n"
     ]
    }
   ],
   "source": [
    "# Count how many cells are predicted as singlet or doublet\n",
    "counts = df.groupby('prediction').count()\n",
    "\n",
    "# Total number of cells\n",
    "total = counts.sum().values[0]  # or len(df)\n",
    "\n",
    "# Number of predicted doublets\n",
    "num_doublets = df.groupby('prediction').count().loc['doublet','doublet']\n",
    "\n",
    "# Percentage of doublets\n",
    "percent_doublets = (num_doublets / total) * 100\n",
    "\n",
    "print(f\"Doublets: {num_doublets} / {total} ({percent_doublets:.2f}%)\")"
   ]
  },
  {
   "cell_type": "code",
   "execution_count": 36,
   "id": "a2f29fe7-892d-49f7-a7fa-c6f4bebda820",
   "metadata": {
    "execution": {
     "iopub.execute_input": "2025-07-25T22:52:03.543623Z",
     "iopub.status.busy": "2025-07-25T22:52:03.541406Z",
     "iopub.status.idle": "2025-07-25T22:52:03.570955Z",
     "shell.execute_reply": "2025-07-25T22:52:03.570212Z",
     "shell.execute_reply.started": "2025-07-25T22:52:03.543533Z"
    }
   },
   "outputs": [
    {
     "data": {
      "text/html": [
       "<div>\n",
       "<style scoped>\n",
       "    .dataframe tbody tr th:only-of-type {\n",
       "        vertical-align: middle;\n",
       "    }\n",
       "\n",
       "    .dataframe tbody tr th {\n",
       "        vertical-align: top;\n",
       "    }\n",
       "\n",
       "    .dataframe thead th {\n",
       "        text-align: right;\n",
       "    }\n",
       "</style>\n",
       "<table border=\"1\" class=\"dataframe\">\n",
       "  <thead>\n",
       "    <tr style=\"text-align: right;\">\n",
       "      <th></th>\n",
       "      <th>doublet</th>\n",
       "      <th>singlet</th>\n",
       "      <th>prediction</th>\n",
       "      <th>dif</th>\n",
       "    </tr>\n",
       "  </thead>\n",
       "  <tbody>\n",
       "    <tr>\n",
       "      <th>WT_AAACCCAAGCATCTTG</th>\n",
       "      <td>0.006114</td>\n",
       "      <td>0.993886</td>\n",
       "      <td>singlet</td>\n",
       "      <td>-0.987771</td>\n",
       "    </tr>\n",
       "    <tr>\n",
       "      <th>WT_AAACCCAAGGGTTGCA</th>\n",
       "      <td>0.120150</td>\n",
       "      <td>0.879850</td>\n",
       "      <td>singlet</td>\n",
       "      <td>-0.759700</td>\n",
       "    </tr>\n",
       "    <tr>\n",
       "      <th>WT_AAACCCAGTCCGAAAG</th>\n",
       "      <td>0.188696</td>\n",
       "      <td>0.811304</td>\n",
       "      <td>singlet</td>\n",
       "      <td>-0.622608</td>\n",
       "    </tr>\n",
       "    <tr>\n",
       "      <th>WT_AAACCCAGTCCGTTTC</th>\n",
       "      <td>0.097345</td>\n",
       "      <td>0.902655</td>\n",
       "      <td>singlet</td>\n",
       "      <td>-0.805311</td>\n",
       "    </tr>\n",
       "    <tr>\n",
       "      <th>WT_AAACCCAGTGTGGTCC</th>\n",
       "      <td>0.003006</td>\n",
       "      <td>0.996994</td>\n",
       "      <td>singlet</td>\n",
       "      <td>-0.993988</td>\n",
       "    </tr>\n",
       "    <tr>\n",
       "      <th>...</th>\n",
       "      <td>...</td>\n",
       "      <td>...</td>\n",
       "      <td>...</td>\n",
       "      <td>...</td>\n",
       "    </tr>\n",
       "    <tr>\n",
       "      <th>D7_analysis_TTTGTTGGTGAGCAGT</th>\n",
       "      <td>0.027798</td>\n",
       "      <td>0.972202</td>\n",
       "      <td>singlet</td>\n",
       "      <td>-0.944404</td>\n",
       "    </tr>\n",
       "    <tr>\n",
       "      <th>D7_analysis_TTTGTTGGTGCCTGAC</th>\n",
       "      <td>0.266351</td>\n",
       "      <td>0.733649</td>\n",
       "      <td>singlet</td>\n",
       "      <td>-0.467298</td>\n",
       "    </tr>\n",
       "    <tr>\n",
       "      <th>D7_analysis_TTTGTTGGTTGAGAGC</th>\n",
       "      <td>0.101135</td>\n",
       "      <td>0.898865</td>\n",
       "      <td>singlet</td>\n",
       "      <td>-0.797729</td>\n",
       "    </tr>\n",
       "    <tr>\n",
       "      <th>D7_analysis_TTTGTTGTCCTTATAC</th>\n",
       "      <td>0.057880</td>\n",
       "      <td>0.942120</td>\n",
       "      <td>singlet</td>\n",
       "      <td>-0.884240</td>\n",
       "    </tr>\n",
       "    <tr>\n",
       "      <th>D7_analysis_TTTGTTGTCGGCTGGT</th>\n",
       "      <td>0.000882</td>\n",
       "      <td>0.999118</td>\n",
       "      <td>singlet</td>\n",
       "      <td>-0.998236</td>\n",
       "    </tr>\n",
       "  </tbody>\n",
       "</table>\n",
       "<p>33681 rows × 4 columns</p>\n",
       "</div>"
      ],
      "text/plain": [
       "                               doublet   singlet prediction       dif\n",
       "WT_AAACCCAAGCATCTTG           0.006114  0.993886    singlet -0.987771\n",
       "WT_AAACCCAAGGGTTGCA           0.120150  0.879850    singlet -0.759700\n",
       "WT_AAACCCAGTCCGAAAG           0.188696  0.811304    singlet -0.622608\n",
       "WT_AAACCCAGTCCGTTTC           0.097345  0.902655    singlet -0.805311\n",
       "WT_AAACCCAGTGTGGTCC           0.003006  0.996994    singlet -0.993988\n",
       "...                                ...       ...        ...       ...\n",
       "D7_analysis_TTTGTTGGTGAGCAGT  0.027798  0.972202    singlet -0.944404\n",
       "D7_analysis_TTTGTTGGTGCCTGAC  0.266351  0.733649    singlet -0.467298\n",
       "D7_analysis_TTTGTTGGTTGAGAGC  0.101135  0.898865    singlet -0.797729\n",
       "D7_analysis_TTTGTTGTCCTTATAC  0.057880  0.942120    singlet -0.884240\n",
       "D7_analysis_TTTGTTGTCGGCTGGT  0.000882  0.999118    singlet -0.998236\n",
       "\n",
       "[33681 rows x 4 columns]"
      ]
     },
     "execution_count": 36,
     "metadata": {},
     "output_type": "execute_result"
    }
   ],
   "source": [
    "#Calculating the difference of doublet and singlet score to identify cells that have high scores in both (close to 0)\n",
    "df['dif'] = df.doublet - df.singlet\n",
    "df"
   ]
  },
  {
   "cell_type": "code",
   "execution_count": null,
   "id": "f1358af7-6496-4db3-8f9e-842dd209d26b",
   "metadata": {},
   "outputs": [],
   "source": []
  },
  {
   "cell_type": "code",
   "execution_count": null,
   "id": "3e04b430-3f9d-4d74-a89e-be9001d97d12",
   "metadata": {},
   "outputs": [],
   "source": []
  },
  {
   "cell_type": "code",
   "execution_count": null,
   "id": "8da01a26-74f2-4a41-b786-97b33c0f3cda",
   "metadata": {},
   "outputs": [],
   "source": [
    "# Count how many cells are predicted as singlet or doublet\n",
    "counts = df.groupby('prediction').count()\n",
    "\n",
    "# Total number of cells\n",
    "total = counts.sum().values[0]  # or len(df)\n",
    "\n",
    "# Number of predicted doublets\n",
    "num_doublets = counts.loc['doublet'].values[0]\n",
    "\n",
    "# Percentage of doublets\n",
    "percent_doublets = (num_doublets / total) * 100\n",
    "\n",
    "print(f\"Doublets: {num_doublets} / {total} ({percent_doublets:.2f}%)\")"
   ]
  },
  {
   "cell_type": "code",
   "execution_count": null,
   "id": "013992e3-0bae-46ed-9e29-2dab78c617d3",
   "metadata": {},
   "outputs": [],
   "source": []
  }
 ],
 "metadata": {
  "kernelspec": {
   "display_name": "Python 3 (ipykernel)",
   "language": "python",
   "name": "python3"
  },
  "language_info": {
   "codemirror_mode": {
    "name": "ipython",
    "version": 3
   },
   "file_extension": ".py",
   "mimetype": "text/x-python",
   "name": "python",
   "nbconvert_exporter": "python",
   "pygments_lexer": "ipython3",
   "version": "3.10.6"
  }
 },
 "nbformat": 4,
 "nbformat_minor": 5
}

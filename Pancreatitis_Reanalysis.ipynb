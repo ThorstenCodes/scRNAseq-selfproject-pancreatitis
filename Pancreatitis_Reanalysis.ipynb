{
 "cells": [
  {
   "cell_type": "markdown",
   "id": "04c5269e-5806-433e-80fd-6adfdcf67973",
   "metadata": {},
   "source": [
    "# Pancreatitis scRNA-seq Data - Reananalysis"
   ]
  },
  {
   "cell_type": "markdown",
   "id": "45a333c2-03cd-43e9-8736-5ec4117ad8ee",
   "metadata": {},
   "source": [
    "# 1. Download and Initial Processing for Doublet Filtering"
   ]
  },
  {
   "cell_type": "markdown",
   "id": "dabbf252-5c3e-4cc2-bfea-1686d2d5d5b4",
   "metadata": {},
   "source": [
    "The data analysed in this notebook is from Poggetto E; Ho I et al Science 2025 (PMID:34529467). Data can be found on GEO under accession number GSM5494073. ScRNA-seq data are stored in the series GSE181276. The link below can be found by going to https://www.ncbi.nlm.nih.gov/geo/query/acc.cgi?acc=GSE181276 and with right click copy the \"http\" hyperlink in the Download column. \n",
    "\n",
    "The flags are required to download this file otherwise it downloads only a HTML page: <br>\n",
    "-L --> redirects it to the actual file (*_genes.counts_*.txt.gz), without it would only download a HTML page. <br>\n",
    "-O --> tells curl that it saves the file using the URL filename (without it would be in printed in the terminal) <br>\n",
    "-J --> tells curl to use the name instead of the final url segment"
   ]
  },
  {
   "cell_type": "code",
   "execution_count": 1,
   "id": "274a7b51-f240-43e2-99a8-829a914600e1",
   "metadata": {
    "execution": {
     "iopub.execute_input": "2025-07-27T16:19:33.011593Z",
     "iopub.status.busy": "2025-07-27T16:19:33.009837Z",
     "iopub.status.idle": "2025-07-27T16:19:39.014206Z",
     "shell.execute_reply": "2025-07-27T16:19:39.013492Z",
     "shell.execute_reply.started": "2025-07-27T16:19:33.011493Z"
    }
   },
   "outputs": [
    {
     "name": "stdout",
     "output_type": "stream",
     "text": [
      "  % Total    % Received % Xferd  Average Speed   Time    Time     Time  Current\n",
      "                                 Dload  Upload   Total   Spent    Left  Speed\n",
      "100  105M  100  105M    0     0  23.7M      0  0:00:04  0:00:04 --:--:-- 25.0M\n"
     ]
    }
   ],
   "source": [
    "#Create new direcotry for rawdata\n",
    "!mkdir -p rawdata\n",
    "# Download data using curl\n",
    "!cd rawdata && curl -L -O -J \"https://www.ncbi.nlm.nih.gov/geo/download/?acc=GSE181276&format=file&file=GSE181276_genes.counts_for_GEO_uploading.txt.gz\"\n",
    "# Unzip the gene_counts file in the rawdata folder\n",
    "!cd rawdata && gunzip \"GSE181276_genes.counts_for_GEO_uploading.txt.gz\""
   ]
  },
  {
   "cell_type": "code",
   "execution_count": 2,
   "id": "f29ca7c4-ecbc-490b-9ed9-e9b75b047851",
   "metadata": {
    "execution": {
     "iopub.execute_input": "2025-07-27T16:19:44.896268Z",
     "iopub.status.busy": "2025-07-27T16:19:44.894176Z",
     "iopub.status.idle": "2025-07-27T16:19:50.317099Z",
     "shell.execute_reply": "2025-07-27T16:19:50.316804Z",
     "shell.execute_reply.started": "2025-07-27T16:19:44.896156Z"
    }
   },
   "outputs": [],
   "source": [
    "#Import of software packages\n",
    "import scanpy as sc\n",
    "import scvi\n",
    "import pandas as pd\n",
    "import seaborn as sns"
   ]
  },
  {
   "cell_type": "code",
   "execution_count": 15,
   "id": "6adfef90-4e7d-43b0-99ef-65470d69815b",
   "metadata": {
    "execution": {
     "iopub.execute_input": "2025-07-27T16:33:28.796832Z",
     "iopub.status.busy": "2025-07-27T16:33:28.795912Z",
     "iopub.status.idle": "2025-07-27T16:34:33.455892Z",
     "shell.execute_reply": "2025-07-27T16:34:33.454957Z",
     "shell.execute_reply.started": "2025-07-27T16:33:28.796768Z"
    }
   },
   "outputs": [],
   "source": [
    "# Read file but transpose it as Anndata and Scanpy require cells (barcodes) as rows and gene names in columns (but file has gene names as rows)\n",
    "adata = sc.read_text('rawdata/GSE181276_genes.counts_for_GEO_uploading.txt').T"
   ]
  },
  {
   "cell_type": "code",
   "execution_count": 16,
   "id": "1bf69669-92a1-44ff-87e2-9165b225163b",
   "metadata": {
    "execution": {
     "iopub.execute_input": "2025-07-27T16:34:33.457267Z",
     "iopub.status.busy": "2025-07-27T16:34:33.457129Z",
     "iopub.status.idle": "2025-07-27T16:34:33.468183Z",
     "shell.execute_reply": "2025-07-27T16:34:33.467129Z",
     "shell.execute_reply.started": "2025-07-27T16:34:33.457250Z"
    }
   },
   "outputs": [
    {
     "data": {
      "text/html": [
       "<div>\n",
       "<style scoped>\n",
       "    .dataframe tbody tr th:only-of-type {\n",
       "        vertical-align: middle;\n",
       "    }\n",
       "\n",
       "    .dataframe tbody tr th {\n",
       "        vertical-align: top;\n",
       "    }\n",
       "\n",
       "    .dataframe thead th {\n",
       "        text-align: right;\n",
       "    }\n",
       "</style>\n",
       "<table border=\"1\" class=\"dataframe\">\n",
       "  <thead>\n",
       "    <tr style=\"text-align: right;\">\n",
       "      <th></th>\n",
       "    </tr>\n",
       "  </thead>\n",
       "  <tbody>\n",
       "    <tr>\n",
       "      <th>WT_AAACCCAAGCATCTTG</th>\n",
       "    </tr>\n",
       "    <tr>\n",
       "      <th>WT_AAACCCAAGGGTTGCA</th>\n",
       "    </tr>\n",
       "    <tr>\n",
       "      <th>WT_AAACCCAGTCCGAAAG</th>\n",
       "    </tr>\n",
       "    <tr>\n",
       "      <th>WT_AAACCCAGTCCGTTTC</th>\n",
       "    </tr>\n",
       "    <tr>\n",
       "      <th>WT_AAACCCAGTGTGGTCC</th>\n",
       "    </tr>\n",
       "    <tr>\n",
       "      <th>...</th>\n",
       "    </tr>\n",
       "    <tr>\n",
       "      <th>D7_analysis_TTTGTTGGTGAGCAGT</th>\n",
       "    </tr>\n",
       "    <tr>\n",
       "      <th>D7_analysis_TTTGTTGGTGCCTGAC</th>\n",
       "    </tr>\n",
       "    <tr>\n",
       "      <th>D7_analysis_TTTGTTGGTTGAGAGC</th>\n",
       "    </tr>\n",
       "    <tr>\n",
       "      <th>D7_analysis_TTTGTTGTCCTTATAC</th>\n",
       "    </tr>\n",
       "    <tr>\n",
       "      <th>D7_analysis_TTTGTTGTCGGCTGGT</th>\n",
       "    </tr>\n",
       "  </tbody>\n",
       "</table>\n",
       "<p>33681 rows × 0 columns</p>\n",
       "</div>"
      ],
      "text/plain": [
       "Empty DataFrame\n",
       "Columns: []\n",
       "Index: [WT_AAACCCAAGCATCTTG, WT_AAACCCAAGGGTTGCA, WT_AAACCCAGTCCGAAAG, WT_AAACCCAGTCCGTTTC, WT_AAACCCAGTGTGGTCC, WT_AAACCCATCCGCACTT, WT_AAACCCATCTCCTGCA, WT_AAACGAAAGGCTGAAC, WT_AAACGAAAGGTGAGAA, WT_AAACGAAAGTGGTCAG, WT_AAACGAAGTAGGTACG, WT_AAACGAATCTGGCCGA, WT_AAACGCTAGTAGCTCT, WT_AAACGCTCACGCGCAT, WT_AAACGCTGTACGAGCA, WT_AAACGCTGTCAGTCCG, WT_AAACGCTTCCGTCACT, WT_AAACGCTTCGAGCCTG, WT_AAAGAACAGAGTCACG, WT_AAAGAACAGTCAATCC, WT_AAAGAACAGTTCACTG, WT_AAAGAACCAATAAGGT, WT_AAAGAACCAGATCCTA, WT_AAAGAACGTGAGTGAC, WT_AAAGAACTCGAAATCC, WT_AAAGGATAGTTACGGG, WT_AAAGGATCAAATCGGG, WT_AAAGGATCAACCCTAA, WT_AAAGGATCAATAGTGA, WT_AAAGGATCAGTCAGTT, WT_AAAGGATTCATGGCCG, WT_AAAGGGCCAACCAGAG, WT_AAAGGGCCACTAGGCC, WT_AAAGGGCGTGGCCTCA, WT_AAAGGGCTCAAATGAG, WT_AAAGGGCTCGCCGTGA, WT_AAAGGTAAGACATATG, WT_AAAGGTAAGTGGATAT, WT_AAAGGTACATTCTCCG, WT_AAAGGTAGTAAGAACT, WT_AAAGGTAGTCGCATGC, WT_AAAGGTAGTTCAATCG, WT_AAAGGTATCAGAACCT, WT_AAAGGTATCATAGCAC, WT_AAAGGTATCTCATTGT, WT_AAAGGTATCTGTCCCA, WT_AAAGTCCAGGCACTCC, WT_AAAGTCCAGGCTGAAC, WT_AAAGTCCAGGGCCCTT, WT_AAAGTCCAGGTTTACC, WT_AAAGTCCAGTCGAATA, WT_AAAGTCCCAGGTGACA, WT_AAAGTCCCAGGTGTTT, WT_AAAGTCCCATCTATCT, WT_AAAGTCCTCACAGTGT, WT_AAAGTCCTCATGGATC, WT_AAAGTGAAGACGGAAA, WT_AAAGTGAAGCGTATAA, WT_AAAGTGACAAGCCTGC, WT_AAAGTGACAAGGACAC, WT_AAAGTGAGTCCCTAAA, WT_AAAGTGATCAAGGAGC, WT_AAAGTGATCGTTGCCT, WT_AAATGGAAGACTCCGC, WT_AAATGGAAGCCTCCAG, WT_AAATGGACAATTCTTC, WT_AAATGGACATTAGGCT, WT_AAATGGAGTTCTTAGG, WT_AACAAAGAGAGTGAAG, WT_AACAAAGAGGGATCGT, WT_AACAAAGAGTATTGCC, WT_AACAAAGCATCGTTCC, WT_AACAAAGGTGCCCACA, WT_AACAAAGGTTGGTACT, WT_AACAAAGTCAAAGGAT, WT_AACAAAGTCGGAACTT, WT_AACAACCAGAGAGCCT, WT_AACAACCAGTGCTACT, WT_AACAACCCACTGTCCT, WT_AACAACCTCAGCCCAG, WT_AACAACCTCGATACGT, WT_AACAACCTCTCGTGGG, WT_AACAAGATCTGGGCAC, WT_AACAAGATCTTCGATT, WT_AACACACCAGACCCGT, WT_AACACACCAGTTGTTG, WT_AACACACGTGCACGCT, WT_AACACACTCACCCTTG, WT_AACACACTCTTCACAT, WT_AACAGGGAGACGATAT, WT_AACAGGGAGCTCGCAC, WT_AACAGGGAGTCCCGAC, WT_AACAGGGCACTTCATT, WT_AACAGGGCAGCTCCTT, WT_AACAGGGCAGTCTCTC, WT_AACAGGGGTACTGGGA, WT_AACCAACAGACTTAAG, WT_AACCAACTCACTTATC, WT_AACCAACTCAGCCCAG, WT_AACCAACTCCCTCATG, ...]\n",
       "\n",
       "[33681 rows x 0 columns]"
      ]
     },
     "execution_count": 16,
     "metadata": {},
     "output_type": "execute_result"
    }
   ],
   "source": [
    "# adata.obs contains cell barcodes\n",
    "adata.obs"
   ]
  },
  {
   "cell_type": "code",
   "execution_count": 17,
   "id": "d693bef4-2955-424a-adf0-ee89e49ff5a9",
   "metadata": {
    "execution": {
     "iopub.execute_input": "2025-07-27T16:34:33.469387Z",
     "iopub.status.busy": "2025-07-27T16:34:33.469232Z",
     "iopub.status.idle": "2025-07-27T16:34:33.473622Z",
     "shell.execute_reply": "2025-07-27T16:34:33.473298Z",
     "shell.execute_reply.started": "2025-07-27T16:34:33.469374Z"
    }
   },
   "outputs": [
    {
     "data": {
      "text/html": [
       "<div>\n",
       "<style scoped>\n",
       "    .dataframe tbody tr th:only-of-type {\n",
       "        vertical-align: middle;\n",
       "    }\n",
       "\n",
       "    .dataframe tbody tr th {\n",
       "        vertical-align: top;\n",
       "    }\n",
       "\n",
       "    .dataframe thead th {\n",
       "        text-align: right;\n",
       "    }\n",
       "</style>\n",
       "<table border=\"1\" class=\"dataframe\">\n",
       "  <thead>\n",
       "    <tr style=\"text-align: right;\">\n",
       "      <th></th>\n",
       "    </tr>\n",
       "  </thead>\n",
       "  <tbody>\n",
       "    <tr>\n",
       "      <th>Xkr4</th>\n",
       "    </tr>\n",
       "    <tr>\n",
       "      <th>Gm1992</th>\n",
       "    </tr>\n",
       "    <tr>\n",
       "      <th>Gm37381</th>\n",
       "    </tr>\n",
       "    <tr>\n",
       "      <th>Rp1</th>\n",
       "    </tr>\n",
       "    <tr>\n",
       "      <th>Sox17</th>\n",
       "    </tr>\n",
       "    <tr>\n",
       "      <th>...</th>\n",
       "    </tr>\n",
       "    <tr>\n",
       "      <th>AC168977.1</th>\n",
       "    </tr>\n",
       "    <tr>\n",
       "      <th>AC149090.1</th>\n",
       "    </tr>\n",
       "    <tr>\n",
       "      <th>CAAA01118383.1</th>\n",
       "    </tr>\n",
       "    <tr>\n",
       "      <th>Vmn2r122</th>\n",
       "    </tr>\n",
       "    <tr>\n",
       "      <th>CAAA01147332.1</th>\n",
       "    </tr>\n",
       "  </tbody>\n",
       "</table>\n",
       "<p>31053 rows × 0 columns</p>\n",
       "</div>"
      ],
      "text/plain": [
       "Empty DataFrame\n",
       "Columns: []\n",
       "Index: [Xkr4, Gm1992, Gm37381, Rp1, Sox17, Gm37323, Mrpl15, Lypla1, Gm37988, Tcea1, Rgs20, Gm16041, Atp6v1h, Oprk1, Npbwr1, Rb1cc1, 4732440D04Rik, Alkal1, St18, Pcmtd1, Gm26901, Gm30414, Sntg1, Rrs1, Adhfe1, 3110035E14Rik, Gm29520, Mybl1, Vcpip1, 1700034P13Rik, Sgk3, Mcmdc2, Snhg6, Tcf24, Ppp1r42, Gm15818, Cops5, Cspp1, Arfgef1, Cpa6, Prex2, A830018L16Rik, Gm17644, Gm29663, Sulf1, Slco5a1, Gm29283, Prdm14, Ncoa2, Gm29570, Tram1, Lactb2, Xkr9, Eya1, Gm9947, Msc, Trpa1, Kcnb2, Terf1, Sbspon, 4930444P10Rik, Rpl7, Rdh10, Gm28095, Stau2, Gm7568, Ube2w, Eloc, D030040B21Rik, Tmem70, Ly96, Gm28376, Jph1, Gm28783, Gdap1, Gm28784, Pi15, Gm28154, Gm16070, Crispld1, Gm28153, Crisp4, Defb18, Defb41, Gm15825, Tfap2d, Tfap2b, Gm28340, Pkhd1, 4930486I03Rik, Gm28653, Il17a, Il17f, Mcm3, Gm28065, 6720483E21Rik, Paqr8, Efhc1, Tram2, Gm28287, ...]\n",
       "\n",
       "[31053 rows x 0 columns]"
      ]
     },
     "execution_count": 17,
     "metadata": {},
     "output_type": "execute_result"
    }
   ],
   "source": [
    "#adata.var contains Gene Names\n",
    "adata.var"
   ]
  },
  {
   "cell_type": "code",
   "execution_count": 18,
   "id": "ac2201af-ba94-462b-a651-00ac9bd5119d",
   "metadata": {
    "execution": {
     "iopub.execute_input": "2025-07-27T16:34:33.475178Z",
     "iopub.status.busy": "2025-07-27T16:34:33.474950Z",
     "iopub.status.idle": "2025-07-27T16:34:33.477946Z",
     "shell.execute_reply": "2025-07-27T16:34:33.477609Z",
     "shell.execute_reply.started": "2025-07-27T16:34:33.475166Z"
    }
   },
   "outputs": [
    {
     "data": {
      "text/plain": [
       "(33681, 31053)"
      ]
     },
     "execution_count": 18,
     "metadata": {},
     "output_type": "execute_result"
    }
   ],
   "source": [
    "# Shows size of count matrix (n_cells, n_genes)\n",
    "adata.shape"
   ]
  },
  {
   "cell_type": "code",
   "execution_count": 19,
   "id": "aec87f72-d1d9-4e3c-8150-c09541b9a815",
   "metadata": {
    "execution": {
     "iopub.execute_input": "2025-07-27T16:34:33.478551Z",
     "iopub.status.busy": "2025-07-27T16:34:33.478362Z",
     "iopub.status.idle": "2025-07-27T16:34:33.480757Z",
     "shell.execute_reply": "2025-07-27T16:34:33.480243Z",
     "shell.execute_reply.started": "2025-07-27T16:34:33.478537Z"
    }
   },
   "outputs": [],
   "source": [
    "Total_gene_number = adata.shape[1]"
   ]
  },
  {
   "cell_type": "code",
   "execution_count": 20,
   "id": "e594ed4f-19ab-42b6-a919-e61960149c08",
   "metadata": {
    "execution": {
     "iopub.execute_input": "2025-07-27T16:34:33.481515Z",
     "iopub.status.busy": "2025-07-27T16:34:33.481317Z",
     "iopub.status.idle": "2025-07-27T16:34:39.570456Z",
     "shell.execute_reply": "2025-07-27T16:34:39.569694Z",
     "shell.execute_reply.started": "2025-07-27T16:34:33.481502Z"
    }
   },
   "outputs": [],
   "source": [
    "# Filter to remove genes occuring in less than 10 cells\n",
    "sc.pp.filter_genes(adata, min_cells=10)"
   ]
  },
  {
   "cell_type": "code",
   "execution_count": 21,
   "id": "7f45f34f-a41a-4dac-9ba2-6b8692c1c02c",
   "metadata": {
    "execution": {
     "iopub.execute_input": "2025-07-27T16:34:39.571705Z",
     "iopub.status.busy": "2025-07-27T16:34:39.571546Z",
     "iopub.status.idle": "2025-07-27T16:34:39.576057Z",
     "shell.execute_reply": "2025-07-27T16:34:39.575473Z",
     "shell.execute_reply.started": "2025-07-27T16:34:39.571690Z"
    }
   },
   "outputs": [],
   "source": [
    "Gene_Number_after_filtering = adata.shape[1]"
   ]
  },
  {
   "cell_type": "code",
   "execution_count": 22,
   "id": "626fd948-b398-4934-832b-f4c317149467",
   "metadata": {
    "execution": {
     "iopub.execute_input": "2025-07-27T16:34:39.576860Z",
     "iopub.status.busy": "2025-07-27T16:34:39.576662Z",
     "iopub.status.idle": "2025-07-27T16:34:39.580400Z",
     "shell.execute_reply": "2025-07-27T16:34:39.580083Z",
     "shell.execute_reply.started": "2025-07-27T16:34:39.576848Z"
    }
   },
   "outputs": [
    {
     "data": {
      "text/plain": [
       "43.56"
      ]
     },
     "execution_count": 22,
     "metadata": {},
     "output_type": "execute_result"
    }
   ],
   "source": [
    "Loss_of_genes = round((Total_gene_number-Gene_Number_after_filtering)/Total_gene_number*100,2)\n",
    "Loss_of_genes"
   ]
  },
  {
   "cell_type": "markdown",
   "id": "bf556276-ed23-47dc-98f0-47920944bb4a",
   "metadata": {},
   "source": [
    "## Doublet Removal"
   ]
  },
  {
   "cell_type": "code",
   "execution_count": 23,
   "id": "f106a196-d4c9-4d8d-8d6d-3d4435f5125e",
   "metadata": {
    "execution": {
     "iopub.execute_input": "2025-07-27T16:34:39.581139Z",
     "iopub.status.busy": "2025-07-27T16:34:39.580931Z",
     "iopub.status.idle": "2025-07-27T16:35:07.781766Z",
     "shell.execute_reply": "2025-07-27T16:35:07.780546Z",
     "shell.execute_reply.started": "2025-07-27T16:34:39.581126Z"
    }
   },
   "outputs": [],
   "source": [
    "# Subsetting the highly variable genes to train the ScVI model\n",
    "sc.pp.highly_variable_genes(adata, n_top_genes = 2000, subset = True, flavor='seurat_v3')"
   ]
  },
  {
   "cell_type": "code",
   "execution_count": 24,
   "id": "989a2e2c-4117-4d7d-9c23-3a14032b6476",
   "metadata": {
    "execution": {
     "iopub.execute_input": "2025-07-27T16:35:07.785842Z",
     "iopub.status.busy": "2025-07-27T16:35:07.785622Z",
     "iopub.status.idle": "2025-07-27T16:35:07.791151Z",
     "shell.execute_reply": "2025-07-27T16:35:07.790824Z",
     "shell.execute_reply.started": "2025-07-27T16:35:07.785825Z"
    }
   },
   "outputs": [
    {
     "data": {
      "text/plain": [
       "AnnData object with n_obs × n_vars = 33681 × 2000\n",
       "    var: 'n_cells', 'highly_variable', 'highly_variable_rank', 'means', 'variances', 'variances_norm'\n",
       "    uns: 'hvg'"
      ]
     },
     "execution_count": 24,
     "metadata": {},
     "output_type": "execute_result"
    }
   ],
   "source": [
    "# adata shape after subsetting\n",
    "adata"
   ]
  },
  {
   "cell_type": "code",
   "execution_count": 25,
   "id": "5d8ebef2-b6b4-4102-8d11-47e369243f8e",
   "metadata": {
    "execution": {
     "iopub.execute_input": "2025-07-27T16:35:16.852728Z",
     "iopub.status.busy": "2025-07-27T16:35:16.852282Z",
     "iopub.status.idle": "2025-07-27T16:51:05.494046Z",
     "shell.execute_reply": "2025-07-27T16:51:05.493153Z",
     "shell.execute_reply.started": "2025-07-27T16:35:16.852697Z"
    }
   },
   "outputs": [
    {
     "name": "stderr",
     "output_type": "stream",
     "text": [
      "/Users/thorsten/.pyenv/versions/3.10.6/envs/SingleCell/lib/python3.10/site-packages/scvi/train/_trainrunner.py:69: UserWarning: `accelerator` has been automatically set to `cpu` although 'mps' exists. If you wish to run on mps backend, use explicitly accelerator=='mps' in train function.In future releases it will become default for mps supported machines.\n",
      "  accelerator, lightning_devices, device = parse_device_args(\n",
      "GPU available: True (mps), used: False\n",
      "TPU available: False, using: 0 TPU cores\n",
      "HPU available: False, using: 0 HPUs\n",
      "/Users/thorsten/.pyenv/versions/3.10.6/envs/SingleCell/lib/python3.10/site-packages/lightning/pytorch/trainer/setup.py:177: GPU available but not used. You can set it by doing `Trainer(accelerator='gpu')`.\n",
      "/Users/thorsten/.pyenv/versions/3.10.6/envs/SingleCell/lib/python3.10/site-packages/lightning/pytorch/trainer/connectors/data_connector.py:425: The 'train_dataloader' does not have many workers which may be a bottleneck. Consider increasing the value of the `num_workers` argument` to `num_workers=7` in the `DataLoader` to improve performance.\n"
     ]
    },
    {
     "data": {
      "application/vnd.jupyter.widget-view+json": {
       "model_id": "cac635a76c834c4994c099723862f0a2",
       "version_major": 2,
       "version_minor": 0
      },
      "text/plain": [
       "Training:   0%|          | 0/238 [00:00<?, ?it/s]"
      ]
     },
     "metadata": {},
     "output_type": "display_data"
    },
    {
     "name": "stderr",
     "output_type": "stream",
     "text": [
      "`Trainer.fit` stopped: `max_epochs=238` reached.\n"
     ]
    }
   ],
   "source": [
    "# Train the SCVI Model (required for doublet removal model SOLO)\n",
    "scvi.model.SCVI.setup_anndata(adata)\n",
    "vae = scvi.model.SCVI(adata)\n",
    "vae.train()"
   ]
  },
  {
   "cell_type": "code",
   "execution_count": 26,
   "id": "576f8ea9-97b0-4709-a015-cc4fba20266b",
   "metadata": {
    "execution": {
     "iopub.execute_input": "2025-07-27T16:51:08.414376Z",
     "iopub.status.busy": "2025-07-27T16:51:08.413555Z",
     "iopub.status.idle": "2025-07-27T16:54:48.722052Z",
     "shell.execute_reply": "2025-07-27T16:54:48.721564Z",
     "shell.execute_reply.started": "2025-07-27T16:51:08.414292Z"
    }
   },
   "outputs": [
    {
     "name": "stdout",
     "output_type": "stream",
     "text": [
      "\u001b[34mINFO    \u001b[0m Creating doublets, preparing SOLO model.                                                                  \n"
     ]
    },
    {
     "name": "stderr",
     "output_type": "stream",
     "text": [
      "/Users/thorsten/.pyenv/versions/3.10.6/envs/SingleCell/lib/python3.10/site-packages/scvi/train/_trainrunner.py:69: UserWarning: `accelerator` has been automatically set to `cpu` although 'mps' exists. If you wish to run on mps backend, use explicitly accelerator=='mps' in train function.In future releases it will become default for mps supported machines.\n",
      "  accelerator, lightning_devices, device = parse_device_args(\n",
      "GPU available: True (mps), used: False\n",
      "TPU available: False, using: 0 TPU cores\n",
      "HPU available: False, using: 0 HPUs\n",
      "/Users/thorsten/.pyenv/versions/3.10.6/envs/SingleCell/lib/python3.10/site-packages/lightning/pytorch/trainer/setup.py:177: GPU available but not used. You can set it by doing `Trainer(accelerator='gpu')`.\n",
      "/Users/thorsten/.pyenv/versions/3.10.6/envs/SingleCell/lib/python3.10/site-packages/lightning/pytorch/trainer/connectors/data_connector.py:425: The 'train_dataloader' does not have many workers which may be a bottleneck. Consider increasing the value of the `num_workers` argument` to `num_workers=7` in the `DataLoader` to improve performance.\n",
      "/Users/thorsten/.pyenv/versions/3.10.6/envs/SingleCell/lib/python3.10/site-packages/lightning/pytorch/trainer/connectors/data_connector.py:425: The 'val_dataloader' does not have many workers which may be a bottleneck. Consider increasing the value of the `num_workers` argument` to `num_workers=7` in the `DataLoader` to improve performance.\n"
     ]
    },
    {
     "data": {
      "application/vnd.jupyter.widget-view+json": {
       "model_id": "46d797c700524a6d8d7b55c629bc15c4",
       "version_major": 2,
       "version_minor": 0
      },
      "text/plain": [
       "Training:   0%|          | 0/400 [00:00<?, ?it/s]"
      ]
     },
     "metadata": {},
     "output_type": "display_data"
    },
    {
     "name": "stdout",
     "output_type": "stream",
     "text": [
      "Monitored metric validation_loss did not improve in the last 30 records. Best score: 0.208. Signaling Trainer to stop.\n"
     ]
    }
   ],
   "source": [
    "# Train the doublet class model (it has an stop inside if loss is not changing anymore)\n",
    "solo = scvi.external.SOLO.from_scvi_model(vae)\n",
    "solo.train()"
   ]
  },
  {
   "cell_type": "code",
   "execution_count": 36,
   "id": "1ecd51f6-9abd-4f51-b030-2c2460eb2e31",
   "metadata": {
    "execution": {
     "iopub.execute_input": "2025-07-27T16:58:47.564311Z",
     "iopub.status.busy": "2025-07-27T16:58:47.563341Z",
     "iopub.status.idle": "2025-07-27T16:58:47.738379Z",
     "shell.execute_reply": "2025-07-27T16:58:47.738013Z",
     "shell.execute_reply.started": "2025-07-27T16:58:47.564240Z"
    }
   },
   "outputs": [
    {
     "name": "stderr",
     "output_type": "stream",
     "text": [
      "/Users/thorsten/.pyenv/versions/3.10.6/envs/SingleCell/lib/python3.10/site-packages/torch/utils/_contextlib.py:116: UserWarning: Prior to scvi-tools 1.1.3, `SOLO.predict` with `soft=True` (the default option) returned logits instead of probabilities. This behavior has since been corrected to return probabiltiies. The previous behavior can be replicated by passing in `return_logits=True`.\n",
      "  return func(*args, **kwargs)\n"
     ]
    }
   ],
   "source": [
    "# Use predict to annotate the cell barcodes with the trained identifier and annotate it as a string in \"doublet\" or \"singlet\"\n",
    "df = solo.predict()"
   ]
  },
  {
   "cell_type": "code",
   "execution_count": 38,
   "id": "e48ebd32-8bf1-4749-8dc1-5d7a9d8041bc",
   "metadata": {
    "execution": {
     "iopub.execute_input": "2025-07-27T16:59:05.327065Z",
     "iopub.status.busy": "2025-07-27T16:59:05.325598Z",
     "iopub.status.idle": "2025-07-27T16:59:05.344766Z",
     "shell.execute_reply": "2025-07-27T16:59:05.344180Z",
     "shell.execute_reply.started": "2025-07-27T16:59:05.327005Z"
    }
   },
   "outputs": [
    {
     "data": {
      "text/html": [
       "<div>\n",
       "<style scoped>\n",
       "    .dataframe tbody tr th:only-of-type {\n",
       "        vertical-align: middle;\n",
       "    }\n",
       "\n",
       "    .dataframe tbody tr th {\n",
       "        vertical-align: top;\n",
       "    }\n",
       "\n",
       "    .dataframe thead th {\n",
       "        text-align: right;\n",
       "    }\n",
       "</style>\n",
       "<table border=\"1\" class=\"dataframe\">\n",
       "  <thead>\n",
       "    <tr style=\"text-align: right;\">\n",
       "      <th></th>\n",
       "      <th>doublet</th>\n",
       "      <th>singlet</th>\n",
       "    </tr>\n",
       "  </thead>\n",
       "  <tbody>\n",
       "    <tr>\n",
       "      <th>WT_AAACCCAAGCATCTTG</th>\n",
       "      <td>0.042626</td>\n",
       "      <td>0.957374</td>\n",
       "    </tr>\n",
       "    <tr>\n",
       "      <th>WT_AAACCCAAGGGTTGCA</th>\n",
       "      <td>0.083739</td>\n",
       "      <td>0.916261</td>\n",
       "    </tr>\n",
       "    <tr>\n",
       "      <th>WT_AAACCCAGTCCGAAAG</th>\n",
       "      <td>0.100618</td>\n",
       "      <td>0.899382</td>\n",
       "    </tr>\n",
       "    <tr>\n",
       "      <th>WT_AAACCCAGTCCGTTTC</th>\n",
       "      <td>0.110715</td>\n",
       "      <td>0.889285</td>\n",
       "    </tr>\n",
       "    <tr>\n",
       "      <th>WT_AAACCCAGTGTGGTCC</th>\n",
       "      <td>0.002668</td>\n",
       "      <td>0.997332</td>\n",
       "    </tr>\n",
       "    <tr>\n",
       "      <th>...</th>\n",
       "      <td>...</td>\n",
       "      <td>...</td>\n",
       "    </tr>\n",
       "    <tr>\n",
       "      <th>D7_analysis_TTTGTTGGTGAGCAGT</th>\n",
       "      <td>0.018691</td>\n",
       "      <td>0.981309</td>\n",
       "    </tr>\n",
       "    <tr>\n",
       "      <th>D7_analysis_TTTGTTGGTGCCTGAC</th>\n",
       "      <td>0.348716</td>\n",
       "      <td>0.651284</td>\n",
       "    </tr>\n",
       "    <tr>\n",
       "      <th>D7_analysis_TTTGTTGGTTGAGAGC</th>\n",
       "      <td>0.102786</td>\n",
       "      <td>0.897214</td>\n",
       "    </tr>\n",
       "    <tr>\n",
       "      <th>D7_analysis_TTTGTTGTCCTTATAC</th>\n",
       "      <td>0.123136</td>\n",
       "      <td>0.876864</td>\n",
       "    </tr>\n",
       "    <tr>\n",
       "      <th>D7_analysis_TTTGTTGTCGGCTGGT</th>\n",
       "      <td>0.008850</td>\n",
       "      <td>0.991150</td>\n",
       "    </tr>\n",
       "  </tbody>\n",
       "</table>\n",
       "<p>33681 rows × 2 columns</p>\n",
       "</div>"
      ],
      "text/plain": [
       "                               doublet   singlet\n",
       "WT_AAACCCAAGCATCTTG           0.042626  0.957374\n",
       "WT_AAACCCAAGGGTTGCA           0.083739  0.916261\n",
       "WT_AAACCCAGTCCGAAAG           0.100618  0.899382\n",
       "WT_AAACCCAGTCCGTTTC           0.110715  0.889285\n",
       "WT_AAACCCAGTGTGGTCC           0.002668  0.997332\n",
       "...                                ...       ...\n",
       "D7_analysis_TTTGTTGGTGAGCAGT  0.018691  0.981309\n",
       "D7_analysis_TTTGTTGGTGCCTGAC  0.348716  0.651284\n",
       "D7_analysis_TTTGTTGGTTGAGAGC  0.102786  0.897214\n",
       "D7_analysis_TTTGTTGTCCTTATAC  0.123136  0.876864\n",
       "D7_analysis_TTTGTTGTCGGCTGGT  0.008850  0.991150\n",
       "\n",
       "[33681 rows x 2 columns]"
      ]
     },
     "execution_count": 38,
     "metadata": {},
     "output_type": "execute_result"
    }
   ],
   "source": [
    "df"
   ]
  },
  {
   "cell_type": "code",
   "execution_count": 39,
   "id": "0d608e45-2fb4-4354-84ed-df0383b82476",
   "metadata": {
    "execution": {
     "iopub.execute_input": "2025-07-27T16:59:10.894227Z",
     "iopub.status.busy": "2025-07-27T16:59:10.893729Z",
     "iopub.status.idle": "2025-07-27T16:59:11.078309Z",
     "shell.execute_reply": "2025-07-27T16:59:11.077348Z",
     "shell.execute_reply.started": "2025-07-27T16:59:10.894178Z"
    }
   },
   "outputs": [
    {
     "name": "stderr",
     "output_type": "stream",
     "text": [
      "/Users/thorsten/.pyenv/versions/3.10.6/envs/SingleCell/lib/python3.10/site-packages/torch/utils/_contextlib.py:116: UserWarning: Prior to scvi-tools 1.1.3, `SOLO.predict` with `soft=True` (the default option) returned logits instead of probabilities. This behavior has since been corrected to return probabiltiies. The previous behavior can be replicated by passing in `return_logits=True`.\n",
      "  return func(*args, **kwargs)\n"
     ]
    },
    {
     "data": {
      "text/html": [
       "<div>\n",
       "<style scoped>\n",
       "    .dataframe tbody tr th:only-of-type {\n",
       "        vertical-align: middle;\n",
       "    }\n",
       "\n",
       "    .dataframe tbody tr th {\n",
       "        vertical-align: top;\n",
       "    }\n",
       "\n",
       "    .dataframe thead th {\n",
       "        text-align: right;\n",
       "    }\n",
       "</style>\n",
       "<table border=\"1\" class=\"dataframe\">\n",
       "  <thead>\n",
       "    <tr style=\"text-align: right;\">\n",
       "      <th></th>\n",
       "      <th>doublet</th>\n",
       "      <th>singlet</th>\n",
       "      <th>prediction</th>\n",
       "    </tr>\n",
       "  </thead>\n",
       "  <tbody>\n",
       "    <tr>\n",
       "      <th>WT_AAACCCAAGCATCTTG</th>\n",
       "      <td>0.042626</td>\n",
       "      <td>0.957374</td>\n",
       "      <td>singlet</td>\n",
       "    </tr>\n",
       "    <tr>\n",
       "      <th>WT_AAACCCAAGGGTTGCA</th>\n",
       "      <td>0.083739</td>\n",
       "      <td>0.916261</td>\n",
       "      <td>singlet</td>\n",
       "    </tr>\n",
       "    <tr>\n",
       "      <th>WT_AAACCCAGTCCGAAAG</th>\n",
       "      <td>0.100618</td>\n",
       "      <td>0.899382</td>\n",
       "      <td>singlet</td>\n",
       "    </tr>\n",
       "    <tr>\n",
       "      <th>WT_AAACCCAGTCCGTTTC</th>\n",
       "      <td>0.110715</td>\n",
       "      <td>0.889285</td>\n",
       "      <td>singlet</td>\n",
       "    </tr>\n",
       "    <tr>\n",
       "      <th>WT_AAACCCAGTGTGGTCC</th>\n",
       "      <td>0.002668</td>\n",
       "      <td>0.997332</td>\n",
       "      <td>singlet</td>\n",
       "    </tr>\n",
       "    <tr>\n",
       "      <th>...</th>\n",
       "      <td>...</td>\n",
       "      <td>...</td>\n",
       "      <td>...</td>\n",
       "    </tr>\n",
       "    <tr>\n",
       "      <th>D7_analysis_TTTGTTGGTGAGCAGT</th>\n",
       "      <td>0.018691</td>\n",
       "      <td>0.981309</td>\n",
       "      <td>singlet</td>\n",
       "    </tr>\n",
       "    <tr>\n",
       "      <th>D7_analysis_TTTGTTGGTGCCTGAC</th>\n",
       "      <td>0.348716</td>\n",
       "      <td>0.651284</td>\n",
       "      <td>singlet</td>\n",
       "    </tr>\n",
       "    <tr>\n",
       "      <th>D7_analysis_TTTGTTGGTTGAGAGC</th>\n",
       "      <td>0.102786</td>\n",
       "      <td>0.897214</td>\n",
       "      <td>singlet</td>\n",
       "    </tr>\n",
       "    <tr>\n",
       "      <th>D7_analysis_TTTGTTGTCCTTATAC</th>\n",
       "      <td>0.123136</td>\n",
       "      <td>0.876864</td>\n",
       "      <td>singlet</td>\n",
       "    </tr>\n",
       "    <tr>\n",
       "      <th>D7_analysis_TTTGTTGTCGGCTGGT</th>\n",
       "      <td>0.008850</td>\n",
       "      <td>0.991150</td>\n",
       "      <td>singlet</td>\n",
       "    </tr>\n",
       "  </tbody>\n",
       "</table>\n",
       "<p>33681 rows × 3 columns</p>\n",
       "</div>"
      ],
      "text/plain": [
       "                               doublet   singlet prediction\n",
       "WT_AAACCCAAGCATCTTG           0.042626  0.957374    singlet\n",
       "WT_AAACCCAAGGGTTGCA           0.083739  0.916261    singlet\n",
       "WT_AAACCCAGTCCGAAAG           0.100618  0.899382    singlet\n",
       "WT_AAACCCAGTCCGTTTC           0.110715  0.889285    singlet\n",
       "WT_AAACCCAGTGTGGTCC           0.002668  0.997332    singlet\n",
       "...                                ...       ...        ...\n",
       "D7_analysis_TTTGTTGGTGAGCAGT  0.018691  0.981309    singlet\n",
       "D7_analysis_TTTGTTGGTGCCTGAC  0.348716  0.651284    singlet\n",
       "D7_analysis_TTTGTTGGTTGAGAGC  0.102786  0.897214    singlet\n",
       "D7_analysis_TTTGTTGTCCTTATAC  0.123136  0.876864    singlet\n",
       "D7_analysis_TTTGTTGTCGGCTGGT  0.008850  0.991150    singlet\n",
       "\n",
       "[33681 rows x 3 columns]"
      ]
     },
     "execution_count": 39,
     "metadata": {},
     "output_type": "execute_result"
    }
   ],
   "source": [
    "df['prediction'] = solo.predict(soft=False)\n",
    "df"
   ]
  },
  {
   "cell_type": "code",
   "execution_count": 40,
   "id": "9cedf5d7-654b-4d06-ba9f-2f8da478d102",
   "metadata": {
    "execution": {
     "iopub.execute_input": "2025-07-27T16:59:19.522449Z",
     "iopub.status.busy": "2025-07-27T16:59:19.521407Z",
     "iopub.status.idle": "2025-07-27T16:59:19.547770Z",
     "shell.execute_reply": "2025-07-27T16:59:19.547264Z",
     "shell.execute_reply.started": "2025-07-27T16:59:19.522376Z"
    }
   },
   "outputs": [
    {
     "name": "stdout",
     "output_type": "stream",
     "text": [
      "Doublets: 4931 / 33681 (14.64%)\n"
     ]
    }
   ],
   "source": [
    "# Count how many cells are predicted as singlet or doublet\n",
    "counts = df.groupby('prediction').count()\n",
    "\n",
    "# Total number of cells\n",
    "total = counts.sum().values[0]  # or len(df)\n",
    "\n",
    "# Number of predicted doublets\n",
    "num_doublets = df.groupby('prediction').count().loc['doublet','doublet']\n",
    "\n",
    "# Percentage of doublets\n",
    "percent_doublets = (num_doublets / total) * 100\n",
    "\n",
    "print(f\"Doublets: {num_doublets} / {total} ({percent_doublets:.2f}%)\")"
   ]
  },
  {
   "cell_type": "code",
   "execution_count": 50,
   "id": "bcd7dab7-bd3c-47be-8ba2-8aafbd6700a3",
   "metadata": {
    "execution": {
     "iopub.execute_input": "2025-07-27T20:42:12.673582Z",
     "iopub.status.busy": "2025-07-27T20:42:12.672248Z",
     "iopub.status.idle": "2025-07-27T20:42:12.699682Z",
     "shell.execute_reply": "2025-07-27T20:42:12.699095Z",
     "shell.execute_reply.started": "2025-07-27T20:42:12.673493Z"
    }
   },
   "outputs": [
    {
     "data": {
      "text/html": [
       "<div>\n",
       "<style scoped>\n",
       "    .dataframe tbody tr th:only-of-type {\n",
       "        vertical-align: middle;\n",
       "    }\n",
       "\n",
       "    .dataframe tbody tr th {\n",
       "        vertical-align: top;\n",
       "    }\n",
       "\n",
       "    .dataframe thead th {\n",
       "        text-align: right;\n",
       "    }\n",
       "</style>\n",
       "<table border=\"1\" class=\"dataframe\">\n",
       "  <thead>\n",
       "    <tr style=\"text-align: right;\">\n",
       "      <th></th>\n",
       "      <th>doublet</th>\n",
       "      <th>singlet</th>\n",
       "      <th>dif</th>\n",
       "    </tr>\n",
       "    <tr>\n",
       "      <th>prediction</th>\n",
       "      <th></th>\n",
       "      <th></th>\n",
       "      <th></th>\n",
       "    </tr>\n",
       "  </thead>\n",
       "  <tbody>\n",
       "    <tr>\n",
       "      <th>doublet</th>\n",
       "      <td>4931</td>\n",
       "      <td>4931</td>\n",
       "      <td>4931</td>\n",
       "    </tr>\n",
       "    <tr>\n",
       "      <th>singlet</th>\n",
       "      <td>28750</td>\n",
       "      <td>28750</td>\n",
       "      <td>28750</td>\n",
       "    </tr>\n",
       "  </tbody>\n",
       "</table>\n",
       "</div>"
      ],
      "text/plain": [
       "            doublet  singlet    dif\n",
       "prediction                         \n",
       "doublet        4931     4931   4931\n",
       "singlet       28750    28750  28750"
      ]
     },
     "execution_count": 50,
     "metadata": {},
     "output_type": "execute_result"
    }
   ],
   "source": [
    "df.groupby('prediction').count()"
   ]
  },
  {
   "cell_type": "code",
   "execution_count": 57,
   "id": "f38e89b4-7584-4209-ab0d-1eed07887b97",
   "metadata": {
    "execution": {
     "iopub.execute_input": "2025-07-27T20:56:29.739730Z",
     "iopub.status.busy": "2025-07-27T20:56:29.738912Z",
     "iopub.status.idle": "2025-07-27T20:56:29.769577Z",
     "shell.execute_reply": "2025-07-27T20:56:29.768804Z",
     "shell.execute_reply.started": "2025-07-27T20:56:29.739669Z"
    }
   },
   "outputs": [
    {
     "data": {
      "text/html": [
       "<div>\n",
       "<style scoped>\n",
       "    .dataframe tbody tr th:only-of-type {\n",
       "        vertical-align: middle;\n",
       "    }\n",
       "\n",
       "    .dataframe tbody tr th {\n",
       "        vertical-align: top;\n",
       "    }\n",
       "\n",
       "    .dataframe thead th {\n",
       "        text-align: right;\n",
       "    }\n",
       "</style>\n",
       "<table border=\"1\" class=\"dataframe\">\n",
       "  <thead>\n",
       "    <tr style=\"text-align: right;\">\n",
       "      <th></th>\n",
       "      <th>doublet</th>\n",
       "      <th>singlet</th>\n",
       "      <th>prediction</th>\n",
       "      <th>dif</th>\n",
       "    </tr>\n",
       "  </thead>\n",
       "  <tbody>\n",
       "    <tr>\n",
       "      <th>WT_AAAGAACGTGAGTGAC</th>\n",
       "      <td>0.725324</td>\n",
       "      <td>0.274676</td>\n",
       "      <td>doublet</td>\n",
       "      <td>0.450648</td>\n",
       "    </tr>\n",
       "    <tr>\n",
       "      <th>WT_AAAGGATCAACCCTAA</th>\n",
       "      <td>0.934642</td>\n",
       "      <td>0.065358</td>\n",
       "      <td>doublet</td>\n",
       "      <td>0.869284</td>\n",
       "    </tr>\n",
       "    <tr>\n",
       "      <th>WT_AAAGGGCCAACCAGAG</th>\n",
       "      <td>0.600469</td>\n",
       "      <td>0.399531</td>\n",
       "      <td>doublet</td>\n",
       "      <td>0.200939</td>\n",
       "    </tr>\n",
       "    <tr>\n",
       "      <th>WT_AAAGGGCTCAAATGAG</th>\n",
       "      <td>0.602147</td>\n",
       "      <td>0.397853</td>\n",
       "      <td>doublet</td>\n",
       "      <td>0.204295</td>\n",
       "    </tr>\n",
       "    <tr>\n",
       "      <th>WT_AAAGGTAAGACATATG</th>\n",
       "      <td>0.654534</td>\n",
       "      <td>0.345466</td>\n",
       "      <td>doublet</td>\n",
       "      <td>0.309067</td>\n",
       "    </tr>\n",
       "    <tr>\n",
       "      <th>...</th>\n",
       "      <td>...</td>\n",
       "      <td>...</td>\n",
       "      <td>...</td>\n",
       "      <td>...</td>\n",
       "    </tr>\n",
       "    <tr>\n",
       "      <th>D7_analysis_TTTGACTTCGATTGGT</th>\n",
       "      <td>0.817020</td>\n",
       "      <td>0.182980</td>\n",
       "      <td>doublet</td>\n",
       "      <td>0.634039</td>\n",
       "    </tr>\n",
       "    <tr>\n",
       "      <th>D7_analysis_TTTGACTTCTCAGGCG</th>\n",
       "      <td>0.734798</td>\n",
       "      <td>0.265202</td>\n",
       "      <td>doublet</td>\n",
       "      <td>0.469596</td>\n",
       "    </tr>\n",
       "    <tr>\n",
       "      <th>D7_analysis_TTTGATCGTAGTGCGA</th>\n",
       "      <td>0.529101</td>\n",
       "      <td>0.470899</td>\n",
       "      <td>doublet</td>\n",
       "      <td>0.058202</td>\n",
       "    </tr>\n",
       "    <tr>\n",
       "      <th>D7_analysis_TTTGGTTCACTTCAGA</th>\n",
       "      <td>0.744804</td>\n",
       "      <td>0.255196</td>\n",
       "      <td>doublet</td>\n",
       "      <td>0.489607</td>\n",
       "    </tr>\n",
       "    <tr>\n",
       "      <th>D7_analysis_TTTGGTTGTATCCTCC</th>\n",
       "      <td>0.898717</td>\n",
       "      <td>0.101283</td>\n",
       "      <td>doublet</td>\n",
       "      <td>0.797435</td>\n",
       "    </tr>\n",
       "  </tbody>\n",
       "</table>\n",
       "<p>4931 rows × 4 columns</p>\n",
       "</div>"
      ],
      "text/plain": [
       "                               doublet   singlet prediction       dif\n",
       "WT_AAAGAACGTGAGTGAC           0.725324  0.274676    doublet  0.450648\n",
       "WT_AAAGGATCAACCCTAA           0.934642  0.065358    doublet  0.869284\n",
       "WT_AAAGGGCCAACCAGAG           0.600469  0.399531    doublet  0.200939\n",
       "WT_AAAGGGCTCAAATGAG           0.602147  0.397853    doublet  0.204295\n",
       "WT_AAAGGTAAGACATATG           0.654534  0.345466    doublet  0.309067\n",
       "...                                ...       ...        ...       ...\n",
       "D7_analysis_TTTGACTTCGATTGGT  0.817020  0.182980    doublet  0.634039\n",
       "D7_analysis_TTTGACTTCTCAGGCG  0.734798  0.265202    doublet  0.469596\n",
       "D7_analysis_TTTGATCGTAGTGCGA  0.529101  0.470899    doublet  0.058202\n",
       "D7_analysis_TTTGGTTCACTTCAGA  0.744804  0.255196    doublet  0.489607\n",
       "D7_analysis_TTTGGTTGTATCCTCC  0.898717  0.101283    doublet  0.797435\n",
       "\n",
       "[4931 rows x 4 columns]"
      ]
     },
     "execution_count": 57,
     "metadata": {},
     "output_type": "execute_result"
    }
   ],
   "source": [
    "# Generate a list containing only filtered doublet cells (to not loose to much data)\n",
    "doublets = df[(df['prediction'] == 'doublet')]\n",
    "doublets"
   ]
  },
  {
   "cell_type": "markdown",
   "id": "e64e8641-b103-4d31-89e6-3e050cde6da1",
   "metadata": {},
   "source": [
    "We loose 14.64% of cells to doublets. However, since we still have around 29K cells I am here rather strict and do not include a step to select for predictions which are weak in their scores (similar doublet and singlet score). However, I include the script how to filter if it should become necessary later in a sub-chapter."
   ]
  },
  {
   "cell_type": "markdown",
   "id": "2b6e0807-f2f3-4bea-9c28-1eb47230cf7d",
   "metadata": {
    "execution": {
     "iopub.execute_input": "2025-07-27T20:45:51.850268Z",
     "iopub.status.busy": "2025-07-27T20:45:51.848920Z",
     "iopub.status.idle": "2025-07-27T20:45:51.863646Z",
     "shell.execute_reply": "2025-07-27T20:45:51.862524Z",
     "shell.execute_reply.started": "2025-07-27T20:45:51.850170Z"
    }
   },
   "source": [
    "### 1.1.1 Filtering Doublet Scores to include questionable cells (optional!)"
   ]
  },
  {
   "cell_type": "code",
   "execution_count": 52,
   "id": "a2f29fe7-892d-49f7-a7fa-c6f4bebda820",
   "metadata": {
    "execution": {
     "iopub.execute_input": "2025-07-27T20:47:27.993231Z",
     "iopub.status.busy": "2025-07-27T20:47:27.991999Z",
     "iopub.status.idle": "2025-07-27T20:47:28.013411Z",
     "shell.execute_reply": "2025-07-27T20:47:28.012881Z",
     "shell.execute_reply.started": "2025-07-27T20:47:27.993176Z"
    }
   },
   "outputs": [
    {
     "data": {
      "text/html": [
       "<div>\n",
       "<style scoped>\n",
       "    .dataframe tbody tr th:only-of-type {\n",
       "        vertical-align: middle;\n",
       "    }\n",
       "\n",
       "    .dataframe tbody tr th {\n",
       "        vertical-align: top;\n",
       "    }\n",
       "\n",
       "    .dataframe thead th {\n",
       "        text-align: right;\n",
       "    }\n",
       "</style>\n",
       "<table border=\"1\" class=\"dataframe\">\n",
       "  <thead>\n",
       "    <tr style=\"text-align: right;\">\n",
       "      <th></th>\n",
       "      <th>doublet</th>\n",
       "      <th>singlet</th>\n",
       "      <th>prediction</th>\n",
       "      <th>dif</th>\n",
       "    </tr>\n",
       "  </thead>\n",
       "  <tbody>\n",
       "    <tr>\n",
       "      <th>WT_AAACCCAAGCATCTTG</th>\n",
       "      <td>0.042626</td>\n",
       "      <td>0.957374</td>\n",
       "      <td>singlet</td>\n",
       "      <td>-0.914749</td>\n",
       "    </tr>\n",
       "    <tr>\n",
       "      <th>WT_AAACCCAAGGGTTGCA</th>\n",
       "      <td>0.083739</td>\n",
       "      <td>0.916261</td>\n",
       "      <td>singlet</td>\n",
       "      <td>-0.832521</td>\n",
       "    </tr>\n",
       "    <tr>\n",
       "      <th>WT_AAACCCAGTCCGAAAG</th>\n",
       "      <td>0.100618</td>\n",
       "      <td>0.899382</td>\n",
       "      <td>singlet</td>\n",
       "      <td>-0.798764</td>\n",
       "    </tr>\n",
       "    <tr>\n",
       "      <th>WT_AAACCCAGTCCGTTTC</th>\n",
       "      <td>0.110715</td>\n",
       "      <td>0.889285</td>\n",
       "      <td>singlet</td>\n",
       "      <td>-0.778571</td>\n",
       "    </tr>\n",
       "    <tr>\n",
       "      <th>WT_AAACCCAGTGTGGTCC</th>\n",
       "      <td>0.002668</td>\n",
       "      <td>0.997332</td>\n",
       "      <td>singlet</td>\n",
       "      <td>-0.994664</td>\n",
       "    </tr>\n",
       "    <tr>\n",
       "      <th>...</th>\n",
       "      <td>...</td>\n",
       "      <td>...</td>\n",
       "      <td>...</td>\n",
       "      <td>...</td>\n",
       "    </tr>\n",
       "    <tr>\n",
       "      <th>D7_analysis_TTTGTTGGTGAGCAGT</th>\n",
       "      <td>0.018691</td>\n",
       "      <td>0.981309</td>\n",
       "      <td>singlet</td>\n",
       "      <td>-0.962618</td>\n",
       "    </tr>\n",
       "    <tr>\n",
       "      <th>D7_analysis_TTTGTTGGTGCCTGAC</th>\n",
       "      <td>0.348716</td>\n",
       "      <td>0.651284</td>\n",
       "      <td>singlet</td>\n",
       "      <td>-0.302567</td>\n",
       "    </tr>\n",
       "    <tr>\n",
       "      <th>D7_analysis_TTTGTTGGTTGAGAGC</th>\n",
       "      <td>0.102786</td>\n",
       "      <td>0.897214</td>\n",
       "      <td>singlet</td>\n",
       "      <td>-0.794428</td>\n",
       "    </tr>\n",
       "    <tr>\n",
       "      <th>D7_analysis_TTTGTTGTCCTTATAC</th>\n",
       "      <td>0.123136</td>\n",
       "      <td>0.876864</td>\n",
       "      <td>singlet</td>\n",
       "      <td>-0.753729</td>\n",
       "    </tr>\n",
       "    <tr>\n",
       "      <th>D7_analysis_TTTGTTGTCGGCTGGT</th>\n",
       "      <td>0.008850</td>\n",
       "      <td>0.991150</td>\n",
       "      <td>singlet</td>\n",
       "      <td>-0.982300</td>\n",
       "    </tr>\n",
       "  </tbody>\n",
       "</table>\n",
       "<p>33681 rows × 4 columns</p>\n",
       "</div>"
      ],
      "text/plain": [
       "                               doublet   singlet prediction       dif\n",
       "WT_AAACCCAAGCATCTTG           0.042626  0.957374    singlet -0.914749\n",
       "WT_AAACCCAAGGGTTGCA           0.083739  0.916261    singlet -0.832521\n",
       "WT_AAACCCAGTCCGAAAG           0.100618  0.899382    singlet -0.798764\n",
       "WT_AAACCCAGTCCGTTTC           0.110715  0.889285    singlet -0.778571\n",
       "WT_AAACCCAGTGTGGTCC           0.002668  0.997332    singlet -0.994664\n",
       "...                                ...       ...        ...       ...\n",
       "D7_analysis_TTTGTTGGTGAGCAGT  0.018691  0.981309    singlet -0.962618\n",
       "D7_analysis_TTTGTTGGTGCCTGAC  0.348716  0.651284    singlet -0.302567\n",
       "D7_analysis_TTTGTTGGTTGAGAGC  0.102786  0.897214    singlet -0.794428\n",
       "D7_analysis_TTTGTTGTCCTTATAC  0.123136  0.876864    singlet -0.753729\n",
       "D7_analysis_TTTGTTGTCGGCTGGT  0.008850  0.991150    singlet -0.982300\n",
       "\n",
       "[33681 rows x 4 columns]"
      ]
     },
     "execution_count": 52,
     "metadata": {},
     "output_type": "execute_result"
    }
   ],
   "source": [
    "#Calculating the difference of doublet and singlet score to identify cells that have high scores in both (close to 0)\n",
    "df['dif'] = df.doublet - df.singlet\n",
    "df"
   ]
  },
  {
   "cell_type": "code",
   "execution_count": 54,
   "id": "3e04b430-3f9d-4d74-a89e-be9001d97d12",
   "metadata": {
    "execution": {
     "iopub.execute_input": "2025-07-27T20:47:31.035231Z",
     "iopub.status.busy": "2025-07-27T20:47:31.034775Z",
     "iopub.status.idle": "2025-07-27T20:47:31.325049Z",
     "shell.execute_reply": "2025-07-27T20:47:31.323759Z",
     "shell.execute_reply.started": "2025-07-27T20:47:31.035199Z"
    }
   },
   "outputs": [
    {
     "data": {
      "text/plain": [
       "<seaborn.axisgrid.FacetGrid at 0x2b4e77fd0>"
      ]
     },
     "execution_count": 54,
     "metadata": {},
     "output_type": "execute_result"
    },
    {
     "data": {
      "image/png": "[encoded data removed]",
      "text/plain": [
       "<Figure size 500x500 with 1 Axes>"
      ]
     },
     "metadata": {},
     "output_type": "display_data"
    }
   ],
   "source": [
    "#Use seaborn to show histogram of dif and decide emperically a cutoff\n",
    "sns.displot(df[df.prediction == 'doublet'], x= 'dif', bins=30, kde=True)"
   ]
  },
  {
   "cell_type": "code",
   "execution_count": 49,
   "id": "8da01a26-74f2-4a41-b786-97b33c0f3cda",
   "metadata": {
    "execution": {
     "iopub.execute_input": "2025-07-27T20:38:11.012308Z",
     "iopub.status.busy": "2025-07-27T20:38:11.010079Z",
     "iopub.status.idle": "2025-07-27T20:38:11.044707Z",
     "shell.execute_reply": "2025-07-27T20:38:11.043634Z",
     "shell.execute_reply.started": "2025-07-27T20:38:11.012212Z"
    }
   },
   "outputs": [
    {
     "data": {
      "text/html": [
       "<div>\n",
       "<style scoped>\n",
       "    .dataframe tbody tr th:only-of-type {\n",
       "        vertical-align: middle;\n",
       "    }\n",
       "\n",
       "    .dataframe tbody tr th {\n",
       "        vertical-align: top;\n",
       "    }\n",
       "\n",
       "    .dataframe thead th {\n",
       "        text-align: right;\n",
       "    }\n",
       "</style>\n",
       "<table border=\"1\" class=\"dataframe\">\n",
       "  <thead>\n",
       "    <tr style=\"text-align: right;\">\n",
       "      <th></th>\n",
       "      <th>doublet</th>\n",
       "      <th>singlet</th>\n",
       "      <th>prediction</th>\n",
       "      <th>dif</th>\n",
       "    </tr>\n",
       "  </thead>\n",
       "  <tbody>\n",
       "    <tr>\n",
       "      <th>D1_analysis_TTGCATTAGGACATCG</th>\n",
       "      <td>0.557234</td>\n",
       "      <td>0.442766</td>\n",
       "      <td>doublet</td>\n",
       "      <td>0.114469</td>\n",
       "    </tr>\n",
       "    <tr>\n",
       "      <th>WT_CAAGACTGTTACTCAG</th>\n",
       "      <td>0.612009</td>\n",
       "      <td>0.387991</td>\n",
       "      <td>doublet</td>\n",
       "      <td>0.224018</td>\n",
       "    </tr>\n",
       "    <tr>\n",
       "      <th>D28_analysis_CTCTCGAAGGATAATC</th>\n",
       "      <td>0.761302</td>\n",
       "      <td>0.238698</td>\n",
       "      <td>doublet</td>\n",
       "      <td>0.522603</td>\n",
       "    </tr>\n",
       "    <tr>\n",
       "      <th>WT_TGCGGGTCATCAGCGC</th>\n",
       "      <td>0.615372</td>\n",
       "      <td>0.384628</td>\n",
       "      <td>doublet</td>\n",
       "      <td>0.230745</td>\n",
       "    </tr>\n",
       "    <tr>\n",
       "      <th>D28_analysis_GAGTTGTGTGCGAACA</th>\n",
       "      <td>0.546706</td>\n",
       "      <td>0.453294</td>\n",
       "      <td>doublet</td>\n",
       "      <td>0.093413</td>\n",
       "    </tr>\n",
       "    <tr>\n",
       "      <th>D7_analysis_TTGGATGGTTCTCCTG</th>\n",
       "      <td>0.803706</td>\n",
       "      <td>0.196294</td>\n",
       "      <td>doublet</td>\n",
       "      <td>0.607412</td>\n",
       "    </tr>\n",
       "    <tr>\n",
       "      <th>WT_AAAGGGCCAACCAGAG</th>\n",
       "      <td>0.600469</td>\n",
       "      <td>0.399531</td>\n",
       "      <td>doublet</td>\n",
       "      <td>0.200939</td>\n",
       "    </tr>\n",
       "    <tr>\n",
       "      <th>D28_analysis_CAAGACTAGTCCCGAC</th>\n",
       "      <td>0.966415</td>\n",
       "      <td>0.033585</td>\n",
       "      <td>doublet</td>\n",
       "      <td>0.932830</td>\n",
       "    </tr>\n",
       "    <tr>\n",
       "      <th>D1_analysis_AGTTAGCTCGCCTTTG</th>\n",
       "      <td>0.713393</td>\n",
       "      <td>0.286607</td>\n",
       "      <td>doublet</td>\n",
       "      <td>0.426786</td>\n",
       "    </tr>\n",
       "    <tr>\n",
       "      <th>D28_analysis_AGTAGTCAGCATCCTA</th>\n",
       "      <td>0.643487</td>\n",
       "      <td>0.356513</td>\n",
       "      <td>doublet</td>\n",
       "      <td>0.286973</td>\n",
       "    </tr>\n",
       "  </tbody>\n",
       "</table>\n",
       "</div>"
      ],
      "text/plain": [
       "                                doublet   singlet prediction       dif\n",
       "D1_analysis_TTGCATTAGGACATCG   0.557234  0.442766    doublet  0.114469\n",
       "WT_CAAGACTGTTACTCAG            0.612009  0.387991    doublet  0.224018\n",
       "D28_analysis_CTCTCGAAGGATAATC  0.761302  0.238698    doublet  0.522603\n",
       "WT_TGCGGGTCATCAGCGC            0.615372  0.384628    doublet  0.230745\n",
       "D28_analysis_GAGTTGTGTGCGAACA  0.546706  0.453294    doublet  0.093413\n",
       "D7_analysis_TTGGATGGTTCTCCTG   0.803706  0.196294    doublet  0.607412\n",
       "WT_AAAGGGCCAACCAGAG            0.600469  0.399531    doublet  0.200939\n",
       "D28_analysis_CAAGACTAGTCCCGAC  0.966415  0.033585    doublet  0.932830\n",
       "D1_analysis_AGTTAGCTCGCCTTTG   0.713393  0.286607    doublet  0.426786\n",
       "D28_analysis_AGTAGTCAGCATCCTA  0.643487  0.356513    doublet  0.286973"
      ]
     },
     "execution_count": 49,
     "metadata": {},
     "output_type": "execute_result"
    }
   ],
   "source": [
    "# Show some random samples in the doublet group to better understand the histogram\n",
    "df[df.prediction =='doublet'].sample(10)"
   ]
  },
  {
   "cell_type": "markdown",
   "id": "80e430e2-570c-45ee-9cce-e0f467848458",
   "metadata": {},
   "source": [
    "From this probably a cut-off of dif < 0.2 seems aceptable. So everything below 0.2 could be still seen as singlet (not so high doublet score and also a quite high singlet score) and everything above definitely as doublet."
   ]
  },
  {
   "cell_type": "code",
   "execution_count": null,
   "id": "a5437981-c398-438e-bf85-d04cd46e3645",
   "metadata": {},
   "outputs": [],
   "source": [
    "# Generate a list containing only filtered doublet cells (to not loose to much data)\n",
    "doublets = df[(df['prediction'] == 'doublet') & (df.dif > 0.2)]\n",
    "doublets"
   ]
  },
  {
   "cell_type": "markdown",
   "id": "5f47a0ad-f1a4-4de0-938f-05d84f040e59",
   "metadata": {},
   "source": [
    "## Doublet Removal (continue)"
   ]
  },
  {
   "cell_type": "code",
   "execution_count": 58,
   "id": "2c87c392-50c7-4559-94b8-531c90554ee1",
   "metadata": {
    "execution": {
     "iopub.execute_input": "2025-07-27T20:56:52.734284Z",
     "iopub.status.busy": "2025-07-27T20:56:52.732582Z",
     "iopub.status.idle": "2025-07-27T20:57:56.261266Z",
     "shell.execute_reply": "2025-07-27T20:57:56.260661Z",
     "shell.execute_reply.started": "2025-07-27T20:56:52.734187Z"
    }
   },
   "outputs": [
    {
     "data": {
      "text/html": [
       "<div>\n",
       "<style scoped>\n",
       "    .dataframe tbody tr th:only-of-type {\n",
       "        vertical-align: middle;\n",
       "    }\n",
       "\n",
       "    .dataframe tbody tr th {\n",
       "        vertical-align: top;\n",
       "    }\n",
       "\n",
       "    .dataframe thead th {\n",
       "        text-align: right;\n",
       "    }\n",
       "</style>\n",
       "<table border=\"1\" class=\"dataframe\">\n",
       "  <thead>\n",
       "    <tr style=\"text-align: right;\">\n",
       "      <th></th>\n",
       "      <th>doublet</th>\n",
       "    </tr>\n",
       "  </thead>\n",
       "  <tbody>\n",
       "    <tr>\n",
       "      <th>WT_AAACCCAAGCATCTTG</th>\n",
       "      <td>False</td>\n",
       "    </tr>\n",
       "    <tr>\n",
       "      <th>WT_AAACCCAAGGGTTGCA</th>\n",
       "      <td>False</td>\n",
       "    </tr>\n",
       "    <tr>\n",
       "      <th>WT_AAACCCAGTCCGAAAG</th>\n",
       "      <td>False</td>\n",
       "    </tr>\n",
       "    <tr>\n",
       "      <th>WT_AAACCCAGTCCGTTTC</th>\n",
       "      <td>False</td>\n",
       "    </tr>\n",
       "    <tr>\n",
       "      <th>WT_AAACCCAGTGTGGTCC</th>\n",
       "      <td>False</td>\n",
       "    </tr>\n",
       "    <tr>\n",
       "      <th>...</th>\n",
       "      <td>...</td>\n",
       "    </tr>\n",
       "    <tr>\n",
       "      <th>D7_analysis_TTTGTTGGTGAGCAGT</th>\n",
       "      <td>False</td>\n",
       "    </tr>\n",
       "    <tr>\n",
       "      <th>D7_analysis_TTTGTTGGTGCCTGAC</th>\n",
       "      <td>False</td>\n",
       "    </tr>\n",
       "    <tr>\n",
       "      <th>D7_analysis_TTTGTTGGTTGAGAGC</th>\n",
       "      <td>False</td>\n",
       "    </tr>\n",
       "    <tr>\n",
       "      <th>D7_analysis_TTTGTTGTCCTTATAC</th>\n",
       "      <td>False</td>\n",
       "    </tr>\n",
       "    <tr>\n",
       "      <th>D7_analysis_TTTGTTGTCGGCTGGT</th>\n",
       "      <td>False</td>\n",
       "    </tr>\n",
       "  </tbody>\n",
       "</table>\n",
       "<p>33681 rows × 1 columns</p>\n",
       "</div>"
      ],
      "text/plain": [
       "                              doublet\n",
       "WT_AAACCCAAGCATCTTG             False\n",
       "WT_AAACCCAAGGGTTGCA             False\n",
       "WT_AAACCCAGTCCGAAAG             False\n",
       "WT_AAACCCAGTCCGTTTC             False\n",
       "WT_AAACCCAGTGTGGTCC             False\n",
       "...                               ...\n",
       "D7_analysis_TTTGTTGGTGAGCAGT    False\n",
       "D7_analysis_TTTGTTGGTGCCTGAC    False\n",
       "D7_analysis_TTTGTTGGTTGAGAGC    False\n",
       "D7_analysis_TTTGTTGTCCTTATAC    False\n",
       "D7_analysis_TTTGTTGTCGGCTGGT    False\n",
       "\n",
       "[33681 rows x 1 columns]"
      ]
     },
     "execution_count": 58,
     "metadata": {},
     "output_type": "execute_result"
    }
   ],
   "source": [
    "# Reload adata and annotate doublet annotation on all barcodes/cells (before we filtered out already many cells to train the model!)\n",
    "adata = sc.read_text('rawdata/GSE181276_genes.counts_for_GEO_uploading.txt').T\n",
    "# This annotates the cells with True/false True = doublet, false = singlet\n",
    "adata.obs['doublet'] = adata.obs.index.isin(doublets.index)\n",
    "adata.obs"
   ]
  },
  {
   "cell_type": "code",
   "execution_count": 60,
   "id": "09b659ce-6e66-4965-8208-ee30520d998e",
   "metadata": {
    "execution": {
     "iopub.execute_input": "2025-07-27T21:04:45.888971Z",
     "iopub.status.busy": "2025-07-27T21:04:45.886786Z",
     "iopub.status.idle": "2025-07-27T21:04:45.912143Z",
     "shell.execute_reply": "2025-07-27T21:04:45.911589Z",
     "shell.execute_reply.started": "2025-07-27T21:04:45.888894Z"
    }
   },
   "outputs": [
    {
     "data": {
      "text/plain": [
       "View of AnnData object with n_obs × n_vars = 28750 × 31053\n",
       "    obs: 'doublet'"
      ]
     },
     "execution_count": 60,
     "metadata": {},
     "output_type": "execute_result"
    }
   ],
   "source": [
    "# Filter all cells out which are not doublet (so keep all singlets)\n",
    "adata = adata[~adata.obs.doublet]\n",
    "adata"
   ]
  },
  {
   "cell_type": "markdown",
   "id": "1419c172-8719-4687-b43e-900aa67ea44f",
   "metadata": {},
   "source": [
    "## Preprocessing "
   ]
  },
  {
   "cell_type": "markdown",
   "id": "47ddf570-006c-4dce-be8f-8b515303d3b9",
   "metadata": {},
   "source": [
    "### Filtering of Low-Quality Cells Based on Mitochondrial and Ribosomal Content"
   ]
  },
  {
   "cell_type": "code",
   "execution_count": 64,
   "id": "32267bf2-9901-42de-90a7-267d2a7e5d16",
   "metadata": {
    "execution": {
     "iopub.execute_input": "2025-07-28T18:56:23.148841Z",
     "iopub.status.busy": "2025-07-28T18:56:23.147147Z",
     "iopub.status.idle": "2025-07-28T18:56:23.978155Z",
     "shell.execute_reply": "2025-07-28T18:56:23.977619Z",
     "shell.execute_reply.started": "2025-07-28T18:56:23.148749Z"
    }
   },
   "outputs": [
    {
     "data": {
      "text/html": [
       "<div>\n",
       "<style scoped>\n",
       "    .dataframe tbody tr th:only-of-type {\n",
       "        vertical-align: middle;\n",
       "    }\n",
       "\n",
       "    .dataframe tbody tr th {\n",
       "        vertical-align: top;\n",
       "    }\n",
       "\n",
       "    .dataframe thead th {\n",
       "        text-align: right;\n",
       "    }\n",
       "</style>\n",
       "<table border=\"1\" class=\"dataframe\">\n",
       "  <thead>\n",
       "    <tr style=\"text-align: right;\">\n",
       "      <th></th>\n",
       "      <th>0</th>\n",
       "    </tr>\n",
       "  </thead>\n",
       "  <tbody>\n",
       "    <tr>\n",
       "      <th>0</th>\n",
       "      <td>FAU</td>\n",
       "    </tr>\n",
       "    <tr>\n",
       "      <th>1</th>\n",
       "      <td>MRPL13</td>\n",
       "    </tr>\n",
       "    <tr>\n",
       "      <th>2</th>\n",
       "      <td>RPL10</td>\n",
       "    </tr>\n",
       "    <tr>\n",
       "      <th>3</th>\n",
       "      <td>RPL10A</td>\n",
       "    </tr>\n",
       "    <tr>\n",
       "      <th>4</th>\n",
       "      <td>RPL10L</td>\n",
       "    </tr>\n",
       "    <tr>\n",
       "      <th>...</th>\n",
       "      <td>...</td>\n",
       "    </tr>\n",
       "    <tr>\n",
       "      <th>83</th>\n",
       "      <td>RPS9</td>\n",
       "    </tr>\n",
       "    <tr>\n",
       "      <th>84</th>\n",
       "      <td>RPSA</td>\n",
       "    </tr>\n",
       "    <tr>\n",
       "      <th>85</th>\n",
       "      <td>RSL24D1</td>\n",
       "    </tr>\n",
       "    <tr>\n",
       "      <th>86</th>\n",
       "      <td>RSL24D1P11</td>\n",
       "    </tr>\n",
       "    <tr>\n",
       "      <th>87</th>\n",
       "      <td>UBA52</td>\n",
       "    </tr>\n",
       "  </tbody>\n",
       "</table>\n",
       "<p>88 rows × 1 columns</p>\n",
       "</div>"
      ],
      "text/plain": [
       "             0\n",
       "0          FAU\n",
       "1       MRPL13\n",
       "2        RPL10\n",
       "3       RPL10A\n",
       "4       RPL10L\n",
       "..         ...\n",
       "83        RPS9\n",
       "84        RPSA\n",
       "85     RSL24D1\n",
       "86  RSL24D1P11\n",
       "87       UBA52\n",
       "\n",
       "[88 rows x 1 columns]"
      ]
     },
     "execution_count": 64,
     "metadata": {},
     "output_type": "execute_result"
    }
   ],
   "source": [
    "# Download and read ribosomal genes into python using MsigDB KEGG Ribosome Gene enrichment term.\n",
    "ribo_url = \"http://software.broadinstitute.org/gsea/msigdb/download_geneset.jsp?geneSetName=KEGG_RIBOSOME&fileType=txt\"\n",
    "# When reading the txt file we need to skip the first two rows since those contain the linke and the KEGG Pathway name. \n",
    "ribo_genes = pd.read_table(ribo_url, skiprows=2, header=None)\n",
    "ribo_genes"
   ]
  },
  {
   "cell_type": "markdown",
   "id": "7a826f06-ca5a-431d-a97a-e16617b8106c",
   "metadata": {},
   "source": [
    "As we can see, the ribosomal gene names in our list follow the human naming convention, where all letters are capitalized. However, our dataset is from mouse, and in mouse gene nomenclature, only the first letter is capitalized while the rest are lowercase (see code output below). Therefore, we need to adjust our ribosomal gene list accordingly by converting the gene names to the correct mouse format."
   ]
  },
  {
   "cell_type": "code",
   "execution_count": 70,
   "id": "d35c0c17-8fbd-4cae-8f29-9b23010452c3",
   "metadata": {
    "execution": {
     "iopub.execute_input": "2025-07-28T19:03:37.771652Z",
     "iopub.status.busy": "2025-07-28T19:03:37.769070Z",
     "iopub.status.idle": "2025-07-28T19:03:37.829920Z",
     "shell.execute_reply": "2025-07-28T19:03:37.829074Z",
     "shell.execute_reply.started": "2025-07-28T19:03:37.771562Z"
    }
   },
   "outputs": [
    {
     "data": {
      "text/plain": [
       "Index(['Rps6kc1', 'Rps21', 'Rps4x', 'Rps6ka6', 'Rps6ka3', 'Rps3a1', 'Rps27',\n",
       "       'Rps20', 'Rps6', 'Rps8', 'Rps6ka1', 'Rps9', 'Rps5', 'Rps19', 'Rps16',\n",
       "       'Rps11', 'Rps17', 'Rps3', 'Rps13', 'Rps15a', 'Rps12', 'Rps15', 'Rps26',\n",
       "       'Rps24', 'Rps25', 'Rps27l', 'Rps27rt', 'Rpsa', 'Rps27a', 'Rps6kb1',\n",
       "       'Rps23', 'Rps7', 'Rps29', 'Rps6kl1', 'Rps6ka5', 'Rps19bp1', 'Rps6ka2',\n",
       "       'Rps2', 'Rps10', 'Rps28', 'Rps18', 'Rps14', 'Rps6kb2', 'Rps6ka4',\n",
       "       'Rps12-ps3'],\n",
       "      dtype='object')"
      ]
     },
     "execution_count": 70,
     "metadata": {},
     "output_type": "execute_result"
    }
   ],
   "source": [
    "adata.var_names[adata.var_names.str.contains(\"Rps\")]"
   ]
  },
  {
   "cell_type": "code",
   "execution_count": 76,
   "id": "a989dda3-a01c-4b90-8231-69f32a9c12a3",
   "metadata": {
    "execution": {
     "iopub.execute_input": "2025-07-28T19:10:47.705911Z",
     "iopub.status.busy": "2025-07-28T19:10:47.704002Z",
     "iopub.status.idle": "2025-07-28T19:10:47.729853Z",
     "shell.execute_reply": "2025-07-28T19:10:47.729283Z",
     "shell.execute_reply.started": "2025-07-28T19:10:47.705790Z"
    }
   },
   "outputs": [
    {
     "data": {
      "text/html": [
       "<div>\n",
       "<style scoped>\n",
       "    .dataframe tbody tr th:only-of-type {\n",
       "        vertical-align: middle;\n",
       "    }\n",
       "\n",
       "    .dataframe tbody tr th {\n",
       "        vertical-align: top;\n",
       "    }\n",
       "\n",
       "    .dataframe thead th {\n",
       "        text-align: right;\n",
       "    }\n",
       "</style>\n",
       "<table border=\"1\" class=\"dataframe\">\n",
       "  <thead>\n",
       "    <tr style=\"text-align: right;\">\n",
       "      <th></th>\n",
       "      <th>0</th>\n",
       "    </tr>\n",
       "  </thead>\n",
       "  <tbody>\n",
       "    <tr>\n",
       "      <th>0</th>\n",
       "      <td>Fau</td>\n",
       "    </tr>\n",
       "    <tr>\n",
       "      <th>1</th>\n",
       "      <td>Mrpl13</td>\n",
       "    </tr>\n",
       "    <tr>\n",
       "      <th>2</th>\n",
       "      <td>Rpl10</td>\n",
       "    </tr>\n",
       "    <tr>\n",
       "      <th>3</th>\n",
       "      <td>Rpl10a</td>\n",
       "    </tr>\n",
       "    <tr>\n",
       "      <th>4</th>\n",
       "      <td>Rpl10l</td>\n",
       "    </tr>\n",
       "    <tr>\n",
       "      <th>...</th>\n",
       "      <td>...</td>\n",
       "    </tr>\n",
       "    <tr>\n",
       "      <th>83</th>\n",
       "      <td>Rps9</td>\n",
       "    </tr>\n",
       "    <tr>\n",
       "      <th>84</th>\n",
       "      <td>Rpsa</td>\n",
       "    </tr>\n",
       "    <tr>\n",
       "      <th>85</th>\n",
       "      <td>Rsl24d1</td>\n",
       "    </tr>\n",
       "    <tr>\n",
       "      <th>86</th>\n",
       "      <td>Rsl24d1p11</td>\n",
       "    </tr>\n",
       "    <tr>\n",
       "      <th>87</th>\n",
       "      <td>Uba52</td>\n",
       "    </tr>\n",
       "  </tbody>\n",
       "</table>\n",
       "<p>88 rows × 1 columns</p>\n",
       "</div>"
      ],
      "text/plain": [
       "             0\n",
       "0          Fau\n",
       "1       Mrpl13\n",
       "2        Rpl10\n",
       "3       Rpl10a\n",
       "4       Rpl10l\n",
       "..         ...\n",
       "83        Rps9\n",
       "84        Rpsa\n",
       "85     Rsl24d1\n",
       "86  Rsl24d1p11\n",
       "87       Uba52\n",
       "\n",
       "[88 rows x 1 columns]"
      ]
     },
     "execution_count": 76,
     "metadata": {},
     "output_type": "execute_result"
    }
   ],
   "source": [
    "# Update Ribosome list so that only first letter is capitalized\n",
    "ribo_genes[0] = ribo_genes[0].apply(lambda x: x.capitalize())\n",
    "ribo_genes"
   ]
  },
  {
   "cell_type": "code",
   "execution_count": 77,
   "id": "ef1304a4-3cd0-4765-9421-4afa2f2318a3",
   "metadata": {
    "execution": {
     "iopub.execute_input": "2025-07-28T19:24:20.738424Z",
     "iopub.status.busy": "2025-07-28T19:24:20.736806Z",
     "iopub.status.idle": "2025-07-28T19:24:29.099450Z",
     "shell.execute_reply": "2025-07-28T19:24:29.097870Z",
     "shell.execute_reply.started": "2025-07-28T19:24:20.738366Z"
    }
   },
   "outputs": [
    {
     "name": "stderr",
     "output_type": "stream",
     "text": [
      "/var/folders/vn/wdw36m4d5k13n07b5xlhgmsr0000gn/T/ipykernel_31182/640738055.py:1: ImplicitModificationWarning: Trying to modify attribute `.var` of view, initializing view as actual.\n",
      "  adata.var['ribo'] = adata.var_names.isin(ribo_genes[0].values)\n"
     ]
    }
   ],
   "source": [
    "# Annotate which genes are ribosomal or not in adata.var\n",
    "adata.var['ribo'] = adata.var_names.isin(ribo_genes[0].values)"
   ]
  },
  {
   "cell_type": "code",
   "execution_count": 95,
   "id": "f04e718b-c81f-448f-9c45-2a5f5e8622bb",
   "metadata": {
    "execution": {
     "iopub.execute_input": "2025-07-28T19:42:59.653490Z",
     "iopub.status.busy": "2025-07-28T19:42:59.650505Z",
     "iopub.status.idle": "2025-07-28T19:42:59.677279Z",
     "shell.execute_reply": "2025-07-28T19:42:59.676622Z",
     "shell.execute_reply.started": "2025-07-28T19:42:59.653393Z"
    }
   },
   "outputs": [],
   "source": [
    "# Annotate which genes are mitochondrial or not in adata.var\n",
    "adata.var['mt'] = adata.var.index.str.startswith('mt-')"
   ]
  },
  {
   "cell_type": "code",
   "execution_count": 99,
   "id": "60581480-6280-43d5-84b7-3210e8c7fb54",
   "metadata": {
    "execution": {
     "iopub.execute_input": "2025-07-28T19:58:22.739294Z",
     "iopub.status.busy": "2025-07-28T19:58:22.737266Z",
     "iopub.status.idle": "2025-07-28T19:58:40.131447Z",
     "shell.execute_reply": "2025-07-28T19:58:40.130624Z",
     "shell.execute_reply.started": "2025-07-28T19:58:22.739191Z"
    }
   },
   "outputs": [],
   "source": [
    "# Calculate QC Metrics using scanpy function.\n",
    "sc.pp.calculate_qc_metrics(adata, qc_vars=('ribo','mt'),inplace=True,log1p=False,percent_top=(50,100))"
   ]
  },
  {
   "cell_type": "markdown",
   "id": "09f3e7f7-11ad-4d13-b42c-1db193aa550d",
   "metadata": {},
   "source": [
    "**qc_vars** are boolean columns of variables we want to control for <br>\n",
    "**inplace=True** saves the metrics in adata.obs and adata.vars (n_cells/genes_by_counts are depending on adata object). <br>\n",
    "**percent_top(50,100)** can be used to assess library complexity. It is the cumulative percentage of total counts per cell derived from the top50 (or top100, or top150, etc) highly expressed genes. This tells you how concentrated the reads are. If 70% of reads are accumulated in the top50 highly expressed genes the scRNA-seq library has a low complexity and the data therefore is most likely not suited for detailed anlayses.  <br>\n",
    "Lets first investige library complextiy: "
   ]
  },
  {
   "cell_type": "code",
   "execution_count": 113,
   "id": "f5602daa-64b2-4baf-ad26-a18b6b0510f3",
   "metadata": {
    "execution": {
     "iopub.execute_input": "2025-07-28T20:37:47.138499Z",
     "iopub.status.busy": "2025-07-28T20:37:47.136824Z",
     "iopub.status.idle": "2025-07-28T20:37:47.165429Z",
     "shell.execute_reply": "2025-07-28T20:37:47.162750Z",
     "shell.execute_reply.started": "2025-07-28T20:37:47.138425Z"
    }
   },
   "outputs": [],
   "source": [
    "import matplotlib.pyplot as plt"
   ]
  },
  {
   "cell_type": "code",
   "execution_count": 114,
   "id": "212a4b10-2b48-4f7d-9565-0a0c5e0b57da",
   "metadata": {
    "execution": {
     "iopub.execute_input": "2025-07-28T20:39:30.973662Z",
     "iopub.status.busy": "2025-07-28T20:39:30.971589Z",
     "iopub.status.idle": "2025-07-28T20:39:31.280877Z",
     "shell.execute_reply": "2025-07-28T20:39:31.280508Z",
     "shell.execute_reply.started": "2025-07-28T20:39:30.973570Z"
    }
   },
   "outputs": [
    {
     "data": {
      "image/png": "[encoded data removed]",
      "text/plain": [
       "<Figure size 1200x500 with 2 Axes>"
      ]
     },
     "metadata": {},
     "output_type": "display_data"
    }
   ],
   "source": [
    "# Set figure size and layout\n",
    "fig, axes = plt.subplots(1, 2, figsize=(12, 5), sharey=True)\n",
    "\n",
    "# Histogram for top 50 genes\n",
    "sns.histplot(adata.obs['pct_counts_in_top_50_genes'], bins=50, ax=axes[0], color='steelblue')\n",
    "axes[0].set_title('% Counts in Top 50 Genes')\n",
    "axes[0].set_xlabel('Percentage')\n",
    "axes[0].set_ylabel('Number of Cells')\n",
    "\n",
    "# Histogram for top 100 genes\n",
    "sns.histplot(adata.obs['pct_counts_in_top_100_genes'], bins=50, ax=axes[1], color='seagreen')\n",
    "axes[1].set_title('% Counts in Top 100 Genes')\n",
    "axes[1].set_xlabel('Percentage')\n",
    "\n",
    "plt.tight_layout()\n",
    "plt.show()\n"
   ]
  },
  {
   "cell_type": "markdown",
   "id": "f982ad27-d3b2-42c1-9f5d-e10cd760a294",
   "metadata": {},
   "source": [
    "This plot indicates that the library complexity is generally acceptable. Most cells show an enrichment of 20–40% of total counts in the top 50 most highly expressed genes, which is considered a healthy range. However, a subset of cells displays a much higher enrichment, suggesting that a few genes dominate their expression profiles — typically a sign of lower complexity. That said, these are pancreas samples, and it's well known that certain cell types, particularly acinar cells, naturally express large amounts of digestive enzyme genes. This phenomenon is observed even in bulk RNA-seq data and reflects biological reality rather than technical artifacts. Given this context, we will not apply any additional filtering based on library complexity (e.g., removing cells with high expression of a few genes), as the observed distribution is likely driven by genuine biological features."
   ]
  },
  {
   "cell_type": "code",
   "execution_count": 118,
   "id": "76e19899-d363-4c71-acf2-c541d367f304",
   "metadata": {
    "execution": {
     "iopub.execute_input": "2025-07-28T20:47:28.503003Z",
     "iopub.status.busy": "2025-07-28T20:47:28.500874Z",
     "iopub.status.idle": "2025-07-28T20:47:28.761512Z",
     "shell.execute_reply": "2025-07-28T20:47:28.761079Z",
     "shell.execute_reply.started": "2025-07-28T20:47:28.502893Z"
    }
   },
   "outputs": [
    {
     "data": {
      "image/png": "[encoded data removed]",
      "text/plain": [
       "<Figure size 1200x500 with 2 Axes>"
      ]
     },
     "metadata": {},
     "output_type": "display_data"
    }
   ],
   "source": [
    "fig, axes = plt.subplots(1,2, figsize=(12,5))\n",
    "\n",
    "sns.scatterplot(x=adata.obs['total_counts'],y=adata.obs['pct_counts_in_top_50_genes'],ax=axes[0],color ='steelblue')\n",
    "axes[0].set_title('Counts in Top50 Genes')\n",
    "axes[0].set_xlabel('Total Counts')\n",
    "axes[0].set_ylabel('Percentage')\n",
    "\n",
    "sns.scatterplot(x=adata.obs['total_counts'],y=adata.obs['pct_counts_in_top_100_genes'],ax=axes[1],color ='seagreen')\n",
    "axes[1].set_title('Counts in Top50 Genes')\n",
    "axes[1].set_xlabel('Total Counts')\n",
    "axes[1].set_ylabel('Percentage')\n",
    "\n",
    "plt.tight_layout()\n",
    "plt.show()"
   ]
  },
  {
   "cell_type": "markdown",
   "id": "ce9b713a-e16d-4a88-9f0c-29ed4effbd4f",
   "metadata": {},
   "source": [
    "This plot shows us that cells where few genes account for most of the reads are not necessary cells with low reads. But many of those even have a lot of reads (which is good). For this reason that confirms that this is most likely biology and not an technical artifact (because than one would expect that those cells might have very low reads at all). \n",
    "\n",
    "Next we will filter the genes for expression in cells (are they expressed in any cell) and the cells for total counts if necessary (each cells requires a minimum of counts to be included in the dataset). "
   ]
  },
  {
   "cell_type": "code",
   "execution_count": 101,
   "id": "72daa2ca-244d-4403-9ed1-3e7e72979211",
   "metadata": {
    "execution": {
     "iopub.execute_input": "2025-07-28T20:01:45.160985Z",
     "iopub.status.busy": "2025-07-28T20:01:45.159113Z",
     "iopub.status.idle": "2025-07-28T20:01:45.189082Z",
     "shell.execute_reply": "2025-07-28T20:01:45.187600Z",
     "shell.execute_reply.started": "2025-07-28T20:01:45.160857Z"
    }
   },
   "outputs": [
    {
     "data": {
      "text/html": [
       "<div>\n",
       "<style scoped>\n",
       "    .dataframe tbody tr th:only-of-type {\n",
       "        vertical-align: middle;\n",
       "    }\n",
       "\n",
       "    .dataframe tbody tr th {\n",
       "        vertical-align: top;\n",
       "    }\n",
       "\n",
       "    .dataframe thead th {\n",
       "        text-align: right;\n",
       "    }\n",
       "</style>\n",
       "<table border=\"1\" class=\"dataframe\">\n",
       "  <thead>\n",
       "    <tr style=\"text-align: right;\">\n",
       "      <th></th>\n",
       "      <th>ribo</th>\n",
       "      <th>mt</th>\n",
       "      <th>n_cells_by_counts</th>\n",
       "      <th>mean_counts</th>\n",
       "      <th>pct_dropout_by_counts</th>\n",
       "      <th>total_counts</th>\n",
       "    </tr>\n",
       "  </thead>\n",
       "  <tbody>\n",
       "    <tr>\n",
       "      <th>Xkr4</th>\n",
       "      <td>False</td>\n",
       "      <td>False</td>\n",
       "      <td>343</td>\n",
       "      <td>0.012730</td>\n",
       "      <td>98.806957</td>\n",
       "      <td>366.0</td>\n",
       "    </tr>\n",
       "    <tr>\n",
       "      <th>Gm1992</th>\n",
       "      <td>False</td>\n",
       "      <td>False</td>\n",
       "      <td>0</td>\n",
       "      <td>0.000000</td>\n",
       "      <td>100.000000</td>\n",
       "      <td>0.0</td>\n",
       "    </tr>\n",
       "    <tr>\n",
       "      <th>Gm37381</th>\n",
       "      <td>False</td>\n",
       "      <td>False</td>\n",
       "      <td>1</td>\n",
       "      <td>0.000035</td>\n",
       "      <td>99.996522</td>\n",
       "      <td>1.0</td>\n",
       "    </tr>\n",
       "    <tr>\n",
       "      <th>Rp1</th>\n",
       "      <td>False</td>\n",
       "      <td>False</td>\n",
       "      <td>8</td>\n",
       "      <td>0.000348</td>\n",
       "      <td>99.972174</td>\n",
       "      <td>10.0</td>\n",
       "    </tr>\n",
       "    <tr>\n",
       "      <th>Sox17</th>\n",
       "      <td>False</td>\n",
       "      <td>False</td>\n",
       "      <td>851</td>\n",
       "      <td>0.067443</td>\n",
       "      <td>97.040000</td>\n",
       "      <td>1939.0</td>\n",
       "    </tr>\n",
       "    <tr>\n",
       "      <th>...</th>\n",
       "      <td>...</td>\n",
       "      <td>...</td>\n",
       "      <td>...</td>\n",
       "      <td>...</td>\n",
       "      <td>...</td>\n",
       "      <td>...</td>\n",
       "    </tr>\n",
       "    <tr>\n",
       "      <th>AC168977.1</th>\n",
       "      <td>False</td>\n",
       "      <td>False</td>\n",
       "      <td>1</td>\n",
       "      <td>0.000035</td>\n",
       "      <td>99.996522</td>\n",
       "      <td>1.0</td>\n",
       "    </tr>\n",
       "    <tr>\n",
       "      <th>AC149090.1</th>\n",
       "      <td>False</td>\n",
       "      <td>False</td>\n",
       "      <td>7545</td>\n",
       "      <td>0.452800</td>\n",
       "      <td>73.756522</td>\n",
       "      <td>13018.0</td>\n",
       "    </tr>\n",
       "    <tr>\n",
       "      <th>CAAA01118383.1</th>\n",
       "      <td>False</td>\n",
       "      <td>False</td>\n",
       "      <td>8646</td>\n",
       "      <td>0.478261</td>\n",
       "      <td>69.926957</td>\n",
       "      <td>13750.0</td>\n",
       "    </tr>\n",
       "    <tr>\n",
       "      <th>Vmn2r122</th>\n",
       "      <td>False</td>\n",
       "      <td>False</td>\n",
       "      <td>0</td>\n",
       "      <td>0.000000</td>\n",
       "      <td>100.000000</td>\n",
       "      <td>0.0</td>\n",
       "    </tr>\n",
       "    <tr>\n",
       "      <th>CAAA01147332.1</th>\n",
       "      <td>False</td>\n",
       "      <td>False</td>\n",
       "      <td>903</td>\n",
       "      <td>0.032243</td>\n",
       "      <td>96.859130</td>\n",
       "      <td>927.0</td>\n",
       "    </tr>\n",
       "  </tbody>\n",
       "</table>\n",
       "<p>31053 rows × 6 columns</p>\n",
       "</div>"
      ],
      "text/plain": [
       "                 ribo     mt  n_cells_by_counts  mean_counts  \\\n",
       "Xkr4            False  False                343     0.012730   \n",
       "Gm1992          False  False                  0     0.000000   \n",
       "Gm37381         False  False                  1     0.000035   \n",
       "Rp1             False  False                  8     0.000348   \n",
       "Sox17           False  False                851     0.067443   \n",
       "...               ...    ...                ...          ...   \n",
       "AC168977.1      False  False                  1     0.000035   \n",
       "AC149090.1      False  False               7545     0.452800   \n",
       "CAAA01118383.1  False  False               8646     0.478261   \n",
       "Vmn2r122        False  False                  0     0.000000   \n",
       "CAAA01147332.1  False  False                903     0.032243   \n",
       "\n",
       "                pct_dropout_by_counts  total_counts  \n",
       "Xkr4                        98.806957         366.0  \n",
       "Gm1992                     100.000000           0.0  \n",
       "Gm37381                     99.996522           1.0  \n",
       "Rp1                         99.972174          10.0  \n",
       "Sox17                       97.040000        1939.0  \n",
       "...                               ...           ...  \n",
       "AC168977.1                  99.996522           1.0  \n",
       "AC149090.1                  73.756522       13018.0  \n",
       "CAAA01118383.1              69.926957       13750.0  \n",
       "Vmn2r122                   100.000000           0.0  \n",
       "CAAA01147332.1              96.859130         927.0  \n",
       "\n",
       "[31053 rows x 6 columns]"
      ]
     },
     "execution_count": 101,
     "metadata": {},
     "output_type": "execute_result"
    }
   ],
   "source": [
    "adata.var"
   ]
  },
  {
   "cell_type": "markdown",
   "id": "69abba32-8624-4c0f-a63e-329550e1ab82",
   "metadata": {},
   "source": [
    "Are all genes expressed or can we remove genes which are not expressed in any cell? As we see already above Gm1992 is not found in any cells. When we sort the values fo the n_cells_by_counts we will identify more genes that are not expressed. "
   ]
  },
  {
   "cell_type": "code",
   "execution_count": 102,
   "id": "ff0d5702-ff41-4cf8-9708-bcbba1e60a13",
   "metadata": {
    "execution": {
     "iopub.execute_input": "2025-07-28T20:12:19.912987Z",
     "iopub.status.busy": "2025-07-28T20:12:19.912353Z",
     "iopub.status.idle": "2025-07-28T20:12:19.957591Z",
     "shell.execute_reply": "2025-07-28T20:12:19.956861Z",
     "shell.execute_reply.started": "2025-07-28T20:12:19.912924Z"
    }
   },
   "outputs": [
    {
     "data": {
      "text/html": [
       "<div>\n",
       "<style scoped>\n",
       "    .dataframe tbody tr th:only-of-type {\n",
       "        vertical-align: middle;\n",
       "    }\n",
       "\n",
       "    .dataframe tbody tr th {\n",
       "        vertical-align: top;\n",
       "    }\n",
       "\n",
       "    .dataframe thead th {\n",
       "        text-align: right;\n",
       "    }\n",
       "</style>\n",
       "<table border=\"1\" class=\"dataframe\">\n",
       "  <thead>\n",
       "    <tr style=\"text-align: right;\">\n",
       "      <th></th>\n",
       "      <th>ribo</th>\n",
       "      <th>mt</th>\n",
       "      <th>n_cells_by_counts</th>\n",
       "      <th>mean_counts</th>\n",
       "      <th>pct_dropout_by_counts</th>\n",
       "      <th>total_counts</th>\n",
       "    </tr>\n",
       "  </thead>\n",
       "  <tbody>\n",
       "    <tr>\n",
       "      <th>D13Ertd608e</th>\n",
       "      <td>False</td>\n",
       "      <td>False</td>\n",
       "      <td>0</td>\n",
       "      <td>0.000000</td>\n",
       "      <td>100.000000</td>\n",
       "      <td>0.0</td>\n",
       "    </tr>\n",
       "    <tr>\n",
       "      <th>Gm28434</th>\n",
       "      <td>False</td>\n",
       "      <td>False</td>\n",
       "      <td>0</td>\n",
       "      <td>0.000000</td>\n",
       "      <td>100.000000</td>\n",
       "      <td>0.0</td>\n",
       "    </tr>\n",
       "    <tr>\n",
       "      <th>Cabs1</th>\n",
       "      <td>False</td>\n",
       "      <td>False</td>\n",
       "      <td>0</td>\n",
       "      <td>0.000000</td>\n",
       "      <td>100.000000</td>\n",
       "      <td>0.0</td>\n",
       "    </tr>\n",
       "    <tr>\n",
       "      <th>Smr3a</th>\n",
       "      <td>False</td>\n",
       "      <td>False</td>\n",
       "      <td>0</td>\n",
       "      <td>0.000000</td>\n",
       "      <td>100.000000</td>\n",
       "      <td>0.0</td>\n",
       "    </tr>\n",
       "    <tr>\n",
       "      <th>Smr2</th>\n",
       "      <td>False</td>\n",
       "      <td>False</td>\n",
       "      <td>0</td>\n",
       "      <td>0.000000</td>\n",
       "      <td>100.000000</td>\n",
       "      <td>0.0</td>\n",
       "    </tr>\n",
       "    <tr>\n",
       "      <th>...</th>\n",
       "      <td>...</td>\n",
       "      <td>...</td>\n",
       "      <td>...</td>\n",
       "      <td>...</td>\n",
       "      <td>...</td>\n",
       "      <td>...</td>\n",
       "    </tr>\n",
       "    <tr>\n",
       "      <th>Ctrb1</th>\n",
       "      <td>False</td>\n",
       "      <td>False</td>\n",
       "      <td>28326</td>\n",
       "      <td>404.873009</td>\n",
       "      <td>1.474783</td>\n",
       "      <td>11640099.0</td>\n",
       "    </tr>\n",
       "    <tr>\n",
       "      <th>Rpl13</th>\n",
       "      <td>True</td>\n",
       "      <td>False</td>\n",
       "      <td>28378</td>\n",
       "      <td>97.232070</td>\n",
       "      <td>1.293913</td>\n",
       "      <td>2795422.0</td>\n",
       "    </tr>\n",
       "    <tr>\n",
       "      <th>Gm42418</th>\n",
       "      <td>False</td>\n",
       "      <td>False</td>\n",
       "      <td>28456</td>\n",
       "      <td>212.295826</td>\n",
       "      <td>1.022609</td>\n",
       "      <td>6103505.0</td>\n",
       "    </tr>\n",
       "    <tr>\n",
       "      <th>mt-Atp6</th>\n",
       "      <td>False</td>\n",
       "      <td>True</td>\n",
       "      <td>28476</td>\n",
       "      <td>158.565183</td>\n",
       "      <td>0.953043</td>\n",
       "      <td>4558749.0</td>\n",
       "    </tr>\n",
       "    <tr>\n",
       "      <th>Tpt1</th>\n",
       "      <td>False</td>\n",
       "      <td>False</td>\n",
       "      <td>28593</td>\n",
       "      <td>120.264035</td>\n",
       "      <td>0.546087</td>\n",
       "      <td>3457591.0</td>\n",
       "    </tr>\n",
       "  </tbody>\n",
       "</table>\n",
       "<p>31053 rows × 6 columns</p>\n",
       "</div>"
      ],
      "text/plain": [
       "              ribo     mt  n_cells_by_counts  mean_counts  \\\n",
       "D13Ertd608e  False  False                  0     0.000000   \n",
       "Gm28434      False  False                  0     0.000000   \n",
       "Cabs1        False  False                  0     0.000000   \n",
       "Smr3a        False  False                  0     0.000000   \n",
       "Smr2         False  False                  0     0.000000   \n",
       "...            ...    ...                ...          ...   \n",
       "Ctrb1        False  False              28326   404.873009   \n",
       "Rpl13         True  False              28378    97.232070   \n",
       "Gm42418      False  False              28456   212.295826   \n",
       "mt-Atp6      False   True              28476   158.565183   \n",
       "Tpt1         False  False              28593   120.264035   \n",
       "\n",
       "             pct_dropout_by_counts  total_counts  \n",
       "D13Ertd608e             100.000000           0.0  \n",
       "Gm28434                 100.000000           0.0  \n",
       "Cabs1                   100.000000           0.0  \n",
       "Smr3a                   100.000000           0.0  \n",
       "Smr2                    100.000000           0.0  \n",
       "...                            ...           ...  \n",
       "Ctrb1                     1.474783    11640099.0  \n",
       "Rpl13                     1.293913     2795422.0  \n",
       "Gm42418                   1.022609     6103505.0  \n",
       "mt-Atp6                   0.953043     4558749.0  \n",
       "Tpt1                      0.546087     3457591.0  \n",
       "\n",
       "[31053 rows x 6 columns]"
      ]
     },
     "execution_count": 102,
     "metadata": {},
     "output_type": "execute_result"
    }
   ],
   "source": [
    "adata.var.sort_values('n_cells_by_counts')"
   ]
  },
  {
   "cell_type": "markdown",
   "id": "2debea8b-ea5a-48b6-b8ea-8653bb3efe84",
   "metadata": {},
   "source": [
    "Lets filter out all genes which are not expressed at least in 5 cells."
   ]
  },
  {
   "cell_type": "code",
   "execution_count": 108,
   "id": "d777077f-4905-400b-9ab7-ca37910c6111",
   "metadata": {
    "execution": {
     "iopub.execute_input": "2025-07-28T20:23:32.206243Z",
     "iopub.status.busy": "2025-07-28T20:23:32.204341Z",
     "iopub.status.idle": "2025-07-28T20:23:39.794488Z",
     "shell.execute_reply": "2025-07-28T20:23:39.793668Z",
     "shell.execute_reply.started": "2025-07-28T20:23:32.206149Z"
    }
   },
   "outputs": [],
   "source": [
    "#Filter genes that they need to occur at least in 5 cells\n",
    "sc.pp.filter_genes(adata,min_cells=5)"
   ]
  },
  {
   "cell_type": "code",
   "execution_count": 111,
   "id": "49412e27-f27b-48b3-ac7f-0e4cee36dcb6",
   "metadata": {
    "execution": {
     "iopub.execute_input": "2025-07-28T20:25:05.674063Z",
     "iopub.status.busy": "2025-07-28T20:25:05.673335Z",
     "iopub.status.idle": "2025-07-28T20:25:05.699894Z",
     "shell.execute_reply": "2025-07-28T20:25:05.699311Z",
     "shell.execute_reply.started": "2025-07-28T20:25:05.674012Z"
    }
   },
   "outputs": [
    {
     "data": {
      "text/html": [
       "<div>\n",
       "<style scoped>\n",
       "    .dataframe tbody tr th:only-of-type {\n",
       "        vertical-align: middle;\n",
       "    }\n",
       "\n",
       "    .dataframe tbody tr th {\n",
       "        vertical-align: top;\n",
       "    }\n",
       "\n",
       "    .dataframe thead th {\n",
       "        text-align: right;\n",
       "    }\n",
       "</style>\n",
       "<table border=\"1\" class=\"dataframe\">\n",
       "  <thead>\n",
       "    <tr style=\"text-align: right;\">\n",
       "      <th></th>\n",
       "      <th>ribo</th>\n",
       "      <th>mt</th>\n",
       "      <th>n_cells_by_counts</th>\n",
       "      <th>mean_counts</th>\n",
       "      <th>pct_dropout_by_counts</th>\n",
       "      <th>total_counts</th>\n",
       "      <th>n_cells</th>\n",
       "    </tr>\n",
       "  </thead>\n",
       "  <tbody>\n",
       "    <tr>\n",
       "      <th>Gpr83</th>\n",
       "      <td>False</td>\n",
       "      <td>False</td>\n",
       "      <td>5</td>\n",
       "      <td>0.000174</td>\n",
       "      <td>99.982609</td>\n",
       "      <td>5.0</td>\n",
       "      <td>5</td>\n",
       "    </tr>\n",
       "    <tr>\n",
       "      <th>Myo3b</th>\n",
       "      <td>False</td>\n",
       "      <td>False</td>\n",
       "      <td>5</td>\n",
       "      <td>0.000174</td>\n",
       "      <td>99.982609</td>\n",
       "      <td>5.0</td>\n",
       "      <td>5</td>\n",
       "    </tr>\n",
       "    <tr>\n",
       "      <th>Gm36945</th>\n",
       "      <td>False</td>\n",
       "      <td>False</td>\n",
       "      <td>5</td>\n",
       "      <td>0.000209</td>\n",
       "      <td>99.982609</td>\n",
       "      <td>6.0</td>\n",
       "      <td>5</td>\n",
       "    </tr>\n",
       "    <tr>\n",
       "      <th>Gm38843</th>\n",
       "      <td>False</td>\n",
       "      <td>False</td>\n",
       "      <td>5</td>\n",
       "      <td>0.000174</td>\n",
       "      <td>99.982609</td>\n",
       "      <td>5.0</td>\n",
       "      <td>5</td>\n",
       "    </tr>\n",
       "    <tr>\n",
       "      <th>Gm44633</th>\n",
       "      <td>False</td>\n",
       "      <td>False</td>\n",
       "      <td>5</td>\n",
       "      <td>0.000174</td>\n",
       "      <td>99.982609</td>\n",
       "      <td>5.0</td>\n",
       "      <td>5</td>\n",
       "    </tr>\n",
       "    <tr>\n",
       "      <th>...</th>\n",
       "      <td>...</td>\n",
       "      <td>...</td>\n",
       "      <td>...</td>\n",
       "      <td>...</td>\n",
       "      <td>...</td>\n",
       "      <td>...</td>\n",
       "      <td>...</td>\n",
       "    </tr>\n",
       "    <tr>\n",
       "      <th>Ctrb1</th>\n",
       "      <td>False</td>\n",
       "      <td>False</td>\n",
       "      <td>28326</td>\n",
       "      <td>404.873009</td>\n",
       "      <td>1.474783</td>\n",
       "      <td>11640099.0</td>\n",
       "      <td>28326</td>\n",
       "    </tr>\n",
       "    <tr>\n",
       "      <th>Rpl13</th>\n",
       "      <td>True</td>\n",
       "      <td>False</td>\n",
       "      <td>28378</td>\n",
       "      <td>97.232070</td>\n",
       "      <td>1.293913</td>\n",
       "      <td>2795422.0</td>\n",
       "      <td>28378</td>\n",
       "    </tr>\n",
       "    <tr>\n",
       "      <th>Gm42418</th>\n",
       "      <td>False</td>\n",
       "      <td>False</td>\n",
       "      <td>28456</td>\n",
       "      <td>212.295826</td>\n",
       "      <td>1.022609</td>\n",
       "      <td>6103505.0</td>\n",
       "      <td>28456</td>\n",
       "    </tr>\n",
       "    <tr>\n",
       "      <th>mt-Atp6</th>\n",
       "      <td>False</td>\n",
       "      <td>True</td>\n",
       "      <td>28476</td>\n",
       "      <td>158.565183</td>\n",
       "      <td>0.953043</td>\n",
       "      <td>4558749.0</td>\n",
       "      <td>28476</td>\n",
       "    </tr>\n",
       "    <tr>\n",
       "      <th>Tpt1</th>\n",
       "      <td>False</td>\n",
       "      <td>False</td>\n",
       "      <td>28593</td>\n",
       "      <td>120.264035</td>\n",
       "      <td>0.546087</td>\n",
       "      <td>3457591.0</td>\n",
       "      <td>28593</td>\n",
       "    </tr>\n",
       "  </tbody>\n",
       "</table>\n",
       "<p>17902 rows × 7 columns</p>\n",
       "</div>"
      ],
      "text/plain": [
       "          ribo     mt  n_cells_by_counts  mean_counts  pct_dropout_by_counts  \\\n",
       "Gpr83    False  False                  5     0.000174              99.982609   \n",
       "Myo3b    False  False                  5     0.000174              99.982609   \n",
       "Gm36945  False  False                  5     0.000209              99.982609   \n",
       "Gm38843  False  False                  5     0.000174              99.982609   \n",
       "Gm44633  False  False                  5     0.000174              99.982609   \n",
       "...        ...    ...                ...          ...                    ...   \n",
       "Ctrb1    False  False              28326   404.873009               1.474783   \n",
       "Rpl13     True  False              28378    97.232070               1.293913   \n",
       "Gm42418  False  False              28456   212.295826               1.022609   \n",
       "mt-Atp6  False   True              28476   158.565183               0.953043   \n",
       "Tpt1     False  False              28593   120.264035               0.546087   \n",
       "\n",
       "         total_counts  n_cells  \n",
       "Gpr83             5.0        5  \n",
       "Myo3b             5.0        5  \n",
       "Gm36945           6.0        5  \n",
       "Gm38843           5.0        5  \n",
       "Gm44633           5.0        5  \n",
       "...               ...      ...  \n",
       "Ctrb1      11640099.0    28326  \n",
       "Rpl13       2795422.0    28378  \n",
       "Gm42418     6103505.0    28456  \n",
       "mt-Atp6     4558749.0    28476  \n",
       "Tpt1        3457591.0    28593  \n",
       "\n",
       "[17902 rows x 7 columns]"
      ]
     },
     "execution_count": 111,
     "metadata": {},
     "output_type": "execute_result"
    }
   ],
   "source": [
    "#Confirm shortly that filtering worked\n",
    "adata.var.sort_values('n_cells_by_counts')"
   ]
  },
  {
   "cell_type": "code",
   "execution_count": 112,
   "id": "f8edcf95-ace3-45e9-b037-2d1bdc8f1410",
   "metadata": {
    "execution": {
     "iopub.execute_input": "2025-07-28T20:25:47.287566Z",
     "iopub.status.busy": "2025-07-28T20:25:47.285284Z",
     "iopub.status.idle": "2025-07-28T20:25:47.322307Z",
     "shell.execute_reply": "2025-07-28T20:25:47.321776Z",
     "shell.execute_reply.started": "2025-07-28T20:25:47.287470Z"
    }
   },
   "outputs": [
    {
     "data": {
      "text/html": [
       "<div>\n",
       "<style scoped>\n",
       "    .dataframe tbody tr th:only-of-type {\n",
       "        vertical-align: middle;\n",
       "    }\n",
       "\n",
       "    .dataframe tbody tr th {\n",
       "        vertical-align: top;\n",
       "    }\n",
       "\n",
       "    .dataframe thead th {\n",
       "        text-align: right;\n",
       "    }\n",
       "</style>\n",
       "<table border=\"1\" class=\"dataframe\">\n",
       "  <thead>\n",
       "    <tr style=\"text-align: right;\">\n",
       "      <th></th>\n",
       "      <th>doublet</th>\n",
       "      <th>n_genes_by_counts</th>\n",
       "      <th>total_counts</th>\n",
       "      <th>pct_counts_in_top_50_genes</th>\n",
       "      <th>pct_counts_in_top_100_genes</th>\n",
       "      <th>total_counts_ribo</th>\n",
       "      <th>pct_counts_ribo</th>\n",
       "      <th>total_counts_mt</th>\n",
       "      <th>pct_counts_mt</th>\n",
       "    </tr>\n",
       "  </thead>\n",
       "  <tbody>\n",
       "    <tr>\n",
       "      <th>D1_analysis_TGCCGAGTCTTAGGAC</th>\n",
       "      <td>False</td>\n",
       "      <td>216</td>\n",
       "      <td>270.0</td>\n",
       "      <td>38.518519</td>\n",
       "      <td>57.037037</td>\n",
       "      <td>43.0</td>\n",
       "      <td>15.925926</td>\n",
       "      <td>14.0</td>\n",
       "      <td>5.185185</td>\n",
       "    </tr>\n",
       "    <tr>\n",
       "      <th>D7_analysis_TGCCGAGTCTTAGGAC</th>\n",
       "      <td>False</td>\n",
       "      <td>202</td>\n",
       "      <td>479.0</td>\n",
       "      <td>68.267223</td>\n",
       "      <td>78.705637</td>\n",
       "      <td>51.0</td>\n",
       "      <td>10.647182</td>\n",
       "      <td>11.0</td>\n",
       "      <td>2.296451</td>\n",
       "    </tr>\n",
       "    <tr>\n",
       "      <th>D1_analysis_CTGGTCTGTCACTTAG</th>\n",
       "      <td>False</td>\n",
       "      <td>274</td>\n",
       "      <td>493.0</td>\n",
       "      <td>52.332657</td>\n",
       "      <td>64.705882</td>\n",
       "      <td>53.0</td>\n",
       "      <td>10.750506</td>\n",
       "      <td>11.0</td>\n",
       "      <td>2.231237</td>\n",
       "    </tr>\n",
       "    <tr>\n",
       "      <th>D7_analysis_GTTACCCTCATGGATC</th>\n",
       "      <td>False</td>\n",
       "      <td>264</td>\n",
       "      <td>499.0</td>\n",
       "      <td>54.709419</td>\n",
       "      <td>67.134269</td>\n",
       "      <td>56.0</td>\n",
       "      <td>11.222445</td>\n",
       "      <td>31.0</td>\n",
       "      <td>6.212425</td>\n",
       "    </tr>\n",
       "    <tr>\n",
       "      <th>D1_analysis_ATGGTTGGTTCTCCAC</th>\n",
       "      <td>False</td>\n",
       "      <td>364</td>\n",
       "      <td>500.0</td>\n",
       "      <td>34.600000</td>\n",
       "      <td>47.200000</td>\n",
       "      <td>76.0</td>\n",
       "      <td>15.200000</td>\n",
       "      <td>30.0</td>\n",
       "      <td>6.000000</td>\n",
       "    </tr>\n",
       "    <tr>\n",
       "      <th>...</th>\n",
       "      <td>...</td>\n",
       "      <td>...</td>\n",
       "      <td>...</td>\n",
       "      <td>...</td>\n",
       "      <td>...</td>\n",
       "      <td>...</td>\n",
       "      <td>...</td>\n",
       "      <td>...</td>\n",
       "      <td>...</td>\n",
       "    </tr>\n",
       "    <tr>\n",
       "      <th>D28_analysis_TGTGTGACACGAAGAC</th>\n",
       "      <td>False</td>\n",
       "      <td>3261</td>\n",
       "      <td>221185.0</td>\n",
       "      <td>89.265095</td>\n",
       "      <td>93.262201</td>\n",
       "      <td>14141.0</td>\n",
       "      <td>6.393291</td>\n",
       "      <td>1099.0</td>\n",
       "      <td>0.496869</td>\n",
       "    </tr>\n",
       "    <tr>\n",
       "      <th>WT_TAATTCCCAAAGGGTC</th>\n",
       "      <td>False</td>\n",
       "      <td>3819</td>\n",
       "      <td>251561.0</td>\n",
       "      <td>91.998760</td>\n",
       "      <td>94.150524</td>\n",
       "      <td>8843.0</td>\n",
       "      <td>3.515251</td>\n",
       "      <td>790.0</td>\n",
       "      <td>0.314039</td>\n",
       "    </tr>\n",
       "    <tr>\n",
       "      <th>WT_AGGTCATAGACTAAGT</th>\n",
       "      <td>False</td>\n",
       "      <td>5532</td>\n",
       "      <td>295279.0</td>\n",
       "      <td>88.204038</td>\n",
       "      <td>91.085719</td>\n",
       "      <td>13214.0</td>\n",
       "      <td>4.475090</td>\n",
       "      <td>3234.0</td>\n",
       "      <td>1.095235</td>\n",
       "    </tr>\n",
       "    <tr>\n",
       "      <th>D28_analysis_CAGATACAGCATAGGC</th>\n",
       "      <td>False</td>\n",
       "      <td>3891</td>\n",
       "      <td>383551.0</td>\n",
       "      <td>91.803176</td>\n",
       "      <td>94.846578</td>\n",
       "      <td>18963.0</td>\n",
       "      <td>4.944062</td>\n",
       "      <td>811.0</td>\n",
       "      <td>0.211445</td>\n",
       "    </tr>\n",
       "    <tr>\n",
       "      <th>D28_analysis_ACATGCATCTCACTCG</th>\n",
       "      <td>False</td>\n",
       "      <td>4375</td>\n",
       "      <td>470460.0</td>\n",
       "      <td>92.431663</td>\n",
       "      <td>95.231476</td>\n",
       "      <td>20476.0</td>\n",
       "      <td>4.352336</td>\n",
       "      <td>609.0</td>\n",
       "      <td>0.129448</td>\n",
       "    </tr>\n",
       "  </tbody>\n",
       "</table>\n",
       "<p>28750 rows × 9 columns</p>\n",
       "</div>"
      ],
      "text/plain": [
       "                               doublet  n_genes_by_counts  total_counts  \\\n",
       "D1_analysis_TGCCGAGTCTTAGGAC     False                216         270.0   \n",
       "D7_analysis_TGCCGAGTCTTAGGAC     False                202         479.0   \n",
       "D1_analysis_CTGGTCTGTCACTTAG     False                274         493.0   \n",
       "D7_analysis_GTTACCCTCATGGATC     False                264         499.0   \n",
       "D1_analysis_ATGGTTGGTTCTCCAC     False                364         500.0   \n",
       "...                                ...                ...           ...   \n",
       "D28_analysis_TGTGTGACACGAAGAC    False               3261      221185.0   \n",
       "WT_TAATTCCCAAAGGGTC              False               3819      251561.0   \n",
       "WT_AGGTCATAGACTAAGT              False               5532      295279.0   \n",
       "D28_analysis_CAGATACAGCATAGGC    False               3891      383551.0   \n",
       "D28_analysis_ACATGCATCTCACTCG    False               4375      470460.0   \n",
       "\n",
       "                               pct_counts_in_top_50_genes  \\\n",
       "D1_analysis_TGCCGAGTCTTAGGAC                    38.518519   \n",
       "D7_analysis_TGCCGAGTCTTAGGAC                    68.267223   \n",
       "D1_analysis_CTGGTCTGTCACTTAG                    52.332657   \n",
       "D7_analysis_GTTACCCTCATGGATC                    54.709419   \n",
       "D1_analysis_ATGGTTGGTTCTCCAC                    34.600000   \n",
       "...                                                   ...   \n",
       "D28_analysis_TGTGTGACACGAAGAC                   89.265095   \n",
       "WT_TAATTCCCAAAGGGTC                             91.998760   \n",
       "WT_AGGTCATAGACTAAGT                             88.204038   \n",
       "D28_analysis_CAGATACAGCATAGGC                   91.803176   \n",
       "D28_analysis_ACATGCATCTCACTCG                   92.431663   \n",
       "\n",
       "                               pct_counts_in_top_100_genes  total_counts_ribo  \\\n",
       "D1_analysis_TGCCGAGTCTTAGGAC                     57.037037               43.0   \n",
       "D7_analysis_TGCCGAGTCTTAGGAC                     78.705637               51.0   \n",
       "D1_analysis_CTGGTCTGTCACTTAG                     64.705882               53.0   \n",
       "D7_analysis_GTTACCCTCATGGATC                     67.134269               56.0   \n",
       "D1_analysis_ATGGTTGGTTCTCCAC                     47.200000               76.0   \n",
       "...                                                    ...                ...   \n",
       "D28_analysis_TGTGTGACACGAAGAC                    93.262201            14141.0   \n",
       "WT_TAATTCCCAAAGGGTC                              94.150524             8843.0   \n",
       "WT_AGGTCATAGACTAAGT                              91.085719            13214.0   \n",
       "D28_analysis_CAGATACAGCATAGGC                    94.846578            18963.0   \n",
       "D28_analysis_ACATGCATCTCACTCG                    95.231476            20476.0   \n",
       "\n",
       "                               pct_counts_ribo  total_counts_mt  pct_counts_mt  \n",
       "D1_analysis_TGCCGAGTCTTAGGAC         15.925926             14.0       5.185185  \n",
       "D7_analysis_TGCCGAGTCTTAGGAC         10.647182             11.0       2.296451  \n",
       "D1_analysis_CTGGTCTGTCACTTAG         10.750506             11.0       2.231237  \n",
       "D7_analysis_GTTACCCTCATGGATC         11.222445             31.0       6.212425  \n",
       "D1_analysis_ATGGTTGGTTCTCCAC         15.200000             30.0       6.000000  \n",
       "...                                        ...              ...            ...  \n",
       "D28_analysis_TGTGTGACACGAAGAC         6.393291           1099.0       0.496869  \n",
       "WT_TAATTCCCAAAGGGTC                   3.515251            790.0       0.314039  \n",
       "WT_AGGTCATAGACTAAGT                   4.475090           3234.0       1.095235  \n",
       "D28_analysis_CAGATACAGCATAGGC         4.944062            811.0       0.211445  \n",
       "D28_analysis_ACATGCATCTCACTCG         4.352336            609.0       0.129448  \n",
       "\n",
       "[28750 rows x 9 columns]"
      ]
     },
     "execution_count": 112,
     "metadata": {},
     "output_type": "execute_result"
    }
   ],
   "source": [
    "#Checking if we need to filter for total_counts > 200 in cells\n",
    "adata.obs.sort_values('total_counts')"
   ]
  },
  {
   "cell_type": "markdown",
   "id": "99b59f15-e7df-40b3-801c-914d7091b21f",
   "metadata": {},
   "source": [
    "The authors of the paper did apparently filter for all cells that contain more than 200 total counts. For this reason we can continue without filtering. Ohterwise we would use this function of scanpy (the 200 is a good rule of thumb but arbitrary and might change based on data): <br>\n",
    "\n",
    "    sc.pp.filter_cells(adata, min_genes=200) "
   ]
  },
  {
   "cell_type": "code",
   "execution_count": null,
   "id": "2c6ea5c1-3a01-464f-b9ef-cd4bbb1910e9",
   "metadata": {},
   "outputs": [],
   "source": []
  }
 ],
 "metadata": {
  "kernelspec": {
   "display_name": "Python 3 (ipykernel)",
   "language": "python",
   "name": "python3"
  },
  "language_info": {
   "codemirror_mode": {
    "name": "ipython",
    "version": 3
   },
   "file_extension": ".py",
   "mimetype": "text/x-python",
   "name": "python",
   "nbconvert_exporter": "python",
   "pygments_lexer": "ipython3",
   "version": "3.10.6"
  }
 },
 "nbformat": 4,
 "nbformat_minor": 5
}
